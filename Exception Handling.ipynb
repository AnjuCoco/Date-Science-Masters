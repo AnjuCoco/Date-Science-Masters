{
 "cells": [
  {
   "cell_type": "code",
   "execution_count": 5,
   "id": "569435ad-1db2-43d2-afb2-9ca092f3566f",
   "metadata": {},
   "outputs": [],
   "source": [
    "# Exception handling - to handle the errors in codes.\n",
    "# to be used like logging as a standard good practices of writing program"
   ]
  },
  {
   "cell_type": "code",
   "execution_count": 6,
   "id": "3ad80bc9-9c2b-4a6b-9432-2da692da7529",
   "metadata": {},
   "outputs": [],
   "source": [
    "# there are four blocks 'try', 'except', 'else' and 'finally'\n",
    "# try -  one can try the differnt codes but at the same time irrespective to the success of try block\n",
    "# the balance coding line would be executed. the balance part of program remains unaffected \n",
    "# except (with Exception block)- to identify the error in try block and indicate the same. \n",
    "# except block would execute only if there is a problem with try code\n",
    "# else - this block will execute when try block is successful. one can add few lines of programs supporting program in try block\n",
    "# finally - this block contains those codes which are absolute essential for the program\n",
    "# finally block would always execute"
   ]
  },
  {
   "cell_type": "code",
   "execution_count": 1,
   "id": "473f80f7-42e2-4074-ac7f-3a262fe22423",
   "metadata": {},
   "outputs": [
    {
     "ename": "FileNotFoundError",
     "evalue": "[Errno 2] No such file or directory: 'text.txt'",
     "output_type": "error",
     "traceback": [
      "\u001b[0;31m---------------------------------------------------------------------------\u001b[0m",
      "\u001b[0;31mFileNotFoundError\u001b[0m                         Traceback (most recent call last)",
      "Cell \u001b[0;32mIn[1], line 1\u001b[0m\n\u001b[0;32m----> 1\u001b[0m f \u001b[38;5;241m=\u001b[39m \u001b[38;5;28;43mopen\u001b[39;49m\u001b[43m(\u001b[49m\u001b[38;5;124;43m\"\u001b[39;49m\u001b[38;5;124;43mtext.txt\u001b[39;49m\u001b[38;5;124;43m\"\u001b[39;49m\u001b[43m,\u001b[49m\u001b[43m \u001b[49m\u001b[38;5;124;43m'\u001b[39;49m\u001b[38;5;124;43mr\u001b[39;49m\u001b[38;5;124;43m'\u001b[39;49m\u001b[43m)\u001b[49m\n\u001b[1;32m      2\u001b[0m f\u001b[38;5;241m.\u001b[39mwrite(\u001b[38;5;124m\"\u001b[39m\u001b[38;5;124mthis is my first exception handling file\u001b[39m\u001b[38;5;124m\"\u001b[39m)\n",
      "File \u001b[0;32m/opt/conda/lib/python3.10/site-packages/IPython/core/interactiveshell.py:282\u001b[0m, in \u001b[0;36m_modified_open\u001b[0;34m(file, *args, **kwargs)\u001b[0m\n\u001b[1;32m    275\u001b[0m \u001b[38;5;28;01mif\u001b[39;00m file \u001b[38;5;129;01min\u001b[39;00m {\u001b[38;5;241m0\u001b[39m, \u001b[38;5;241m1\u001b[39m, \u001b[38;5;241m2\u001b[39m}:\n\u001b[1;32m    276\u001b[0m     \u001b[38;5;28;01mraise\u001b[39;00m \u001b[38;5;167;01mValueError\u001b[39;00m(\n\u001b[1;32m    277\u001b[0m         \u001b[38;5;124mf\u001b[39m\u001b[38;5;124m\"\u001b[39m\u001b[38;5;124mIPython won\u001b[39m\u001b[38;5;124m'\u001b[39m\u001b[38;5;124mt let you open fd=\u001b[39m\u001b[38;5;132;01m{\u001b[39;00mfile\u001b[38;5;132;01m}\u001b[39;00m\u001b[38;5;124m by default \u001b[39m\u001b[38;5;124m\"\u001b[39m\n\u001b[1;32m    278\u001b[0m         \u001b[38;5;124m\"\u001b[39m\u001b[38;5;124mas it is likely to crash IPython. If you know what you are doing, \u001b[39m\u001b[38;5;124m\"\u001b[39m\n\u001b[1;32m    279\u001b[0m         \u001b[38;5;124m\"\u001b[39m\u001b[38;5;124myou can use builtins\u001b[39m\u001b[38;5;124m'\u001b[39m\u001b[38;5;124m open.\u001b[39m\u001b[38;5;124m\"\u001b[39m\n\u001b[1;32m    280\u001b[0m     )\n\u001b[0;32m--> 282\u001b[0m \u001b[38;5;28;01mreturn\u001b[39;00m \u001b[43mio_open\u001b[49m\u001b[43m(\u001b[49m\u001b[43mfile\u001b[49m\u001b[43m,\u001b[49m\u001b[43m \u001b[49m\u001b[38;5;241;43m*\u001b[39;49m\u001b[43margs\u001b[49m\u001b[43m,\u001b[49m\u001b[43m \u001b[49m\u001b[38;5;241;43m*\u001b[39;49m\u001b[38;5;241;43m*\u001b[39;49m\u001b[43mkwargs\u001b[49m\u001b[43m)\u001b[49m\n",
      "\u001b[0;31mFileNotFoundError\u001b[0m: [Errno 2] No such file or directory: 'text.txt'"
     ]
    }
   ],
   "source": [
    "f = open(\"text.txt\", 'r')\n",
    "f.write(\"this is my first exception handling file\")"
   ]
  },
  {
   "cell_type": "code",
   "execution_count": 3,
   "id": "9f3e9447-2a70-442e-a421-acf60f2015b4",
   "metadata": {},
   "outputs": [
    {
     "name": "stdout",
     "output_type": "stream",
     "text": [
      "there is some issue with my code [Errno 2] No such file or directory: 'text.txt'\n",
      "this would always execute\n"
     ]
    }
   ],
   "source": [
    "try :\n",
    "    f = open(\"text.txt\", 'r')\n",
    "    f.write(\"this is my first exception handling file\")\n",
    "\n",
    "except Exception as e:\n",
    "    print(\"there is some issue with my code\", e)\n",
    "\n",
    "else : \n",
    "    f.close()\n",
    "    print(\"this block would be executed only after try block is executed successfully\")\n",
    "\n",
    "finally :\n",
    "    print(\"this would always execute\")\n",
    "    \n",
    "    "
   ]
  },
  {
   "cell_type": "code",
   "execution_count": 4,
   "id": "826d96d6-5e78-4e44-950d-5a53862ced34",
   "metadata": {},
   "outputs": [
    {
     "name": "stdout",
     "output_type": "stream",
     "text": [
      "this block would be executed only after try block is executed successfully\n",
      "this would always execute\n"
     ]
    }
   ],
   "source": [
    "try :\n",
    "    f = open(\"text.txt\", 'w')\n",
    "    f.write(\"this is my first exception handling file\")\n",
    "\n",
    "except Exception as e:\n",
    "    print(\"there is some issue with my code\", e)\n",
    "\n",
    "else : \n",
    "    f.close()\n",
    "    print(\"this block would be executed only after try block is executed successfully\")\n",
    "\n",
    "finally :\n",
    "    print(\"this would always execute\")\n",
    "    \n",
    "    "
   ]
  },
  {
   "cell_type": "code",
   "execution_count": null,
   "id": "6c555b3b-c14b-4ab3-9da2-1e1c639fe1e7",
   "metadata": {},
   "outputs": [],
   "source": []
  }
 ],
 "metadata": {
  "kernelspec": {
   "display_name": "Python 3 (ipykernel)",
   "language": "python",
   "name": "python3"
  },
  "language_info": {
   "codemirror_mode": {
    "name": "ipython",
    "version": 3
   },
   "file_extension": ".py",
   "mimetype": "text/x-python",
   "name": "python",
   "nbconvert_exporter": "python",
   "pygments_lexer": "ipython3",
   "version": "3.10.8"
  }
 },
 "nbformat": 4,
 "nbformat_minor": 5
}
