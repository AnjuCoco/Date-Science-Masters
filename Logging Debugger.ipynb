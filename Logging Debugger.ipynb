{
 "cells": [
  {
   "cell_type": "code",
   "execution_count": 24,
   "id": "81e2fdc2-23df-407f-b027-c8d693edbe17",
   "metadata": {},
   "outputs": [],
   "source": [
    "# import logging module\n",
    "import logging"
   ]
  },
  {
   "cell_type": "code",
   "execution_count": 2,
   "id": "22670dfd-308e-4740-8384-0e41dfc46811",
   "metadata": {},
   "outputs": [],
   "source": [
    "# logging to be used to maintain the log for all acivities performed by the compiler while executing the program"
   ]
  },
  {
   "cell_type": "code",
   "execution_count": 3,
   "id": "6bd9f547-07b0-4ec8-b9d4-16659a28cec9",
   "metadata": {},
   "outputs": [],
   "source": [
    "# Hirarchical levels in logging\n",
    "# 1. NOSET \n",
    "# 2. DEBUG \n",
    "# 3. INFO\n",
    "# 4. WARNING\n",
    "# 5. ERROR\n",
    "# 6. CRITICAL"
   ]
  },
  {
   "cell_type": "code",
   "execution_count": 25,
   "id": "33d99a17-7ddc-4923-a107-65ee64b4088e",
   "metadata": {},
   "outputs": [],
   "source": [
    "# creating a file for logging the data for program\n",
    "# %(asctime)s is used for time stamping\n",
    "# %(message)s is used to generate message\n",
    "# %(name)s and %(levelname)s are for file name and level name info\n",
    "logging.basicConfig(filename = \"test1.log\", level = logging.DEBUG, format = '%(asctime)s %(message)s %(name)s %(levelname)s')"
   ]
  },
  {
   "cell_type": "code",
   "execution_count": 26,
   "id": "0d2667cc-d05d-4be6-aa96-9ef756d1864b",
   "metadata": {},
   "outputs": [],
   "source": [
    "l = [1,4,6, 33.99, [3,9,11,33, 78.98, \"sudh\"], \"kumar\"]\n",
    "# write a program to generate two lists one containg integers and other strings. maintain log for events"
   ]
  },
  {
   "cell_type": "code",
   "execution_count": 27,
   "id": "6bbb5a71-45d3-4e2f-b8fa-8e59758c1a9e",
   "metadata": {},
   "outputs": [],
   "source": [
    "l1_int = []\n",
    "l2_str = []\n",
    "for i in l:\n",
    "    logging.info(\"this is a start of 'for' loop {}\".format(l))\n",
    "    logging.info(\"this is a value of i, I am logging in {}\". format(i))\n",
    "    if type(i) == list:\n",
    "        for j in i:\n",
    "            logging.info(\"logging my j as {j} and i as {i}\".format(i = i, j=j))\n",
    "            if type(j) == int:\n",
    "                l1_int.append(j)\n",
    "            elif type(j) == str:\n",
    "                l2_str.append(j)\n",
    "    elif type(i) == int:\n",
    "        l1_int.append(i)\n",
    "    elif type(i) == str:\n",
    "        l2_str.append(i)\n",
    "logging.info(\"this is my final result with all int {l1} and with all str {l2}\".format(l1 = l1_int, l2 = l2_str)) \n",
    "                "
   ]
  },
  {
   "cell_type": "code",
   "execution_count": null,
   "id": "514b562a-d9f1-4dc5-b6aa-7305d0794297",
   "metadata": {},
   "outputs": [],
   "source": [
    " "
   ]
  },
  {
   "cell_type": "code",
   "execution_count": null,
   "id": "a96951d2-c155-4311-a43a-92476a7de41d",
   "metadata": {},
   "outputs": [],
   "source": []
  }
 ],
 "metadata": {
  "kernelspec": {
   "display_name": "Python 3 (ipykernel)",
   "language": "python",
   "name": "python3"
  },
  "language_info": {
   "codemirror_mode": {
    "name": "ipython",
    "version": 3
   },
   "file_extension": ".py",
   "mimetype": "text/x-python",
   "name": "python",
   "nbconvert_exporter": "python",
   "pygments_lexer": "ipython3",
   "version": "3.10.8"
  }
 },
 "nbformat": 4,
 "nbformat_minor": 5
}
