{
 "cells": [
  {
   "cell_type": "code",
   "execution_count": 17,
   "id": "6bb1981b-a217-49fd-8a9b-c9cfc7f48b34",
   "metadata": {},
   "outputs": [],
   "source": [
    "class pwskills:\n",
    "    def __init__ (self, phone_number, email_id, student_id):\n",
    "        \n",
    "        self.phone_number = phone_number\n",
    "        self.email_id = email_id\n",
    "        self.student_id = student_id\n",
    "        \n",
    "    def return_student_details(self):\n",
    "        return self.phone_number, self.email_id, self.student_id"
   ]
  },
  {
   "cell_type": "code",
   "execution_count": 18,
   "id": "6d8e0372-b83a-43be-8880-bd2e40bcb1d5",
   "metadata": {},
   "outputs": [],
   "source": [
    "krish = pwskills(98764633, \"krish@yahoo.com\", 566)"
   ]
  },
  {
   "cell_type": "code",
   "execution_count": 19,
   "id": "4be75456-f38d-4289-8d93-e9bb358cd074",
   "metadata": {},
   "outputs": [
    {
     "data": {
      "text/plain": [
       "98764633"
      ]
     },
     "execution_count": 19,
     "metadata": {},
     "output_type": "execute_result"
    }
   ],
   "source": [
    "krish.phone_number"
   ]
  },
  {
   "cell_type": "code",
   "execution_count": 20,
   "id": "570c296d-a1ed-4dfd-995f-ec0a57d65752",
   "metadata": {},
   "outputs": [
    {
     "data": {
      "text/plain": [
       "566"
      ]
     },
     "execution_count": 20,
     "metadata": {},
     "output_type": "execute_result"
    }
   ],
   "source": [
    "krish.student_id"
   ]
  },
  {
   "cell_type": "code",
   "execution_count": 21,
   "id": "678cf955-49be-439b-a9ef-3545ed3d1dec",
   "metadata": {},
   "outputs": [
    {
     "data": {
      "text/plain": [
       "'krish@yahoo.com'"
      ]
     },
     "execution_count": 21,
     "metadata": {},
     "output_type": "execute_result"
    }
   ],
   "source": [
    "krish.email_id"
   ]
  },
  {
   "cell_type": "code",
   "execution_count": 23,
   "id": "81a97b20-db7f-4244-9899-28fec1d56640",
   "metadata": {},
   "outputs": [
    {
     "data": {
      "text/plain": [
       "(98764633, 'krish@yahoo.com', 566)"
      ]
     },
     "execution_count": 23,
     "metadata": {},
     "output_type": "execute_result"
    }
   ],
   "source": [
    "krish.return_student_details()"
   ]
  },
  {
   "cell_type": "markdown",
   "id": "d7940232-6ce5-42ff-9de4-41c694d0bbce",
   "metadata": {},
   "source": [
    "### Polymorphism"
   ]
  },
  {
   "cell_type": "code",
   "execution_count": 1,
   "id": "58c776d8-0981-4c32-9133-371034fb95b9",
   "metadata": {},
   "outputs": [],
   "source": [
    "# defining class data scienece and describes behaviour \n",
    "class data_science:\n",
    "    def syllabus(self):\n",
    "        print(\"Details of Data Science course\")\n",
    "    "
   ]
  },
  {
   "cell_type": "code",
   "execution_count": 2,
   "id": "41f15e2a-6232-468a-92d2-e4925e935808",
   "metadata": {},
   "outputs": [],
   "source": [
    "class web_dev:\n",
    "    def syllabus(self):\n",
    "        print(\"Details of Web Development course\")"
   ]
  },
  {
   "cell_type": "code",
   "execution_count": 3,
   "id": "024c339b-57f9-47ff-9afe-e4536fac783f",
   "metadata": {},
   "outputs": [],
   "source": [
    "def class_carrier(class_obj):\n",
    "    for i in class_obj:\n",
    "        i.syllabus()\n",
    "    "
   ]
  },
  {
   "cell_type": "code",
   "execution_count": 9,
   "id": "c62ca522-0edb-4f73-9713-6f86ab26f9e0",
   "metadata": {},
   "outputs": [],
   "source": [
    "# defining object and storing the data in a different variable\n",
    "obj_data_science = data_science()\n",
    "obj_web_dev = web_dev()\n",
    "class_obj1 = [obj_data_science, obj_web_dev]"
   ]
  },
  {
   "cell_type": "code",
   "execution_count": 8,
   "id": "a3534f18-c4e8-4fda-a1c4-f9218459f038",
   "metadata": {},
   "outputs": [
    {
     "name": "stdout",
     "output_type": "stream",
     "text": [
      "Details of Data Science course\n",
      "Details of Web Development course\n"
     ]
    }
   ],
   "source": [
    "class_carrier(class_obj1)"
   ]
  },
  {
   "cell_type": "code",
   "execution_count": null,
   "id": "3b9f77ec-f416-42ba-bc4e-4ac73e050b50",
   "metadata": {},
   "outputs": [],
   "source": []
  }
 ],
 "metadata": {
  "kernelspec": {
   "display_name": "Python 3 (ipykernel)",
   "language": "python",
   "name": "python3"
  },
  "language_info": {
   "codemirror_mode": {
    "name": "ipython",
    "version": 3
   },
   "file_extension": ".py",
   "mimetype": "text/x-python",
   "name": "python",
   "nbconvert_exporter": "python",
   "pygments_lexer": "ipython3",
   "version": "3.10.8"
  }
 },
 "nbformat": 4,
 "nbformat_minor": 5
}
