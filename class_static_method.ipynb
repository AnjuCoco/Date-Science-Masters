{
 "cells": [
  {
   "cell_type": "code",
   "execution_count": 11,
   "id": "73c0f162-7ba8-4dda-a4b9-6ed201987751",
   "metadata": {},
   "outputs": [],
   "source": [
    "# class method - one of inbulit decorator function\n",
    "# takes 'cls' as first parameter as against 'self' in instance function \n",
    "# class method is bound to the class than an object"
   ]
  },
  {
   "cell_type": "code",
   "execution_count": 12,
   "id": "a7b729bb-ecf1-47ea-9221-0f61302ebe76",
   "metadata": {},
   "outputs": [],
   "source": [
    "# static method is common for the class\n",
    "# we don't have to create object to call static or class method as against instance method\n",
    "# performs operations in more optimal manner, saves memory space"
   ]
  },
  {
   "cell_type": "code",
   "execution_count": 1,
   "id": "f43f15a2-c671-48c1-97f3-6b65aba8001b",
   "metadata": {},
   "outputs": [],
   "source": [
    "class pwskills:\n",
    "    \n",
    "    def student_details(self, name, email_id, student_id):\n",
    "        print(name, email_id, student_id)\n",
    "    \n",
    "    @classmethod\n",
    "    def mentor_list(cls, mentor_list):\n",
    "        print(mentor_list)\n",
    "    \n",
    "    @staticmethod\n",
    "    def list_mentor(list_mentor):\n",
    "        print(list_mentor)\n",
    "        pwskills.mentor_list([\"krish@gmail.com\" , \"sudh@gmail.com\"])\n",
    "    \n",
    "    def mentor_email(self, m_email):\n",
    "        print(m_email)"
   ]
  },
  {
   "cell_type": "code",
   "execution_count": 2,
   "id": "dca4b043-d9ab-42ab-8581-5675355a3c6b",
   "metadata": {},
   "outputs": [
    {
     "name": "stdout",
     "output_type": "stream",
     "text": [
      "['krish@gmail.com', 'sudh@gmail.com']\n"
     ]
    }
   ],
   "source": [
    "pwskills.mentor_list([\"krish@gmail.com\" , \"sudh@gmail.com\"])"
   ]
  },
  {
   "cell_type": "code",
   "execution_count": 3,
   "id": "1ff9b84d-f58a-4511-8861-589da54bb525",
   "metadata": {},
   "outputs": [
    {
     "name": "stdout",
     "output_type": "stream",
     "text": [
      "['abc@gmail.com', 'cde@gmail.com']\n",
      "['krish@gmail.com', 'sudh@gmail.com']\n"
     ]
    }
   ],
   "source": [
    "pwskills.list_mentor([\"abc@gmail.com\" , \"cde@gmail.com\"])"
   ]
  },
  {
   "cell_type": "code",
   "execution_count": 8,
   "id": "4b63fc97-4061-4a6a-bd48-9c492114986e",
   "metadata": {},
   "outputs": [],
   "source": [
    "pw = pwskills()"
   ]
  },
  {
   "cell_type": "code",
   "execution_count": 9,
   "id": "734122fd-9ba9-4085-bfde-ff86776775dd",
   "metadata": {},
   "outputs": [
    {
     "name": "stdout",
     "output_type": "stream",
     "text": [
      "asd@gmail.com\n"
     ]
    }
   ],
   "source": [
    "pw.mentor_email(\"asd@gmail.com\")"
   ]
  },
  {
   "cell_type": "code",
   "execution_count": 10,
   "id": "ab9aca11-96be-41ea-9e86-10a8c3dad7ee",
   "metadata": {},
   "outputs": [
    {
     "name": "stdout",
     "output_type": "stream",
     "text": [
      "[' ']\n",
      "['krish@gmail.com', 'sudh@gmail.com']\n"
     ]
    }
   ],
   "source": [
    "pwskills.list_mentor([\" \"])"
   ]
  },
  {
   "cell_type": "code",
   "execution_count": null,
   "id": "e030e0b6-4ae3-49c8-853d-3670cbf25483",
   "metadata": {},
   "outputs": [],
   "source": []
  }
 ],
 "metadata": {
  "kernelspec": {
   "display_name": "Python 3 (ipykernel)",
   "language": "python",
   "name": "python3"
  },
  "language_info": {
   "codemirror_mode": {
    "name": "ipython",
    "version": 3
   },
   "file_extension": ".py",
   "mimetype": "text/x-python",
   "name": "python",
   "nbconvert_exporter": "python",
   "pygments_lexer": "ipython3",
   "version": "3.10.8"
  }
 },
 "nbformat": 4,
 "nbformat_minor": 5
}
