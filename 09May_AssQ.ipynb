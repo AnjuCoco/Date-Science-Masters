{
 "cells": [
  {
   "cell_type": "code",
   "execution_count": 1,
   "id": "a7e80697-6e55-4750-b335-5ae5d1ccba9b",
   "metadata": {},
   "outputs": [],
   "source": [
    "a = \"pwskills\""
   ]
  },
  {
   "cell_type": "code",
   "execution_count": 2,
   "id": "0045def8-ea30-409f-aec4-ec75603894be",
   "metadata": {},
   "outputs": [
    {
     "data": {
      "text/plain": [
       "'pwskills'"
      ]
     },
     "execution_count": 2,
     "metadata": {},
     "output_type": "execute_result"
    }
   ],
   "source": [
    "a"
   ]
  },
  {
   "cell_type": "code",
   "execution_count": 3,
   "id": "75f5cadf-b131-4b07-8ddc-b536a000b0f5",
   "metadata": {},
   "outputs": [],
   "source": [
    "l = [9, 25, 'qwerty', 'z', 'pwskills', 3+7j, 39.33]"
   ]
  },
  {
   "cell_type": "code",
   "execution_count": 4,
   "id": "7247b426-6f4f-45dc-9047-9462ab7d4a6a",
   "metadata": {},
   "outputs": [
    {
     "data": {
      "text/plain": [
       "[9, 25, 'qwerty', 'z', 'pwskills', (3+7j), 39.33]"
      ]
     },
     "execution_count": 4,
     "metadata": {},
     "output_type": "execute_result"
    }
   ],
   "source": [
    "l"
   ]
  },
  {
   "cell_type": "code",
   "execution_count": 5,
   "id": "f8b19c2d-6678-4de0-a025-849bfa44a63e",
   "metadata": {},
   "outputs": [],
   "source": [
    "d = 49.99"
   ]
  },
  {
   "cell_type": "code",
   "execution_count": 6,
   "id": "448836c6-2981-4b8b-aed1-319f4c0879e3",
   "metadata": {},
   "outputs": [
    {
     "data": {
      "text/plain": [
       "49.99"
      ]
     },
     "execution_count": 6,
     "metadata": {},
     "output_type": "execute_result"
    }
   ],
   "source": [
    "d"
   ]
  },
  {
   "cell_type": "code",
   "execution_count": 7,
   "id": "c7ba001c-27bc-4c3c-80ed-f48258acc5ea",
   "metadata": {},
   "outputs": [],
   "source": [
    "t = (35, 'a', 67.89, 'assq1',9+34j)"
   ]
  },
  {
   "cell_type": "code",
   "execution_count": 8,
   "id": "ad25da6e-dd14-4457-b2b5-4388a8c4dfcd",
   "metadata": {},
   "outputs": [
    {
     "data": {
      "text/plain": [
       "(35, 'a', 67.89, 'assq1', (9+34j))"
      ]
     },
     "execution_count": 8,
     "metadata": {},
     "output_type": "execute_result"
    }
   ],
   "source": [
    "t"
   ]
  },
  {
   "cell_type": "code",
   "execution_count": 9,
   "id": "b9327641-41cf-4c12-ad80-20b6df5d3ecb",
   "metadata": {},
   "outputs": [
    {
     "data": {
      "text/plain": [
       "'a'"
      ]
     },
     "execution_count": 9,
     "metadata": {},
     "output_type": "execute_result"
    }
   ],
   "source": [
    "t[1]"
   ]
  },
  {
   "cell_type": "code",
   "execution_count": 10,
   "id": "f89c0d4b-3044-4323-8c57-dce79cac6912",
   "metadata": {},
   "outputs": [
    {
     "ename": "TypeError",
     "evalue": "'tuple' object does not support item assignment",
     "output_type": "error",
     "traceback": [
      "\u001b[0;31m---------------------------------------------------------------------------\u001b[0m",
      "\u001b[0;31mTypeError\u001b[0m                                 Traceback (most recent call last)",
      "Cell \u001b[0;32mIn[10], line 1\u001b[0m\n\u001b[0;32m----> 1\u001b[0m \u001b[43mt\u001b[49m\u001b[43m[\u001b[49m\u001b[38;5;241;43m1\u001b[39;49m\u001b[43m]\u001b[49m \u001b[38;5;241m=\u001b[39m \u001b[38;5;241m5.5\u001b[39m\n",
      "\u001b[0;31mTypeError\u001b[0m: 'tuple' object does not support item assignment"
     ]
    }
   ],
   "source": [
    "t[1] = 5.5"
   ]
  },
  {
   "cell_type": "code",
   "execution_count": null,
   "id": "4d5afccb-7b12-4b4d-a6eb-5e379b864717",
   "metadata": {},
   "outputs": [],
   "source": [
    "#var1 = ‘ ‘ Ans: Data type is String"
   ]
  },
  {
   "cell_type": "code",
   "execution_count": null,
   "id": "64dbd846-cb3e-4193-a6a1-8943b8e8703c",
   "metadata": {},
   "outputs": [],
   "source": [
    "var = ' '"
   ]
  },
  {
   "cell_type": "code",
   "execution_count": 11,
   "id": "547ec73a-a6d4-44a0-9e28-f5f0b5f6de56",
   "metadata": {},
   "outputs": [
    {
     "ename": "NameError",
     "evalue": "name 'var' is not defined",
     "output_type": "error",
     "traceback": [
      "\u001b[0;31m---------------------------------------------------------------------------\u001b[0m",
      "\u001b[0;31mNameError\u001b[0m                                 Traceback (most recent call last)",
      "Cell \u001b[0;32mIn[11], line 1\u001b[0m\n\u001b[0;32m----> 1\u001b[0m \u001b[38;5;28mtype\u001b[39m(\u001b[43mvar\u001b[49m)\n",
      "\u001b[0;31mNameError\u001b[0m: name 'var' is not defined"
     ]
    }
   ],
   "source": [
    "type(var)"
   ]
  },
  {
   "cell_type": "code",
   "execution_count": null,
   "id": "a28fa409-1805-4c5d-88e9-8896af184265",
   "metadata": {},
   "outputs": [],
   "source": [
    "#var2 = ‘[ DS , ML , Python]’ Ans: Data type is String"
   ]
  },
  {
   "cell_type": "code",
   "execution_count": null,
   "id": "c613db00-9900-4588-a779-aab7cf46c736",
   "metadata": {},
   "outputs": [],
   "source": [
    "#var3 = [ ‘DS’ , ’ML’ , ‘Python’ ] Ans: Data type is List"
   ]
  },
  {
   "cell_type": "code",
   "execution_count": null,
   "id": "cac8d50f-dc10-42da-a1df-5b8b16412056",
   "metadata": {},
   "outputs": [],
   "source": [
    "var3 = ['DS','ML','Python']"
   ]
  },
  {
   "cell_type": "code",
   "execution_count": null,
   "id": "0030ecc4-54d7-4af1-b591-c715f40251b8",
   "metadata": {},
   "outputs": [],
   "source": [
    "type(var3)"
   ]
  },
  {
   "cell_type": "code",
   "execution_count": null,
   "id": "feefe346-d4a9-4c94-854b-e99b96649ae8",
   "metadata": {},
   "outputs": [],
   "source": [
    "#var4 = 1. Ans: Data Type is Float"
   ]
  },
  {
   "cell_type": "code",
   "execution_count": null,
   "id": "2c738dde-0d9f-44f5-9551-39faf6f4062c",
   "metadata": {},
   "outputs": [],
   "source": [
    "var4 = 1."
   ]
  },
  {
   "cell_type": "code",
   "execution_count": null,
   "id": "418b004e-1d19-4ecc-87bb-57ae2c193692",
   "metadata": {},
   "outputs": [],
   "source": [
    "type(var4)"
   ]
  },
  {
   "cell_type": "code",
   "execution_count": null,
   "id": "1893090c-9347-4414-83ab-a5cf1064cd00",
   "metadata": {},
   "outputs": [],
   "source": [
    "\"\"\" / is used for mathematical division operation\n",
    "% is used as modulus - remainder operation in maths calculation\n",
    "// is for division floor function where division results is rounded to the nearest whole number\n",
    "** is for exponancial / power operation \"\"\""
   ]
  },
  {
   "cell_type": "code",
   "execution_count": null,
   "id": "358cc153-0c4f-489c-8a30-fdf28453b951",
   "metadata": {},
   "outputs": [],
   "source": [
    "l = [5, 23, 'skills', 35.78, 99, 9+5j, 139, 0, 22, 100]"
   ]
  },
  {
   "cell_type": "code",
   "execution_count": null,
   "id": "9b54003b-1a19-4b39-a4c2-66b13f74dd71",
   "metadata": {},
   "outputs": [],
   "source": [
    "for i in l:\n",
    "    print(\"The element in the list is\", i)\n",
    "    print(\"Type of element is\",type(i)) "
   ]
  },
  {
   "cell_type": "code",
   "execution_count": 12,
   "id": "ff818df5-83ff-4074-adb2-1b718170ae16",
   "metadata": {},
   "outputs": [
    {
     "name": "stdin",
     "output_type": "stream",
     "text": [
      "Enter your first number: 49\n",
      "Enter your second number: 4\n"
     ]
    },
    {
     "name": "stdout",
     "output_type": "stream",
     "text": [
      "The first number 49 is not divisible by the second number 4\n"
     ]
    }
   ],
   "source": [
    "a = int(input(\"Enter your first number:\"))\n",
    "b = int(input(\"Enter your second number:\"))\n",
    "while a%b ==0:\n",
    "    print(\"The first number\",a,\"is divisible by the second number\",b)\n",
    "else :\n",
    "    print(\"The first number\",a,\"is not divisible by the second number\",b)"
   ]
  },
  {
   "cell_type": "code",
   "execution_count": 13,
   "id": "f64bcbe5-bad4-4e18-bb35-fa29053018fb",
   "metadata": {},
   "outputs": [],
   "source": [
    "#need help: when the condition is true, it goes in endless loop. How do I sort this out?"
   ]
  },
  {
   "cell_type": "code",
   "execution_count": 14,
   "id": "d9d9d7cd-9db4-4fb9-b642-f91044f4a757",
   "metadata": {},
   "outputs": [],
   "source": [
    "# I also didn't get this part of question of how many times the number can be divisible. Can you please explain?"
   ]
  },
  {
   "cell_type": "code",
   "execution_count": 2,
   "id": "05294c62-d4a0-4d79-8c36-1e0e2f6e656c",
   "metadata": {},
   "outputs": [
    {
     "name": "stdout",
     "output_type": "stream",
     "text": [
      "element 21 is divisible by 3\n",
      "element 15 is divisible by 3\n",
      "element 45 is divisible by 3\n"
     ]
    },
    {
     "ename": "IndexError",
     "evalue": "list index out of range",
     "output_type": "error",
     "traceback": [
      "\u001b[0;31m---------------------------------------------------------------------------\u001b[0m",
      "\u001b[0;31mIndexError\u001b[0m                                Traceback (most recent call last)",
      "Cell \u001b[0;32mIn[2], line 3\u001b[0m\n\u001b[1;32m      1\u001b[0m l \u001b[38;5;241m=\u001b[39m [\u001b[38;5;241m3\u001b[39m, \u001b[38;5;241m5\u001b[39m, \u001b[38;5;241m9\u001b[39m, \u001b[38;5;241m21\u001b[39m, \u001b[38;5;241m7\u001b[39m, \u001b[38;5;241m15\u001b[39m, \u001b[38;5;241m68\u001b[39m, \u001b[38;5;241m99\u001b[39m, \u001b[38;5;241m11\u001b[39m, \u001b[38;5;241m45\u001b[39m, \u001b[38;5;241m33\u001b[39m, \u001b[38;5;241m22\u001b[39m, \u001b[38;5;241m65\u001b[39m, \u001b[38;5;241m49\u001b[39m, \u001b[38;5;241m30\u001b[39m]\n\u001b[1;32m      2\u001b[0m \u001b[38;5;28;01mfor\u001b[39;00m i \u001b[38;5;129;01min\u001b[39;00m l :\n\u001b[0;32m----> 3\u001b[0m     \u001b[38;5;28;01mif\u001b[39;00m \u001b[43ml\u001b[49m\u001b[43m[\u001b[49m\u001b[43mi\u001b[49m\u001b[43m]\u001b[49m \u001b[38;5;241m%\u001b[39m \u001b[38;5;241m3\u001b[39m \u001b[38;5;241m==\u001b[39m \u001b[38;5;241m0\u001b[39m:\n\u001b[1;32m      4\u001b[0m         \u001b[38;5;28mprint\u001b[39m(\u001b[38;5;124m\"\u001b[39m\u001b[38;5;124melement\u001b[39m\u001b[38;5;124m\"\u001b[39m,l[i],\u001b[38;5;124m\"\u001b[39m\u001b[38;5;124mis divisible by 3\u001b[39m\u001b[38;5;124m\"\u001b[39m)\n\u001b[1;32m      5\u001b[0m     \u001b[38;5;28;01melse\u001b[39;00m :\n",
      "\u001b[0;31mIndexError\u001b[0m: list index out of range"
     ]
    }
   ],
   "source": [
    "l = [3, 5, 9, 21, 7, 15, 68, 99, 11, 45, 33, 22, 65, 49, 30]\n",
    "for i in l :\n",
    "    if l[i] % 3 == 0:\n",
    "        print(\"element\",l[i],\"is divisible by 3\")\n",
    "    else :\n",
    "        print(\"element\",l[i],\"is not divisible by 3\")\n",
    "    i += 1\n",
    "    "
   ]
  },
  {
   "cell_type": "code",
   "execution_count": 3,
   "id": "a97d5613-ac06-492d-b020-089cd73519fa",
   "metadata": {},
   "outputs": [],
   "source": [
    "#mutable data type is the one where you can change/replace the elements from the given list of elements. eg. list[]"
   ]
  },
  {
   "cell_type": "code",
   "execution_count": 4,
   "id": "d80c47a6-7ce4-4280-852a-e51f68fbed1c",
   "metadata": {},
   "outputs": [],
   "source": [
    "#immutable data type is the one where tou can not change/replace the elements/items of the given list. eg. string, tuple()"
   ]
  },
  {
   "cell_type": "code",
   "execution_count": null,
   "id": "08d8c186-42a0-4205-9a8e-05bec634875a",
   "metadata": {},
   "outputs": [],
   "source": []
  }
 ],
 "metadata": {
  "kernelspec": {
   "display_name": "Python 3 (ipykernel)",
   "language": "python",
   "name": "python3"
  },
  "language_info": {
   "codemirror_mode": {
    "name": "ipython",
    "version": 3
   },
   "file_extension": ".py",
   "mimetype": "text/x-python",
   "name": "python",
   "nbconvert_exporter": "python",
   "pygments_lexer": "ipython3",
   "version": "3.10.8"
  }
 },
 "nbformat": 4,
 "nbformat_minor": 5
}
