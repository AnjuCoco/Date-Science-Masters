{
 "cells": [
  {
   "cell_type": "code",
   "execution_count": 1,
   "id": "eb4c5ffc-637c-45e1-8c32-a455802c6fcf",
   "metadata": {},
   "outputs": [],
   "source": [
    "# use always a specific exception\n",
    "# don't use the superclass exception 'Exception' module. "
   ]
  },
  {
   "cell_type": "code",
   "execution_count": 2,
   "id": "d0f5f3a3-4a65-4ef4-a7cb-a5813f4d9bab",
   "metadata": {},
   "outputs": [],
   "source": [
    "# print always a meaningful message as this helps for the next coder to understand the error while debugging"
   ]
  },
  {
   "cell_type": "code",
   "execution_count": 3,
   "id": "ce32ec66-7e93-403e-b1aa-5dddaad8120e",
   "metadata": {},
   "outputs": [],
   "source": [
    "# always log for every code being prepared\n"
   ]
  },
  {
   "cell_type": "code",
   "execution_count": 6,
   "id": "0b7d3822-c140-4381-83ef-317968b35b01",
   "metadata": {},
   "outputs": [],
   "source": [
    "import logging\n",
    "logging.basicConfig(filename = 'error.log', level = logging.ERROR)\n",
    "\n",
    "try :\n",
    "    10/0\n",
    "\n",
    "except ZeroDivisionError as e:\n",
    "    logging.error(\"this is my zero division error I am logging {}\".format(e))"
   ]
  },
  {
   "cell_type": "code",
   "execution_count": 7,
   "id": "aa2781bb-46de-4589-825e-0a55b26d9fae",
   "metadata": {},
   "outputs": [],
   "source": [
    "# logging to retain the error in log file permanently so that it helps in debugging"
   ]
  },
  {
   "cell_type": "code",
   "execution_count": 8,
   "id": "bc8cd3e4-eedb-4334-bf6e-362f9b8afd2b",
   "metadata": {},
   "outputs": [],
   "source": [
    "# always avoid writing multiple exception handling codes\n",
    "# it occupies more bandwidth and takes more overall processing time during compiling"
   ]
  },
  {
   "cell_type": "code",
   "execution_count": 9,
   "id": "0908c68a-4454-4fec-af43-ab277e5307ba",
   "metadata": {},
   "outputs": [],
   "source": [
    "# prepare proper documentation"
   ]
  },
  {
   "cell_type": "code",
   "execution_count": 10,
   "id": "7bbc5b63-545e-4307-aa6c-78eb76562f2e",
   "metadata": {},
   "outputs": [],
   "source": [
    "# cleanup all resources\n",
    "# i.e. always close all open files to avoid usage bandwidth evenif they are being used in try block"
   ]
  },
  {
   "cell_type": "code",
   "execution_count": null,
   "id": "46ad2622-5b96-44d0-95d2-78a664e5e4d7",
   "metadata": {},
   "outputs": [],
   "source": []
  }
 ],
 "metadata": {
  "kernelspec": {
   "display_name": "Python 3 (ipykernel)",
   "language": "python",
   "name": "python3"
  },
  "language_info": {
   "codemirror_mode": {
    "name": "ipython",
    "version": 3
   },
   "file_extension": ".py",
   "mimetype": "text/x-python",
   "name": "python",
   "nbconvert_exporter": "python",
   "pygments_lexer": "ipython3",
   "version": "3.10.8"
  }
 },
 "nbformat": 4,
 "nbformat_minor": 5
}
