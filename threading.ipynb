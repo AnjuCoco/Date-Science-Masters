{
 "cells": [
  {
   "cell_type": "code",
   "execution_count": 4,
   "id": "89847d50-a2e3-4209-8bbc-1eb99472feb9",
   "metadata": {},
   "outputs": [],
   "source": [
    "# threading : in single core, try to occupy all resources\n",
    "# Threading is a sequence of instructions in a program that can be executed independently of the remaining process.\n",
    "# to start the program, we will have to import threading module"
   ]
  },
  {
   "cell_type": "code",
   "execution_count": 2,
   "id": "1b139391-e1d3-4814-acab-1e9a691ca45c",
   "metadata": {},
   "outputs": [],
   "source": [
    "import threading"
   ]
  },
  {
   "cell_type": "code",
   "execution_count": 3,
   "id": "bbf0d76a-52a6-449a-8f73-581e3d3b04fe",
   "metadata": {},
   "outputs": [],
   "source": [
    "def test(id):\n",
    "    print(\"this is my test id %d\" %id)"
   ]
  },
  {
   "cell_type": "code",
   "execution_count": 4,
   "id": "4b13def8-be11-4b57-8416-fb020e2932db",
   "metadata": {},
   "outputs": [
    {
     "name": "stdout",
     "output_type": "stream",
     "text": [
      "this is my test id 10\n"
     ]
    }
   ],
   "source": [
    "test(10)"
   ]
  },
  {
   "cell_type": "code",
   "execution_count": 5,
   "id": "510cd198-d2e5-44dc-8b79-758ef77a8c8c",
   "metadata": {},
   "outputs": [
    {
     "name": "stdout",
     "output_type": "stream",
     "text": [
      "this is my test id 5\n"
     ]
    }
   ],
   "source": [
    "test(5)"
   ]
  },
  {
   "cell_type": "code",
   "execution_count": 6,
   "id": "868885fb-04c4-4365-a89a-b3a302ee73e1",
   "metadata": {},
   "outputs": [
    {
     "name": "stdout",
     "output_type": "stream",
     "text": [
      "this is my test id 9\n"
     ]
    }
   ],
   "source": [
    "test(9)"
   ]
  },
  {
   "cell_type": "code",
   "execution_count": 7,
   "id": "7663544e-0de0-42a6-bd5e-0d5334670a74",
   "metadata": {},
   "outputs": [],
   "source": [
    "# if you want to call all these functions together simultaneously in an automatic manner\n",
    "# use threading"
   ]
  },
  {
   "cell_type": "code",
   "execution_count": 1,
   "id": "62b41f02-9ca9-4dcf-8622-79802ab780cf",
   "metadata": {},
   "outputs": [
    {
     "ename": "NameError",
     "evalue": "name 'threading' is not defined",
     "output_type": "error",
     "traceback": [
      "\u001b[0;31m---------------------------------------------------------------------------\u001b[0m",
      "\u001b[0;31mNameError\u001b[0m                                 Traceback (most recent call last)",
      "Cell \u001b[0;32mIn[1], line 1\u001b[0m\n\u001b[0;32m----> 1\u001b[0m thread1 \u001b[38;5;241m=\u001b[39m [threading\u001b[38;5;241m.\u001b[39mThread(target \u001b[38;5;241m=\u001b[39m test, args \u001b[38;5;241m=\u001b[39m (i,)) \u001b[38;5;28;01mfor\u001b[39;00m i \u001b[38;5;129;01min\u001b[39;00m [\u001b[38;5;241m10\u001b[39m, \u001b[38;5;241m5\u001b[39m, \u001b[38;5;241m9\u001b[39m]]\n",
      "Cell \u001b[0;32mIn[1], line 1\u001b[0m, in \u001b[0;36m<listcomp>\u001b[0;34m(.0)\u001b[0m\n\u001b[0;32m----> 1\u001b[0m thread1 \u001b[38;5;241m=\u001b[39m [\u001b[43mthreading\u001b[49m\u001b[38;5;241m.\u001b[39mThread(target \u001b[38;5;241m=\u001b[39m test, args \u001b[38;5;241m=\u001b[39m (i,)) \u001b[38;5;28;01mfor\u001b[39;00m i \u001b[38;5;129;01min\u001b[39;00m [\u001b[38;5;241m10\u001b[39m, \u001b[38;5;241m5\u001b[39m, \u001b[38;5;241m9\u001b[39m]]\n",
      "\u001b[0;31mNameError\u001b[0m: name 'threading' is not defined"
     ]
    }
   ],
   "source": [
    "thread1 = [threading.Thread(target = test, args = (i,)) for i in [10, 5, 9]]"
   ]
  },
  {
   "cell_type": "code",
   "execution_count": 9,
   "id": "a71befff-9d79-4a69-96a7-1e13acf0bcbb",
   "metadata": {},
   "outputs": [],
   "source": [
    "# 10, 5 and 9 are the arguments , we plan to execute simultaneously "
   ]
  },
  {
   "cell_type": "code",
   "execution_count": 10,
   "id": "c77d0596-c306-4e16-8fae-9cc4aa7ba947",
   "metadata": {},
   "outputs": [
    {
     "name": "stdout",
     "output_type": "stream",
     "text": [
      "this is my test id 10\n",
      "this is my test id 5\n",
      "this is my test id 9\n"
     ]
    }
   ],
   "source": [
    "for t in thread1:\n",
    "    t.start()"
   ]
  },
  {
   "cell_type": "code",
   "execution_count": 1,
   "id": "26a7f06a-a344-4187-8b84-9160b834dd8b",
   "metadata": {},
   "outputs": [],
   "source": [
    "# If threading operations need to wait for a slow external operation to finish.\n",
    "# they sleep for a while and enable the scheduler to spend time executing another thread using time.sleep(1) opn"
   ]
  },
  {
   "cell_type": "code",
   "execution_count": 3,
   "id": "20d8ef24-2dc4-4bc5-805e-ee3bbdc98112",
   "metadata": {},
   "outputs": [],
   "source": [
    "# multithreading is a way of achieving multitasking.\n",
    "# Multithreading is defined as the ability of a processor to execute multiple threads concurrently."
   ]
  },
  {
   "cell_type": "code",
   "execution_count": 5,
   "id": "32fc6e0b-dc5e-42ed-a000-5dfd03987238",
   "metadata": {},
   "outputs": [],
   "source": [
    "# if you have 3 threads, stored at different locations/url files, the following code"
   ]
  },
  {
   "cell_type": "code",
   "execution_count": 6,
   "id": "9de396ca-ecf4-49fb-830f-55e2081d962b",
   "metadata": {},
   "outputs": [],
   "source": [
    "import urllib.request"
   ]
  },
  {
   "cell_type": "code",
   "execution_count": 7,
   "id": "8d56dd2d-2faf-425d-8b3c-afafe57a6421",
   "metadata": {},
   "outputs": [],
   "source": [
    "def file_download(url, filename):\n",
    "    urllib.request.urlretrieve(url, filename)"
   ]
  },
  {
   "cell_type": "code",
   "execution_count": 8,
   "id": "83023413-d87d-4a58-a750-6484deb263f6",
   "metadata": {},
   "outputs": [],
   "source": [
    "data_file_list = ['data1.txt', 'data2.txt', 'data3.txt'] "
   ]
  },
  {
   "cell_type": "code",
   "execution_count": 9,
   "id": "7af8855d-2dc6-49d5-9a1d-a92bf49314a5",
   "metadata": {},
   "outputs": [],
   "source": [
    "# url_list = [\"urladdress1.txt', 'urladdress2.txt', urladdress3.txt'] "
   ]
  },
  {
   "cell_type": "code",
   "execution_count": 14,
   "id": "91795691-dda6-4322-b1fe-fde2963d928f",
   "metadata": {},
   "outputs": [],
   "source": [
    "# now threading data using following thread block\n",
    "# thread1 = threading.Thread(traget = file_download, args = (url_list[i], data_file_list[i])) for i in range(len(url_list))\n",
    "\n",
    "# for t in thread1:\n",
    "    #t.start()\n"
   ]
  },
  {
   "cell_type": "code",
   "execution_count": 15,
   "id": "92ad654f-f90b-405c-ae3c-a59828c2f682",
   "metadata": {},
   "outputs": [],
   "source": [
    "# optimizes code and in one single core, all functions are called and executed "
   ]
  },
  {
   "cell_type": "code",
   "execution_count": 16,
   "id": "6ec2958b-8772-47e2-8798-8c0689333105",
   "metadata": {},
   "outputs": [],
   "source": [
    "# time sleep function is used to add delay in the execution of a program. \n",
    "# We can use python sleep function to halt the execution of the program for given time in seconds.\n",
    "# example of adding time delay"
   ]
  },
  {
   "cell_type": "code",
   "execution_count": null,
   "id": "5ed73966-6dd9-4c74-9eab-8cda8a5e88ad",
   "metadata": {},
   "outputs": [],
   "source": []
  }
 ],
 "metadata": {
  "kernelspec": {
   "display_name": "Python 3 (ipykernel)",
   "language": "python",
   "name": "python3"
  },
  "language_info": {
   "codemirror_mode": {
    "name": "ipython",
    "version": 3
   },
   "file_extension": ".py",
   "mimetype": "text/x-python",
   "name": "python",
   "nbconvert_exporter": "python",
   "pygments_lexer": "ipython3",
   "version": "3.10.8"
  }
 },
 "nbformat": 4,
 "nbformat_minor": 5
}
