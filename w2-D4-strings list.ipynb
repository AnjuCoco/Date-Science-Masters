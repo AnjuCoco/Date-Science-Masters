{
 "cells": [
  {
   "cell_type": "code",
   "execution_count": 1,
   "id": "0455f899-7040-41dd-8770-2a9548e24398",
   "metadata": {},
   "outputs": [
    {
     "name": "stdin",
     "output_type": "stream",
     "text": [
      "Enter the length of triangle = 3\n"
     ]
    },
    {
     "name": "stdout",
     "output_type": "stream",
     "text": [
      "      *\n",
      "    **\n",
      "  **** \n"
     ]
    }
   ],
   "source": [
    "# program for triangular * output\n",
    "size = int(input('Enter the length of triangle ='))\n",
    "for i in range(size):\n",
    "    for j in range(size-i):\n",
    "        print(\" \", end=\" \")\n",
    "    for k in range(i+1):\n",
    "        print(\"*\", end=\"\")\n",
    "    for l in range(k-1):\n",
    "        print(\"*\", end=\" \")\n",
    "    print()\n",
    "# need to think for correct output??"
   ]
  },
  {
   "cell_type": "code",
   "execution_count": 5,
   "id": "7077a973-407c-49a1-9fdb-6b146c893ff4",
   "metadata": {},
   "outputs": [],
   "source": [
    "name = 'PW Skills Data Science Masters'"
   ]
  },
  {
   "cell_type": "code",
   "execution_count": 6,
   "id": "4b9845fe-cb73-46d0-9d10-e69a9a684790",
   "metadata": {},
   "outputs": [
    {
     "data": {
      "text/plain": [
       "'PW Skills Data Science Masters'"
      ]
     },
     "execution_count": 6,
     "metadata": {},
     "output_type": "execute_result"
    }
   ],
   "source": [
    "name"
   ]
  },
  {
   "cell_type": "code",
   "execution_count": 7,
   "id": "2956a59f-1627-4160-bec5-6fb3e38ce821",
   "metadata": {},
   "outputs": [
    {
     "data": {
      "text/plain": [
       "'Pw skills data science masters'"
      ]
     },
     "execution_count": 7,
     "metadata": {},
     "output_type": "execute_result"
    }
   ],
   "source": [
    "# capitalize the first character of the entire string\n",
    "name.capitalize()"
   ]
  },
  {
   "cell_type": "code",
   "execution_count": 9,
   "id": "8b323e21-b7ba-4295-bfa7-2baa9b63a719",
   "metadata": {},
   "outputs": [
    {
     "data": {
      "text/plain": [
       "'Pw Skills Data Science Masters'"
      ]
     },
     "execution_count": 9,
     "metadata": {},
     "output_type": "execute_result"
    }
   ],
   "source": [
    "# capitalize every first character of each word in the string \n",
    "name.title()"
   ]
  },
  {
   "cell_type": "code",
   "execution_count": 10,
   "id": "c03ba271-b7fb-41e1-a73b-4126fa155492",
   "metadata": {},
   "outputs": [
    {
     "data": {
      "text/plain": [
       "'sretsaM ecneicS ataD sllikS WP'"
      ]
     },
     "execution_count": 10,
     "metadata": {},
     "output_type": "execute_result"
    }
   ],
   "source": [
    "name[::-1]"
   ]
  },
  {
   "cell_type": "code",
   "execution_count": 13,
   "id": "982ec315-814b-4cbb-85cb-b8d61c752909",
   "metadata": {},
   "outputs": [
    {
     "data": {
      "text/plain": [
       "<reversed at 0x7f54740aa9b0>"
      ]
     },
     "execution_count": 13,
     "metadata": {},
     "output_type": "execute_result"
    }
   ],
   "source": [
    "reversed(name)"
   ]
  },
  {
   "cell_type": "code",
   "execution_count": 17,
   "id": "4f17db41-6b46-4a7a-935f-00a3ebe13b6d",
   "metadata": {},
   "outputs": [
    {
     "data": {
      "text/plain": [
       "'s*r*e*t*s*a*M* *e*c*n*e*i*c*S* *a*t*a*D* *s*l*l*i*k*S* *W*P'"
      ]
     },
     "execution_count": 17,
     "metadata": {},
     "output_type": "execute_result"
    }
   ],
   "source": [
    "'*'.join(reversed(name))\n",
    "# join function adds * after every character of the string after reversing the string, \n",
    "# sequence - first name would be reversed and then add * after each character of string"
   ]
  },
  {
   "cell_type": "code",
   "execution_count": 18,
   "id": "ba3cfc76-8bcf-485f-9ae3-4faaab87ec77",
   "metadata": {},
   "outputs": [
    {
     "data": {
      "text/plain": [
       "'sretsaM ecneicS ataD sllikS WP'"
      ]
     },
     "execution_count": 18,
     "metadata": {},
     "output_type": "execute_result"
    }
   ],
   "source": [
    "''.join(reversed(name))\n",
    "# added no space so we can get exact reverse of the original string"
   ]
  },
  {
   "cell_type": "code",
   "execution_count": 19,
   "id": "4b52a860-1fa0-4b26-8210-69d8356d5674",
   "metadata": {},
   "outputs": [
    {
     "data": {
      "text/plain": [
       "'PW Skills Data Science Masters'"
      ]
     },
     "execution_count": 19,
     "metadata": {},
     "output_type": "execute_result"
    }
   ],
   "source": [
    "name"
   ]
  },
  {
   "cell_type": "code",
   "execution_count": 20,
   "id": "7a2eaef7-6291-4168-b87d-d51b7f25bf33",
   "metadata": {},
   "outputs": [
    {
     "data": {
      "text/plain": [
       "'PW Skills Data Science Masters'"
      ]
     },
     "execution_count": 20,
     "metadata": {},
     "output_type": "execute_result"
    }
   ],
   "source": [
    "name.strip()"
   ]
  },
  {
   "cell_type": "code",
   "execution_count": 21,
   "id": "644c7dae-caea-4602-a47c-047c5c40360b",
   "metadata": {},
   "outputs": [],
   "source": [
    "name = '   PW Skills Data Science Masters   '"
   ]
  },
  {
   "cell_type": "code",
   "execution_count": 22,
   "id": "fce552bb-509b-4b81-a2ad-83522e39da17",
   "metadata": {},
   "outputs": [
    {
     "data": {
      "text/plain": [
       "'   PW Skills Data Science Masters   '"
      ]
     },
     "execution_count": 22,
     "metadata": {},
     "output_type": "execute_result"
    }
   ],
   "source": [
    "name"
   ]
  },
  {
   "cell_type": "code",
   "execution_count": 25,
   "id": "97e08902-d651-4813-bcf2-13d07914f6ed",
   "metadata": {},
   "outputs": [
    {
     "data": {
      "text/plain": [
       "'PW Skills Data Science Masters'"
      ]
     },
     "execution_count": 25,
     "metadata": {},
     "output_type": "execute_result"
    }
   ],
   "source": [
    "name.strip()\n",
    "# strip removes the first and last space of the entire string\n",
    "# it doesn't touch the whitespaces between the words of the original string"
   ]
  },
  {
   "cell_type": "code",
   "execution_count": 27,
   "id": "6eca9cd5-49e0-447e-8cbd-8dd530626d54",
   "metadata": {},
   "outputs": [
    {
     "data": {
      "text/plain": [
       "'PW Skills Data Science Masters   '"
      ]
     },
     "execution_count": 27,
     "metadata": {},
     "output_type": "execute_result"
    }
   ],
   "source": [
    "name.lstrip()\n",
    "# strip removes the first space of the entire string"
   ]
  },
  {
   "cell_type": "code",
   "execution_count": 28,
   "id": "c6c18d87-2208-4e65-b6e3-33df6681a596",
   "metadata": {},
   "outputs": [
    {
     "data": {
      "text/plain": [
       "'   PW Skills Data Science Masters   '"
      ]
     },
     "execution_count": 28,
     "metadata": {},
     "output_type": "execute_result"
    }
   ],
   "source": [
    "name"
   ]
  },
  {
   "cell_type": "code",
   "execution_count": 29,
   "id": "3030ea84-f402-4f55-9472-2e08c8c0a6e4",
   "metadata": {},
   "outputs": [
    {
     "data": {
      "text/plain": [
       "'   PW Skills Data Science Masters'"
      ]
     },
     "execution_count": 29,
     "metadata": {},
     "output_type": "execute_result"
    }
   ],
   "source": [
    "name.rstrip()\n",
    "# strip removes the last space of the entire string"
   ]
  },
  {
   "cell_type": "code",
   "execution_count": 30,
   "id": "3a98b611-504b-4853-9666-a1da5de6be45",
   "metadata": {},
   "outputs": [
    {
     "data": {
      "text/plain": [
       "'   PW Skills Data Science Masters Version 2   '"
      ]
     },
     "execution_count": 30,
     "metadata": {},
     "output_type": "execute_result"
    }
   ],
   "source": [
    "name.replace(\"Masters\",\"Masters Version 2\")"
   ]
  },
  {
   "cell_type": "code",
   "execution_count": 31,
   "id": "e9e6bb57-5a86-4365-8b4b-29d2072cd38e",
   "metadata": {},
   "outputs": [
    {
     "data": {
      "text/plain": [
       "'   PW Skills Data Science Masters   '"
      ]
     },
     "execution_count": 31,
     "metadata": {},
     "output_type": "execute_result"
    }
   ],
   "source": [
    "name"
   ]
  },
  {
   "cell_type": "code",
   "execution_count": 32,
   "id": "bbecfc88-03df-4009-805d-7d8efb80c1dd",
   "metadata": {},
   "outputs": [
    {
     "data": {
      "text/plain": [
       "'###PW#Skills#Data#Science#Masters###'"
      ]
     },
     "execution_count": 32,
     "metadata": {},
     "output_type": "execute_result"
    }
   ],
   "source": [
    "name.replace(\" \",\"#\")"
   ]
  },
  {
   "cell_type": "code",
   "execution_count": 33,
   "id": "799d1de3-6af4-4bd0-9564-d354b681a27c",
   "metadata": {},
   "outputs": [
    {
     "data": {
      "text/plain": [
       "'* * * *P*W* *S*k*i*l*l*s* *D*a*t*a* *S*c*i*e*n*c*e* *M*a*s*t*e*r*s* * * *'"
      ]
     },
     "execution_count": 33,
     "metadata": {},
     "output_type": "execute_result"
    }
   ],
   "source": [
    "name.replace(\"\",\"*\")"
   ]
  },
  {
   "cell_type": "code",
   "execution_count": 35,
   "id": "7ff223e3-555d-41de-9fc3-d47167eb7d25",
   "metadata": {},
   "outputs": [
    {
     "data": {
      "text/plain": [
       "'PW Skills Data Science Masters Version 2'"
      ]
     },
     "execution_count": 35,
     "metadata": {},
     "output_type": "execute_result"
    }
   ],
   "source": [
    "name.strip().replace(\"Masters\",\"Masters Version 2\")\n",
    "# combine strip and replace and it works"
   ]
  },
  {
   "cell_type": "code",
   "execution_count": 39,
   "id": "6b53ebca-0152-4823-9bec-44867b3503d9",
   "metadata": {},
   "outputs": [
    {
     "data": {
      "text/plain": [
       "'PW Skills Data Science Masters Version 2'"
      ]
     },
     "execution_count": 39,
     "metadata": {},
     "output_type": "execute_result"
    }
   ],
   "source": [
    "name.replace(\"Masters\",\"Masters Version 2\").strip()\n",
    "# combining strip and replace and we have flexibility of interchanging the location of replace and strip"
   ]
  },
  {
   "cell_type": "code",
   "execution_count": 37,
   "id": "ea8a24ba-48a5-4222-abd3-f11e75fa2195",
   "metadata": {},
   "outputs": [
    {
     "data": {
      "text/plain": [
       "'PW Skills Data Science Masters Version 2   '"
      ]
     },
     "execution_count": 37,
     "metadata": {},
     "output_type": "execute_result"
    }
   ],
   "source": [
    "name.replace(\"Masters\",\"Masters Version 2\").lstrip()"
   ]
  },
  {
   "cell_type": "code",
   "execution_count": 38,
   "id": "c263aac6-2e75-4b97-acc7-1a77f45f2a7c",
   "metadata": {},
   "outputs": [
    {
     "data": {
      "text/plain": [
       "'   PW Skills Data Science Masters Version 2'"
      ]
     },
     "execution_count": 38,
     "metadata": {},
     "output_type": "execute_result"
    }
   ],
   "source": [
    "name.replace(\"Masters\",\"Masters Version 2\").rstrip()"
   ]
  },
  {
   "cell_type": "code",
   "execution_count": 1,
   "id": "a28f17ce-8c59-46ae-999c-1f689a7e3781",
   "metadata": {},
   "outputs": [],
   "source": [
    "name = 'Welcome to PW Skills. Welcome to Dat cience Masters'"
   ]
  },
  {
   "cell_type": "code",
   "execution_count": 4,
   "id": "afc8d9a1-2d3d-4731-a5f8-e24947adeed3",
   "metadata": {},
   "outputs": [
    {
     "data": {
      "text/plain": [
       "'Welcome to PW Skills. Welcome to Data Science Masters'"
      ]
     },
     "execution_count": 4,
     "metadata": {},
     "output_type": "execute_result"
    }
   ],
   "source": [
    "name.replace(\"Dat\", 'Data').replace('cience','Science')\n",
    "# two replace operations with two replace command"
   ]
  },
  {
   "cell_type": "code",
   "execution_count": 5,
   "id": "72475893-c4ab-4258-b34f-d3183f1c3925",
   "metadata": {},
   "outputs": [
    {
     "data": {
      "text/plain": [
       "'Welcome to PW Skills. Welcome to Dat cience Masters'"
      ]
     },
     "execution_count": 5,
     "metadata": {},
     "output_type": "execute_result"
    }
   ],
   "source": [
    "name"
   ]
  },
  {
   "cell_type": "code",
   "execution_count": 6,
   "id": "f343f388-cd7a-4f31-9a5f-5a81c54219c9",
   "metadata": {},
   "outputs": [],
   "source": [
    "name = 'PW Skills Data Science Masters Version 2'"
   ]
  },
  {
   "cell_type": "code",
   "execution_count": 7,
   "id": "72d12a13-7a84-456d-81b2-3c24d6ec8c39",
   "metadata": {},
   "outputs": [
    {
     "data": {
      "text/plain": [
       "False"
      ]
     },
     "execution_count": 7,
     "metadata": {},
     "output_type": "execute_result"
    }
   ],
   "source": [
    "name.isupper()"
   ]
  },
  {
   "cell_type": "code",
   "execution_count": 8,
   "id": "f783a2da-07a0-4ab6-81f7-fb82060e29f4",
   "metadata": {},
   "outputs": [
    {
     "data": {
      "text/plain": [
       "False"
      ]
     },
     "execution_count": 8,
     "metadata": {},
     "output_type": "execute_result"
    }
   ],
   "source": [
    "name.islower()"
   ]
  },
  {
   "cell_type": "code",
   "execution_count": 9,
   "id": "7c5d54a8-fdf4-40db-8061-88455d14e7f6",
   "metadata": {},
   "outputs": [
    {
     "data": {
      "text/plain": [
       "False"
      ]
     },
     "execution_count": 9,
     "metadata": {},
     "output_type": "execute_result"
    }
   ],
   "source": [
    "name.istitle()"
   ]
  },
  {
   "cell_type": "code",
   "execution_count": 10,
   "id": "5836dd23-ce7b-4fa1-8e42-bb726c8333eb",
   "metadata": {},
   "outputs": [
    {
     "data": {
      "text/plain": [
       "True"
      ]
     },
     "execution_count": 10,
     "metadata": {},
     "output_type": "execute_result"
    }
   ],
   "source": [
    "' ' .isspace()"
   ]
  },
  {
   "cell_type": "code",
   "execution_count": 11,
   "id": "2dddddcc-a71b-441d-8898-4f93b9c98515",
   "metadata": {},
   "outputs": [
    {
     "data": {
      "text/plain": [
       "'PW Skills Data Science Masters Version 2'"
      ]
     },
     "execution_count": 11,
     "metadata": {},
     "output_type": "execute_result"
    }
   ],
   "source": [
    "name"
   ]
  },
  {
   "cell_type": "code",
   "execution_count": 13,
   "id": "eec89040-4b1e-4ead-abba-3802bd03b286",
   "metadata": {},
   "outputs": [],
   "source": [
    "name = 'PW Skills Data Science Masters'"
   ]
  },
  {
   "cell_type": "code",
   "execution_count": 14,
   "id": "930173d8-8a54-4482-b240-2f521645cbbc",
   "metadata": {},
   "outputs": [
    {
     "data": {
      "text/plain": [
       "True"
      ]
     },
     "execution_count": 14,
     "metadata": {},
     "output_type": "execute_result"
    }
   ],
   "source": [
    "name.endswith('s')"
   ]
  },
  {
   "cell_type": "code",
   "execution_count": 15,
   "id": "0e00ccf1-eda3-42b9-badc-94fb84b706a9",
   "metadata": {},
   "outputs": [
    {
     "data": {
      "text/plain": [
       "True"
      ]
     },
     "execution_count": 15,
     "metadata": {},
     "output_type": "execute_result"
    }
   ],
   "source": [
    "name.startswith('P')"
   ]
  },
  {
   "cell_type": "code",
   "execution_count": 16,
   "id": "167bd52a-0fd1-435d-a344-35c8c10eb5b2",
   "metadata": {},
   "outputs": [
    {
     "data": {
      "text/plain": [
       "False"
      ]
     },
     "execution_count": 16,
     "metadata": {},
     "output_type": "execute_result"
    }
   ],
   "source": [
    "name.endswith('M')"
   ]
  },
  {
   "cell_type": "code",
   "execution_count": 17,
   "id": "fbd24138-b4fb-4c60-b879-7c86887faecd",
   "metadata": {},
   "outputs": [],
   "source": [
    "name = 'PW Skills Data Science Masters Version 2'"
   ]
  },
  {
   "cell_type": "code",
   "execution_count": 18,
   "id": "9d797059-c631-4b8f-9c66-8ff5f2b96fcc",
   "metadata": {},
   "outputs": [
    {
     "data": {
      "text/plain": [
       "False"
      ]
     },
     "execution_count": 18,
     "metadata": {},
     "output_type": "execute_result"
    }
   ],
   "source": [
    "name.isalpha()"
   ]
  },
  {
   "cell_type": "code",
   "execution_count": 10,
   "id": "d4335655-a7d5-4c34-b2b7-ede65b0fdd19",
   "metadata": {},
   "outputs": [],
   "source": [
    "name = 'PW1Skills1Data1Science1Masters1Version1a2'"
   ]
  },
  {
   "cell_type": "code",
   "execution_count": 11,
   "id": "0e565d5f-eba0-454a-b88a-4a5d9dc0e2e8",
   "metadata": {},
   "outputs": [
    {
     "data": {
      "text/plain": [
       "'PW1Skills1Data1Science1Masters1Version1a2'"
      ]
     },
     "execution_count": 11,
     "metadata": {},
     "output_type": "execute_result"
    }
   ],
   "source": [
    "name"
   ]
  },
  {
   "cell_type": "code",
   "execution_count": 12,
   "id": "e4dcbe80-9c14-457a-9806-02c79f5e1107",
   "metadata": {},
   "outputs": [
    {
     "data": {
      "text/plain": [
       "True"
      ]
     },
     "execution_count": 12,
     "metadata": {},
     "output_type": "execute_result"
    }
   ],
   "source": [
    "name.isalnum()"
   ]
  },
  {
   "cell_type": "code",
   "execution_count": 13,
   "id": "691e43cc-5dc1-43f6-9376-d502550f2869",
   "metadata": {},
   "outputs": [],
   "source": [
    "name = 'PW Skills Data Science Masters Version 2'"
   ]
  },
  {
   "cell_type": "code",
   "execution_count": 14,
   "id": "d41077ff-b2a8-40f2-a506-c516299ac223",
   "metadata": {},
   "outputs": [
    {
     "name": "stdout",
     "output_type": "stream",
     "text": [
      "40\n"
     ]
    }
   ],
   "source": [
    "count = 0\n",
    "for i in name:\n",
    "    count+=1\n",
    "print(count)"
   ]
  },
  {
   "cell_type": "code",
   "execution_count": 15,
   "id": "02f2c727-b26f-406f-8015-4bad5b54ff35",
   "metadata": {},
   "outputs": [
    {
     "data": {
      "text/plain": [
       "40"
      ]
     },
     "execution_count": 15,
     "metadata": {},
     "output_type": "execute_result"
    }
   ],
   "source": [
    "len(name)"
   ]
  },
  {
   "cell_type": "code",
   "execution_count": 2,
   "id": "e244a34f-b761-4070-93e0-a6a0f9a26881",
   "metadata": {},
   "outputs": [],
   "source": [
    " name = 'PW Skills Data Science Masters Version 2'"
   ]
  },
  {
   "cell_type": "code",
   "execution_count": 3,
   "id": "c6c7232b-8ac6-4f3b-aebb-35395fc468da",
   "metadata": {},
   "outputs": [
    {
     "data": {
      "text/plain": [
       "'PW Skills Data Science Masters Version 2'"
      ]
     },
     "execution_count": 3,
     "metadata": {},
     "output_type": "execute_result"
    }
   ],
   "source": [
    "name"
   ]
  },
  {
   "cell_type": "code",
   "execution_count": 4,
   "id": "ee3aac31-7873-4474-b119-ddf2d0cfada4",
   "metadata": {},
   "outputs": [
    {
     "name": "stdout",
     "output_type": "stream",
     "text": [
      "P\n",
      "W\n",
      " \n",
      "S\n",
      "k\n",
      "i\n",
      "l\n",
      "l\n",
      "s\n",
      " \n",
      "D\n",
      "a\n",
      "t\n",
      "a\n",
      " \n",
      "S\n",
      "c\n",
      "i\n",
      "e\n",
      "n\n",
      "c\n",
      "e\n",
      " \n",
      "M\n",
      "a\n",
      "s\n",
      "t\n",
      "e\n",
      "r\n",
      "s\n",
      " \n",
      "V\n",
      "e\n",
      "r\n",
      "s\n",
      "i\n",
      "o\n",
      "n\n",
      " \n",
      "2\n"
     ]
    }
   ],
   "source": [
    "for i in name:\n",
    "    print(i)"
   ]
  },
  {
   "cell_type": "code",
   "execution_count": 5,
   "id": "1f6cc373-fdb8-4323-bae9-489ff7e9014a",
   "metadata": {},
   "outputs": [
    {
     "data": {
      "text/plain": [
       "'PW Skills Data Science Masters Version 2'"
      ]
     },
     "execution_count": 5,
     "metadata": {},
     "output_type": "execute_result"
    }
   ],
   "source": [
    "name"
   ]
  },
  {
   "cell_type": "code",
   "execution_count": 8,
   "id": "50153e79-0ad0-41f2-8bc6-2d7a297650ed",
   "metadata": {},
   "outputs": [
    {
     "name": "stdout",
     "output_type": "stream",
     "text": [
      "[ 0 ] = P\n",
      "[ 1 ] = W\n",
      "[ 2 ] =  \n",
      "[ 3 ] = S\n",
      "[ 4 ] = k\n",
      "[ 5 ] = i\n",
      "[ 6 ] = l\n",
      "[ 7 ] = l\n",
      "[ 8 ] = s\n",
      "[ 9 ] =  \n",
      "[ 10 ] = D\n",
      "[ 11 ] = a\n",
      "[ 12 ] = t\n",
      "[ 13 ] = a\n",
      "[ 14 ] =  \n",
      "[ 15 ] = S\n",
      "[ 16 ] = c\n",
      "[ 17 ] = i\n",
      "[ 18 ] = e\n",
      "[ 19 ] = n\n",
      "[ 20 ] = c\n",
      "[ 21 ] = e\n",
      "[ 22 ] =  \n",
      "[ 23 ] = M\n",
      "[ 24 ] = a\n",
      "[ 25 ] = s\n",
      "[ 26 ] = t\n",
      "[ 27 ] = e\n",
      "[ 28 ] = r\n",
      "[ 29 ] = s\n",
      "[ 30 ] =  \n",
      "[ 31 ] = V\n",
      "[ 32 ] = e\n",
      "[ 33 ] = r\n",
      "[ 34 ] = s\n",
      "[ 35 ] = i\n",
      "[ 36 ] = o\n",
      "[ 37 ] = n\n",
      "[ 38 ] =  \n",
      "[ 39 ] = 2\n"
     ]
    }
   ],
   "source": [
    "for i in range(len(name)):\n",
    "    print('[',i,']','=',name[i])"
   ]
  },
  {
   "cell_type": "code",
   "execution_count": 9,
   "id": "b71cfc67-7dd2-4680-888e-9563664a2648",
   "metadata": {},
   "outputs": [
    {
     "data": {
      "text/plain": [
       "'PW Skills Data Science Masters Version 2'"
      ]
     },
     "execution_count": 9,
     "metadata": {},
     "output_type": "execute_result"
    }
   ],
   "source": [
    "name"
   ]
  },
  {
   "cell_type": "code",
   "execution_count": 10,
   "id": "8de0bb0a-7c77-4da9-800b-0eaa2ccd8ba2",
   "metadata": {},
   "outputs": [],
   "source": [
    "name = 'PW Skills Data Science Masters'"
   ]
  },
  {
   "cell_type": "code",
   "execution_count": 14,
   "id": "59eb7937-7a50-4711-b75b-2458039cd115",
   "metadata": {},
   "outputs": [
    {
     "name": "stdout",
     "output_type": "stream",
     "text": [
      "s\n",
      "r\n",
      "e\n",
      "t\n",
      "s\n",
      "a\n",
      "M\n",
      " \n",
      "e\n",
      "c\n",
      "n\n",
      "e\n",
      "i\n",
      "c\n",
      "S\n",
      " \n",
      "a\n",
      "t\n",
      "a\n",
      "D\n",
      " \n",
      "s\n",
      "l\n",
      "l\n",
      "i\n",
      "k\n",
      "S\n",
      " \n",
      "W\n",
      "P\n"
     ]
    }
   ],
   "source": [
    "# printing the string in the reverse direction\n",
    "for i in name[::-1]:\n",
    "    print(i)"
   ]
  },
  {
   "cell_type": "code",
   "execution_count": 16,
   "id": "422c04ee-4f18-456c-8ff8-33e3a3ef5bd2",
   "metadata": {},
   "outputs": [
    {
     "name": "stdout",
     "output_type": "stream",
     "text": [
      "s\n",
      "r\n",
      "e\n",
      "t\n",
      "s\n",
      "a\n",
      "M\n",
      " \n",
      "e\n",
      "c\n",
      "n\n",
      "e\n",
      "i\n",
      "c\n",
      "S\n",
      " \n",
      "a\n",
      "t\n",
      "a\n",
      "D\n",
      " \n",
      "s\n",
      "l\n",
      "l\n",
      "i\n",
      "k\n",
      "S\n",
      " \n",
      "W\n",
      "P\n"
     ]
    }
   ],
   "source": [
    "# printing the string in reverse direction using while loop\n",
    "ch = len(name)-1\n",
    "while ch>=0:\n",
    "    print(name[ch])\n",
    "    ch-=1"
   ]
  },
  {
   "cell_type": "code",
   "execution_count": 18,
   "id": "d2a37ba1-78eb-487a-b5f8-868a015f2996",
   "metadata": {},
   "outputs": [
    {
     "name": "stdout",
     "output_type": "stream",
     "text": [
      "sretsaM ecneicS ataD sllikS WP"
     ]
    }
   ],
   "source": [
    "for i in name[::-1]:\n",
    "    print(i, end ='')"
   ]
  },
  {
   "cell_type": "code",
   "execution_count": 19,
   "id": "9ecb2af4-7dc2-451d-af07-b15bfb5a33f6",
   "metadata": {},
   "outputs": [
    {
     "data": {
      "text/plain": [
       "'sretsaM ecneicS ataD sllikS WP'"
      ]
     },
     "execution_count": 19,
     "metadata": {},
     "output_type": "execute_result"
    }
   ],
   "source": [
    "name[::-1]"
   ]
  },
  {
   "cell_type": "code",
   "execution_count": 30,
   "id": "f7f0de12-85e5-4a07-b807-6eca77304d2d",
   "metadata": {},
   "outputs": [
    {
     "name": "stdout",
     "output_type": "stream",
     "text": [
      "P is not a vowel\n",
      "W is not a vowel\n",
      "S is not a vowel\n",
      "k is not a vowel\n",
      "i is a vowel\n",
      "l is not a vowel\n",
      "l is not a vowel\n",
      "s is not a vowel\n"
     ]
    }
   ],
   "source": [
    "name = 'PWSkills'\n",
    "vowels = 'AaEeIiOoUu'\n",
    "for i in name:\n",
    "    if i in vowels:\n",
    "        print(f'{i} is a vowel')\n",
    "    else:\n",
    "        print(f'{i} is not a vowel')\n",
    "        "
   ]
  },
  {
   "cell_type": "markdown",
   "id": "100a8987-1492-40d6-b3ae-ec3788354da2",
   "metadata": {},
   "source": [
    "## List"
   ]
  },
  {
   "cell_type": "code",
   "execution_count": 42,
   "id": "e5d2238e-20dd-42f3-b2a7-c6f245fd9a34",
   "metadata": {},
   "outputs": [],
   "source": [
    "n1 = ['1', '2', '3', '4', '5', '6','7']"
   ]
  },
  {
   "cell_type": "code",
   "execution_count": 43,
   "id": "5025c6da-0fd8-44a5-b8be-87712f58e45a",
   "metadata": {},
   "outputs": [
    {
     "data": {
      "text/plain": [
       "['1', '2', '3', '4', '5', '6', '7']"
      ]
     },
     "execution_count": 43,
     "metadata": {},
     "output_type": "execute_result"
    }
   ],
   "source": [
    "n1"
   ]
  },
  {
   "cell_type": "code",
   "execution_count": 44,
   "id": "777ef5fe-4bfa-427d-b9c2-10085608fcec",
   "metadata": {},
   "outputs": [
    {
     "name": "stdout",
     "output_type": "stream",
     "text": [
      "1\n",
      "2\n",
      "3\n",
      "4\n",
      "5\n",
      "6\n",
      "7\n"
     ]
    }
   ],
   "source": [
    "for i in n1:\n",
    "    print(i)"
   ]
  },
  {
   "cell_type": "code",
   "execution_count": 11,
   "id": "b59d4952-1cdb-48da-84ed-87e23f63d190",
   "metadata": {},
   "outputs": [],
   "source": [
    "lst1 = ['PW', 'Skills', 'Data', 'Science', 'Masters']"
   ]
  },
  {
   "cell_type": "code",
   "execution_count": 12,
   "id": "05f135a1-6591-4a44-9d7d-7ecae943761b",
   "metadata": {},
   "outputs": [
    {
     "data": {
      "text/plain": [
       "['PW', 'Skills', 'Data', 'Science', 'Masters']"
      ]
     },
     "execution_count": 12,
     "metadata": {},
     "output_type": "execute_result"
    }
   ],
   "source": [
    "lst1"
   ]
  },
  {
   "cell_type": "code",
   "execution_count": 13,
   "id": "920757f6-0167-49a7-9474-30f0c096ccf4",
   "metadata": {},
   "outputs": [
    {
     "name": "stdout",
     "output_type": "stream",
     "text": [
      "PW\n",
      "Skills\n",
      "Data\n",
      "Science\n"
     ]
    }
   ],
   "source": [
    "for i in lst1:\n",
    "    print(i)\n",
    "    if i == 'Science':\n",
    "        break"
   ]
  },
  {
   "cell_type": "code",
   "execution_count": 14,
   "id": "0d4c092f-0eb1-4671-94bd-8f0c30247a69",
   "metadata": {},
   "outputs": [
    {
     "data": {
      "text/plain": [
       "True"
      ]
     },
     "execution_count": 14,
     "metadata": {},
     "output_type": "execute_result"
    }
   ],
   "source": [
    "'Masters' in lst1"
   ]
  },
  {
   "cell_type": "code",
   "execution_count": 22,
   "id": "98c42dc0-8cf6-4d3a-b186-597c015ab647",
   "metadata": {},
   "outputs": [],
   "source": [
    " \n",
    "lst2 = lst1 + ['Version2']"
   ]
  },
  {
   "cell_type": "code",
   "execution_count": 23,
   "id": "36534af4-56a9-4710-aac1-e515a181abfc",
   "metadata": {},
   "outputs": [
    {
     "data": {
      "text/plain": [
       "['PW', 'Skills', 'Data', 'Science', 'Masters', 'Version2']"
      ]
     },
     "execution_count": 23,
     "metadata": {},
     "output_type": "execute_result"
    }
   ],
   "source": [
    "lst2"
   ]
  },
  {
   "cell_type": "code",
   "execution_count": 24,
   "id": "14e3b9bb-eb9d-4379-86b6-575affb07c71",
   "metadata": {},
   "outputs": [
    {
     "data": {
      "text/plain": [
       "'Version2'"
      ]
     },
     "execution_count": 24,
     "metadata": {},
     "output_type": "execute_result"
    }
   ],
   "source": [
    "lst2[-1]"
   ]
  },
  {
   "cell_type": "code",
   "execution_count": 25,
   "id": "7e6a7fbb-dedc-4bd6-87e3-7a1c2e1b0a4d",
   "metadata": {},
   "outputs": [
    {
     "data": {
      "text/plain": [
       "['Version2', 'Masters', 'Science', 'Data', 'Skills', 'PW']"
      ]
     },
     "execution_count": 25,
     "metadata": {},
     "output_type": "execute_result"
    }
   ],
   "source": [
    "lst2[::-1]"
   ]
  },
  {
   "cell_type": "code",
   "execution_count": 32,
   "id": "623f1b6f-ab75-4386-8c69-7fc81f0b1800",
   "metadata": {},
   "outputs": [
    {
     "name": "stdout",
     "output_type": "stream",
     "text": [
      "Skills\n"
     ]
    }
   ],
   "source": [
    "print(max(lst1))"
   ]
  },
  {
   "cell_type": "code",
   "execution_count": 33,
   "id": "988f00f6-38bf-4ced-a080-5f45ab8b0a26",
   "metadata": {},
   "outputs": [
    {
     "name": "stdout",
     "output_type": "stream",
     "text": [
      "Version2\n"
     ]
    }
   ],
   "source": [
    "print(max(lst2))"
   ]
  },
  {
   "cell_type": "code",
   "execution_count": 34,
   "id": "687afb2b-707e-457b-bb63-10adb13e84f0",
   "metadata": {},
   "outputs": [
    {
     "name": "stdout",
     "output_type": "stream",
     "text": [
      "Data\n"
     ]
    }
   ],
   "source": [
    "print(min(lst1))"
   ]
  },
  {
   "cell_type": "code",
   "execution_count": 35,
   "id": "c556d975-f34f-44bf-a906-b7c77f87ea75",
   "metadata": {},
   "outputs": [
    {
     "name": "stdout",
     "output_type": "stream",
     "text": [
      "Data\n"
     ]
    }
   ],
   "source": [
    "print(min(lst2))"
   ]
  },
  {
   "cell_type": "code",
   "execution_count": 36,
   "id": "0905d9d9-f264-4b3f-be6e-7d69e9e9f5c0",
   "metadata": {},
   "outputs": [
    {
     "data": {
      "text/plain": [
       "['PW', 'Skills', 'Data', 'Science', 'Masters']"
      ]
     },
     "execution_count": 36,
     "metadata": {},
     "output_type": "execute_result"
    }
   ],
   "source": [
    "lst1"
   ]
  },
  {
   "cell_type": "code",
   "execution_count": 37,
   "id": "2f0cdbc1-d921-4add-ae89-5bc84befdff2",
   "metadata": {},
   "outputs": [],
   "source": [
    "lst1.append('Version2')"
   ]
  },
  {
   "cell_type": "code",
   "execution_count": 38,
   "id": "84885bb9-146c-4f61-a246-c88f984ad850",
   "metadata": {},
   "outputs": [
    {
     "data": {
      "text/plain": [
       "['PW', 'Skills', 'Data', 'Science', 'Masters', 'Version2']"
      ]
     },
     "execution_count": 38,
     "metadata": {},
     "output_type": "execute_result"
    }
   ],
   "source": [
    "lst1"
   ]
  },
  {
   "cell_type": "code",
   "execution_count": 39,
   "id": "77dad057-292c-4a02-9c62-96c088087f12",
   "metadata": {},
   "outputs": [],
   "source": [
    "lst1.insert(1, 'PhysicsWallah')"
   ]
  },
  {
   "cell_type": "code",
   "execution_count": 40,
   "id": "c9247e83-1069-4c67-8d88-7f321f92c1c3",
   "metadata": {},
   "outputs": [
    {
     "data": {
      "text/plain": [
       "['PW', 'PhysicsWallah', 'Skills', 'Data', 'Science', 'Masters', 'Version2']"
      ]
     },
     "execution_count": 40,
     "metadata": {},
     "output_type": "execute_result"
    }
   ],
   "source": [
    "lst1"
   ]
  },
  {
   "cell_type": "code",
   "execution_count": 41,
   "id": "f1cc9b66-28e0-43ac-b5dc-4ed0c788866c",
   "metadata": {},
   "outputs": [],
   "source": [
    "# remove function to be used when we don't know the position but know the element to be removed\n",
    "lst1.remove('PW')"
   ]
  },
  {
   "cell_type": "code",
   "execution_count": 42,
   "id": "347eceab-adc5-4a49-a6f9-a84ff08dabf3",
   "metadata": {},
   "outputs": [
    {
     "data": {
      "text/plain": [
       "['PhysicsWallah', 'Skills', 'Data', 'Science', 'Masters', 'Version2']"
      ]
     },
     "execution_count": 42,
     "metadata": {},
     "output_type": "execute_result"
    }
   ],
   "source": [
    "lst1"
   ]
  },
  {
   "cell_type": "code",
   "execution_count": 43,
   "id": "c8a024e8-abd8-48e8-83f5-dad886044af8",
   "metadata": {},
   "outputs": [],
   "source": [
    "lst1.insert(0, 'PW')"
   ]
  },
  {
   "cell_type": "code",
   "execution_count": 44,
   "id": "5261a4f4-3f36-4d77-adcf-eed5763bab32",
   "metadata": {},
   "outputs": [
    {
     "data": {
      "text/plain": [
       "['PW', 'PhysicsWallah', 'Skills', 'Data', 'Science', 'Masters', 'Version2']"
      ]
     },
     "execution_count": 44,
     "metadata": {},
     "output_type": "execute_result"
    }
   ],
   "source": [
    "lst1"
   ]
  },
  {
   "cell_type": "code",
   "execution_count": 46,
   "id": "3ece28eb-8cba-42b2-8046-b9f25d934427",
   "metadata": {},
   "outputs": [],
   "source": [
    "# del function used when you know the position of the elemnet in the list\n",
    "del lst1[0]"
   ]
  },
  {
   "cell_type": "code",
   "execution_count": 47,
   "id": "b1eefeb0-ab20-4b4b-8d52-2b00be721b3d",
   "metadata": {},
   "outputs": [
    {
     "data": {
      "text/plain": [
       "['PhysicsWallah', 'Skills', 'Data', 'Science', 'Masters', 'Version2']"
      ]
     },
     "execution_count": 47,
     "metadata": {},
     "output_type": "execute_result"
    }
   ],
   "source": [
    "lst1"
   ]
  },
  {
   "cell_type": "code",
   "execution_count": 48,
   "id": "1f5862f4-9916-4b62-92f2-e23ec8ae6db8",
   "metadata": {},
   "outputs": [
    {
     "data": {
      "text/plain": [
       "'Version2'"
      ]
     },
     "execution_count": 48,
     "metadata": {},
     "output_type": "execute_result"
    }
   ],
   "source": [
    "# pop with empty brackets would remove the last elemnt from the list\n",
    "lst1.pop()"
   ]
  },
  {
   "cell_type": "code",
   "execution_count": 49,
   "id": "a7bd0525-4ff3-4970-851a-cbacd23b1ee7",
   "metadata": {},
   "outputs": [
    {
     "data": {
      "text/plain": [
       "['PhysicsWallah', 'Skills', 'Data', 'Science', 'Masters']"
      ]
     },
     "execution_count": 49,
     "metadata": {},
     "output_type": "execute_result"
    }
   ],
   "source": [
    "lst1"
   ]
  },
  {
   "cell_type": "code",
   "execution_count": 50,
   "id": "78b496fc-5a0a-4cbe-8ac0-12999cd9313e",
   "metadata": {},
   "outputs": [
    {
     "data": {
      "text/plain": [
       "'Skills'"
      ]
     },
     "execution_count": 50,
     "metadata": {},
     "output_type": "execute_result"
    }
   ],
   "source": [
    "# pop(index of the elemnt to be removed from the list)\n",
    "lst1.pop(1)"
   ]
  },
  {
   "cell_type": "code",
   "execution_count": 51,
   "id": "aeb525ab-3c3a-44e7-97eb-6378fc1a2825",
   "metadata": {},
   "outputs": [
    {
     "data": {
      "text/plain": [
       "['PhysicsWallah', 'Data', 'Science', 'Masters']"
      ]
     },
     "execution_count": 51,
     "metadata": {},
     "output_type": "execute_result"
    }
   ],
   "source": [
    "lst1"
   ]
  },
  {
   "cell_type": "code",
   "execution_count": 52,
   "id": "aa70d39b-7b8c-4b71-a9c9-3069a3f5baf6",
   "metadata": {},
   "outputs": [],
   "source": [
    "lst2 = [5, 7, 1, 9, 4,0,2,8,3]"
   ]
  },
  {
   "cell_type": "code",
   "execution_count": 53,
   "id": "78c79482-22d7-4331-ba42-fae2dd43efac",
   "metadata": {},
   "outputs": [
    {
     "data": {
      "text/plain": [
       "[5, 7, 1, 9, 4, 0, 2, 8, 3]"
      ]
     },
     "execution_count": 53,
     "metadata": {},
     "output_type": "execute_result"
    }
   ],
   "source": [
    "lst2"
   ]
  },
  {
   "cell_type": "code",
   "execution_count": 54,
   "id": "7134f599-c4ba-40b7-a770-2cff20ce49f5",
   "metadata": {},
   "outputs": [],
   "source": [
    "# permanent sorting of the list\n",
    "lst2.sort()"
   ]
  },
  {
   "cell_type": "code",
   "execution_count": 55,
   "id": "94197ae3-c8b3-4fc5-913e-c62b4d24014f",
   "metadata": {},
   "outputs": [
    {
     "data": {
      "text/plain": [
       "[0, 1, 2, 3, 4, 5, 7, 8, 9]"
      ]
     },
     "execution_count": 55,
     "metadata": {},
     "output_type": "execute_result"
    }
   ],
   "source": [
    "lst2"
   ]
  },
  {
   "cell_type": "code",
   "execution_count": 65,
   "id": "af402322-a60b-44da-b6e4-667136b06744",
   "metadata": {},
   "outputs": [],
   "source": [
    "# for reversing the list and the output is permanent in nature\n",
    "lst2.sort(reverse = True)"
   ]
  },
  {
   "cell_type": "code",
   "execution_count": 64,
   "id": "e936ea17-104e-4492-9eaf-dfd33cbf9893",
   "metadata": {},
   "outputs": [
    {
     "data": {
      "text/plain": [
       "[9, 8, 7, 5, 4, 3, 2, 1, 0]"
      ]
     },
     "execution_count": 64,
     "metadata": {},
     "output_type": "execute_result"
    }
   ],
   "source": [
    "lst2"
   ]
  },
  {
   "cell_type": "code",
   "execution_count": 56,
   "id": "9d6d9267-58c2-4492-8375-ed59f67cf2ef",
   "metadata": {},
   "outputs": [],
   "source": [
    "lst2 = [5, 7, 1, 9, 4,0,2,8,3]"
   ]
  },
  {
   "cell_type": "code",
   "execution_count": null,
   "id": "0e2dea6d-f025-4628-b648-4dc04b9013dc",
   "metadata": {},
   "outputs": [],
   "source": []
  },
  {
   "cell_type": "code",
   "execution_count": 57,
   "id": "0f41224c-5dd4-4fe7-8089-0171bb55b069",
   "metadata": {},
   "outputs": [
    {
     "data": {
      "text/plain": [
       "[5, 7, 1, 9, 4, 0, 2, 8, 3]"
      ]
     },
     "execution_count": 57,
     "metadata": {},
     "output_type": "execute_result"
    }
   ],
   "source": [
    "lst2"
   ]
  },
  {
   "cell_type": "code",
   "execution_count": 61,
   "id": "02560645-ad31-4c99-b90e-c4b19470b193",
   "metadata": {},
   "outputs": [
    {
     "name": "stdout",
     "output_type": "stream",
     "text": [
      "[0, 1, 2, 3, 4, 5, 7, 8, 9]\n"
     ]
    }
   ],
   "source": [
    "# temporary sorting of the list\n",
    "print(sorted(lst2))"
   ]
  },
  {
   "cell_type": "code",
   "execution_count": 67,
   "id": "1747a7c6-8450-4df3-8bc6-24a0fdd14f10",
   "metadata": {},
   "outputs": [
    {
     "name": "stdout",
     "output_type": "stream",
     "text": [
      "[9, 8, 7, 5, 4, 3, 2, 1, 0]\n"
     ]
    }
   ],
   "source": [
    "# temporary reversing the list in single line command\n",
    "print(sorted(lst2, reverse=True))"
   ]
  },
  {
   "cell_type": "code",
   "execution_count": 1,
   "id": "e80091d6-debc-43cf-bd99-5b15baa6540c",
   "metadata": {},
   "outputs": [],
   "source": [
    "lst2 = [5, 7, 1, 9, 4,0,2,8,3]"
   ]
  },
  {
   "cell_type": "code",
   "execution_count": 2,
   "id": "3712c54e-4bfe-4090-b56d-4aca1b5c0324",
   "metadata": {},
   "outputs": [],
   "source": [
    "lst2.append(10)"
   ]
  },
  {
   "cell_type": "code",
   "execution_count": 3,
   "id": "92a35e9a-d413-40a9-bd53-6c1ec4a857af",
   "metadata": {},
   "outputs": [
    {
     "data": {
      "text/plain": [
       "[5, 7, 1, 9, 4, 0, 2, 8, 3, 10]"
      ]
     },
     "execution_count": 3,
     "metadata": {},
     "output_type": "execute_result"
    }
   ],
   "source": [
    "lst2"
   ]
  },
  {
   "cell_type": "code",
   "execution_count": 4,
   "id": "4f15a439-3a85-470f-8acf-5d4daac5cf66",
   "metadata": {},
   "outputs": [],
   "source": [
    "lst2.insert(5,'PW')"
   ]
  },
  {
   "cell_type": "code",
   "execution_count": 5,
   "id": "25896f2a-da49-4018-84c0-7e985f8d829c",
   "metadata": {},
   "outputs": [
    {
     "data": {
      "text/plain": [
       "[5, 7, 1, 9, 4, 'PW', 0, 2, 8, 3, 10]"
      ]
     },
     "execution_count": 5,
     "metadata": {},
     "output_type": "execute_result"
    }
   ],
   "source": [
    "lst2"
   ]
  },
  {
   "cell_type": "code",
   "execution_count": 16,
   "id": "9299b6ca-62db-4982-b15e-76662403543d",
   "metadata": {},
   "outputs": [],
   "source": [
    "lst2.extend('22')"
   ]
  },
  {
   "cell_type": "code",
   "execution_count": 18,
   "id": "9c984cff-3ada-4ce1-9c60-1cfa1b7352f0",
   "metadata": {},
   "outputs": [
    {
     "data": {
      "text/plain": [
       "[5,\n",
       " 7,\n",
       " 1,\n",
       " 9,\n",
       " 4,\n",
       " 'PW',\n",
       " 0,\n",
       " 2,\n",
       " 8,\n",
       " 3,\n",
       " 10,\n",
       " '2',\n",
       " '2',\n",
       " 's',\n",
       " 'k',\n",
       " 'i',\n",
       " 'l',\n",
       " 'l',\n",
       " 's',\n",
       " ',',\n",
       " ' ',\n",
       " 'M',\n",
       " 'a',\n",
       " 's',\n",
       " 't',\n",
       " 'e',\n",
       " 'r',\n",
       " 's',\n",
       " '2',\n",
       " '2',\n",
       " '2',\n",
       " '2']"
      ]
     },
     "execution_count": 18,
     "metadata": {},
     "output_type": "execute_result"
    }
   ],
   "source": [
    "lst2"
   ]
  },
  {
   "cell_type": "markdown",
   "id": "8821bb09-5972-421d-b944-f0d78b64797e",
   "metadata": {},
   "source": [
    "## Nested lists"
   ]
  },
  {
   "cell_type": "code",
   "execution_count": 20,
   "id": "a954da23-d2fd-432b-8887-01eb1318fb70",
   "metadata": {},
   "outputs": [],
   "source": [
    "l1 = [1,2,3]\n",
    "l2 = [4,5,6]\n",
    "l3 = [7,8,9]\n",
    "matrix = [l1,l2,l3]"
   ]
  },
  {
   "cell_type": "code",
   "execution_count": 21,
   "id": "be0500f2-6d55-489a-b935-14df5108653c",
   "metadata": {},
   "outputs": [
    {
     "data": {
      "text/plain": [
       "[[1, 2, 3], [4, 5, 6], [7, 8, 9]]"
      ]
     },
     "execution_count": 21,
     "metadata": {},
     "output_type": "execute_result"
    }
   ],
   "source": [
    "matrix"
   ]
  },
  {
   "cell_type": "code",
   "execution_count": 30,
   "id": "eec0e735-78aa-4534-a2ed-417bccd78726",
   "metadata": {},
   "outputs": [
    {
     "data": {
      "text/plain": [
       "['', 1, '', 3, '', 5, '', 7, '', 9, '', 11, '', 13, '', 15]"
      ]
     },
     "execution_count": 30,
     "metadata": {},
     "output_type": "execute_result"
    }
   ],
   "source": [
    "[i if i%2!=0 else \"\" for i in range(16)]"
   ]
  },
  {
   "cell_type": "code",
   "execution_count": 31,
   "id": "89f3bff4-9dff-42d9-9e86-857b6d51b211",
   "metadata": {},
   "outputs": [],
   "source": [
    "lst1 = [1,2,3,4,5,6,7,8]"
   ]
  },
  {
   "cell_type": "code",
   "execution_count": 41,
   "id": "dd86c13e-d7a6-4ccc-baba-d4464dbe79e8",
   "metadata": {},
   "outputs": [
    {
     "name": "stdout",
     "output_type": "stream",
     "text": [
      "20\n",
      "16\n"
     ]
    }
   ],
   "source": [
    "sum_even = sum([i for i in lst1  if i%2 ==0]) \n",
    "sum_odd = sum([i for i in lst1  if i%2 !=0])\n",
    "print(sum_even)\n",
    "print(sum_odd)"
   ]
  },
  {
   "cell_type": "code",
   "execution_count": 46,
   "id": "e4a860a2-bed2-4d56-b3d6-f7c7559c63cc",
   "metadata": {},
   "outputs": [
    {
     "name": "stdout",
     "output_type": "stream",
     "text": [
      "72\n"
     ]
    }
   ],
   "source": [
    "sum_sq = sum([i*2 for i in lst1])  \n",
    "print(sum_sq)"
   ]
  },
  {
   "cell_type": "code",
   "execution_count": 47,
   "id": "c17d9cfd-0561-4ad5-8d72-5a5fa44b9329",
   "metadata": {},
   "outputs": [],
   "source": [
    "sq = [i*2 for i in lst1]"
   ]
  },
  {
   "cell_type": "code",
   "execution_count": 48,
   "id": "9e75ed46-0144-4146-9bb5-dd189d3a4e56",
   "metadata": {},
   "outputs": [
    {
     "data": {
      "text/plain": [
       "[2, 4, 6, 8, 10, 12, 14, 16]"
      ]
     },
     "execution_count": 48,
     "metadata": {},
     "output_type": "execute_result"
    }
   ],
   "source": [
    "sq"
   ]
  },
  {
   "cell_type": "code",
   "execution_count": 63,
   "id": "586747e0-d86b-4060-bcbd-3b19f203e7d6",
   "metadata": {},
   "outputs": [],
   "source": [
    "sum_odd = [i*i for i in lst1  if i%2 !=0]"
   ]
  },
  {
   "cell_type": "code",
   "execution_count": 64,
   "id": "fd3ff4c8-ca6a-4f5c-984f-bf5192652e9c",
   "metadata": {},
   "outputs": [
    {
     "data": {
      "text/plain": [
       "[1, 9, 25, 49]"
      ]
     },
     "execution_count": 64,
     "metadata": {},
     "output_type": "execute_result"
    }
   ],
   "source": [
    "sum_odd"
   ]
  },
  {
   "cell_type": "code",
   "execution_count": 65,
   "id": "53a6ee7a-1412-4d8d-bce4-21da761fce17",
   "metadata": {},
   "outputs": [
    {
     "name": "stdout",
     "output_type": "stream",
     "text": [
      "120\n",
      "84\n"
     ]
    }
   ],
   "source": [
    "# sum of squares of even and odd nos\n",
    "sum_even = sum([i*i for i in lst1  if i%2 ==0]) \n",
    "sum_odd = sum([i*i for i in lst1  if i%2 !=0])\n",
    "print(sum_even)\n",
    "print(sum_odd)"
   ]
  },
  {
   "cell_type": "code",
   "execution_count": 67,
   "id": "1316a0b4-d952-49b5-b219-2edb532a1d4a",
   "metadata": {},
   "outputs": [
    {
     "name": "stdout",
     "output_type": "stream",
     "text": [
      "[-4, -2, -1]\n",
      "[0, 4, 8, 10]\n"
     ]
    }
   ],
   "source": [
    "numbers = [-4,-2,0,-1,4,8,10]\n",
    "a = [num for num in numbers if num<0]\n",
    "b = [num for num in numbers if num>=0]\n",
    "print(a)\n",
    "print(b)"
   ]
  },
  {
   "cell_type": "code",
   "execution_count": 70,
   "id": "812a1c0f-6982-4a44-b125-c61cf9be36b6",
   "metadata": {},
   "outputs": [
    {
     "name": "stdout",
     "output_type": "stream",
     "text": [
      "['e', 'a', 't', 's']\n"
     ]
    }
   ],
   "source": [
    "lst = ['apple', 'banana','carrot','dates']\n",
    "a = [i[-1] for i in lst]\n",
    "print(a)"
   ]
  },
  {
   "cell_type": "code",
   "execution_count": 73,
   "id": "5929a362-5edc-42c3-bd6e-a4dcac00cf9d",
   "metadata": {},
   "outputs": [],
   "source": [
    "l1 = [1,2,3]\n",
    "l2 = [4,5,6]\n",
    "l3 = [7,8,9]\n",
    "matrix = [l1,l2,l3]"
   ]
  },
  {
   "cell_type": "code",
   "execution_count": 74,
   "id": "91905297-ef3d-4248-9d15-58397c84c3f8",
   "metadata": {},
   "outputs": [
    {
     "data": {
      "text/plain": [
       "[[1, 2, 3], [4, 5, 6], [7, 8, 9]]"
      ]
     },
     "execution_count": 74,
     "metadata": {},
     "output_type": "execute_result"
    }
   ],
   "source": [
    "matrix"
   ]
  },
  {
   "cell_type": "code",
   "execution_count": 76,
   "id": "bcd2cdc2-6ed1-46a7-a5d8-8f77efea45a7",
   "metadata": {},
   "outputs": [
    {
     "name": "stdout",
     "output_type": "stream",
     "text": [
      "[1, 4, 7]\n"
     ]
    }
   ],
   "source": [
    "# to get the first number from each list using list comprehension\n",
    "a = [i[0] for i in matrix]\n",
    "print(a)"
   ]
  },
  {
   "cell_type": "code",
   "execution_count": 77,
   "id": "11b422cf-04ca-4046-9daa-c37a165fd55d",
   "metadata": {},
   "outputs": [],
   "source": [
    "a = [i[1] for i in matrix]"
   ]
  },
  {
   "cell_type": "code",
   "execution_count": 78,
   "id": "e80a29ef-e410-4d0a-914f-a6e699356721",
   "metadata": {},
   "outputs": [
    {
     "data": {
      "text/plain": [
       "[2, 5, 8]"
      ]
     },
     "execution_count": 78,
     "metadata": {},
     "output_type": "execute_result"
    }
   ],
   "source": [
    "a"
   ]
  },
  {
   "cell_type": "code",
   "execution_count": 79,
   "id": "93394962-bfc3-42cd-8db1-324f71552c4c",
   "metadata": {},
   "outputs": [
    {
     "name": "stdout",
     "output_type": "stream",
     "text": [
      "[32.0, 50.0, 68.0, 86.0, 104.0]\n"
     ]
    }
   ],
   "source": [
    "# convert temp into deg F using list comprehension\n",
    "lst = [0,10,20,30,40]\n",
    "tF = [temp*(9/5)+32 for temp in lst]\n",
    "print(tF)"
   ]
  },
  {
   "cell_type": "code",
   "execution_count": 80,
   "id": "f88b9aaf-a504-4dba-840f-4b64875aeba0",
   "metadata": {},
   "outputs": [
    {
     "data": {
      "text/plain": [
       "[[1, 2, 3], [4, 5, 6], [7, 8, 9]]"
      ]
     },
     "execution_count": 80,
     "metadata": {},
     "output_type": "execute_result"
    }
   ],
   "source": [
    "matrix"
   ]
  },
  {
   "cell_type": "code",
   "execution_count": 86,
   "id": "32f9fd0e-9191-46f5-9738-22fe3396930e",
   "metadata": {},
   "outputs": [],
   "source": [
    "m = [num for sub_lst in matrix for num in sub_lst]"
   ]
  },
  {
   "cell_type": "code",
   "execution_count": 87,
   "id": "600fe672-024e-457c-812b-4182825afafa",
   "metadata": {},
   "outputs": [
    {
     "data": {
      "text/plain": [
       "[1, 2, 3, 4, 5, 6, 7, 8, 9]"
      ]
     },
     "execution_count": 87,
     "metadata": {},
     "output_type": "execute_result"
    }
   ],
   "source": [
    "m"
   ]
  },
  {
   "cell_type": "code",
   "execution_count": 1,
   "id": "d9f18800-f296-46d6-b783-30eec5b23171",
   "metadata": {},
   "outputs": [],
   "source": [
    "# Assignment 1: using code and list comprehension\n",
    "# list of only prime numbers\n",
    "numbers = [1, 2, 3, 4, 5, 6, 7, 8, 9]"
   ]
  },
  {
   "cell_type": "code",
   "execution_count": 14,
   "id": "a3baeea2-9eb2-4411-90aa-6d26d75e2238",
   "metadata": {},
   "outputs": [],
   "source": [
    "# Assignment 2\n",
    "# creat a list of all possible combination from a list\n",
    "numbers = [1,2,3,4,5]"
   ]
  },
  {
   "cell_type": "code",
   "execution_count": null,
   "id": "90e5fbdc-c49b-4a2d-b3ac-c12d7c5d1205",
   "metadata": {},
   "outputs": [],
   "source": []
  }
 ],
 "metadata": {
  "kernelspec": {
   "display_name": "Python 3 (ipykernel)",
   "language": "python",
   "name": "python3"
  },
  "language_info": {
   "codemirror_mode": {
    "name": "ipython",
    "version": 3
   },
   "file_extension": ".py",
   "mimetype": "text/x-python",
   "name": "python",
   "nbconvert_exporter": "python",
   "pygments_lexer": "ipython3",
   "version": "3.10.8"
  }
 },
 "nbformat": 4,
 "nbformat_minor": 5
}
