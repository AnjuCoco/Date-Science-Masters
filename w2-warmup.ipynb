{
 "cells": [
  {
   "cell_type": "code",
   "execution_count": 1,
   "id": "5aae472c-72bc-48a6-a378-f6e85765ff60",
   "metadata": {},
   "outputs": [
    {
     "data": {
      "text/plain": [
       "int"
      ]
     },
     "execution_count": 1,
     "metadata": {},
     "output_type": "execute_result"
    }
   ],
   "source": [
    "int"
   ]
  },
  {
   "cell_type": "code",
   "execution_count": 1,
   "id": "d9051ed8-7892-4c22-81e8-eaec568a2a75",
   "metadata": {},
   "outputs": [
    {
     "name": "stdout",
     "output_type": "stream",
     "text": [
      "My name is Ish and my age is 30\n"
     ]
    }
   ],
   "source": [
    "name = \"Ish\"\n",
    "age = 30\n",
    "print(f\"My name is {name} and my age is {age}\")"
   ]
  },
  {
   "cell_type": "code",
   "execution_count": 2,
   "id": "010acaf5-4658-4850-8118-b281470f6745",
   "metadata": {},
   "outputs": [
    {
     "name": "stdout",
     "output_type": "stream",
     "text": [
      "My name is Ish and my age is 30\n"
     ]
    }
   ],
   "source": [
    "name = \"Ish\"\n",
    "age = 30\n",
    "print(\"My name is {} and my age is {}\".format(name,age))"
   ]
  },
  {
   "cell_type": "code",
   "execution_count": 3,
   "id": "3bc11698-300c-4e39-94cf-18be2658419a",
   "metadata": {},
   "outputs": [
    {
     "name": "stdout",
     "output_type": "stream",
     "text": [
      "My name is Ish and my age is 30\n"
     ]
    }
   ],
   "source": [
    "#placeholder\n",
    "print(\"My name is {firstname} and my age is {firstage}\".format(firstname=name,firstage=age))"
   ]
  },
  {
   "cell_type": "code",
   "execution_count": 4,
   "id": "05635543-7b5e-4754-b914-5e06d9078dfc",
   "metadata": {},
   "outputs": [
    {
     "name": "stdout",
     "output_type": "stream",
     "text": [
      "My age is 40 and I have completed: my degree of BE with the name of Anjalina\n"
     ]
    }
   ],
   "source": [
    "# with placeholder concept\n",
    "name = \"Anjalina\"\n",
    "age = 40\n",
    "degree = \"BE\"\n",
    "print(\"My age is {firstage} and I have completed: my degree of {firstdegree} with the name of {firstname}\".format(firstname=name,firstage=age,firstdegree=degree))"
   ]
  },
  {
   "cell_type": "code",
   "execution_count": 23,
   "id": "b312525b-f21d-4351-96ad-18acd7929e1e",
   "metadata": {},
   "outputs": [
    {
     "name": "stdin",
     "output_type": "stream",
     "text": [
      "Enter your age: 78\n"
     ]
    },
    {
     "name": "stdout",
     "output_type": "stream",
     "text": [
      "You are old now\n"
     ]
    }
   ],
   "source": [
    "#task\n",
    "age = int(input(\"Enter your age:\"))\n",
    "if age >=18 and age<=45:\n",
    "    print(\"You are a young blood\")\n",
    "elif age>45 and age<=70:\n",
    "    print(\"You are getting old\")\n",
    "else:\n",
    "    print(\"You are old now\")"
   ]
  },
  {
   "cell_type": "code",
   "execution_count": 33,
   "id": "d3486968-8d48-485d-bf7e-187d918b4259",
   "metadata": {},
   "outputs": [
    {
     "name": "stdin",
     "output_type": "stream",
     "text": [
      "Enter the product price 400\n"
     ]
    },
    {
     "name": "stdout",
     "output_type": "stream",
     "text": [
      "Thank you for choosing the product and you would receive 30% discount on the price\n",
      "Your discounted product price is Rs.:280.0\n"
     ]
    }
   ],
   "source": [
    "#task\n",
    "price = int(input(\"Enter the product price\"))\n",
    "if price>1000:\n",
    "    print(\"Thank you for choosing the product and you would receive 20% discount on the price\")\n",
    "    print(\"Your discounted product price is Rs.:{}\".format(price*.8))\n",
    "else:\n",
    "    print(\"Thank you for choosing the product and you would receive 30% discount on the price\")\n",
    "    print(\"Your discounted product price is Rs.:{}\".format(price*.70))\n"
   ]
  },
  {
   "cell_type": "code",
   "execution_count": 4,
   "id": "dd9617fb-5a2a-4b8a-8e87-9d83be1919e8",
   "metadata": {},
   "outputs": [
    {
     "name": "stdin",
     "output_type": "stream",
     "text": [
      "Enter the price of your product: 3600\n"
     ]
    },
    {
     "name": "stdout",
     "output_type": "stream",
     "text": [
      "Your discounted product price is Rs.:2880.0\n"
     ]
    }
   ],
   "source": [
    "#task\n",
    "price = int(input(\"Enter the price of your product:\"))\n",
    "if price>3000:\n",
    "    print(\"Your discounted product price is Rs.:{}\".format(price*.8))\n",
    "elif price >= 2000 and price <= 3000:\n",
    "    print(\"Your discounted product price is Rs.:{}\".format(price*.7))\n",
    "\n",
    "    \n",
    "else :\n",
    "    print(\"Your discounted product price is Rs.:{}\".format(price*.6))\n"
   ]
  },
  {
   "cell_type": "code",
   "execution_count": null,
   "id": "337bd154-9fd7-4044-b29d-de6211101aa4",
   "metadata": {},
   "outputs": [],
   "source": []
  }
 ],
 "metadata": {
  "kernelspec": {
   "display_name": "Python 3 (ipykernel)",
   "language": "python",
   "name": "python3"
  },
  "language_info": {
   "codemirror_mode": {
    "name": "ipython",
    "version": 3
   },
   "file_extension": ".py",
   "mimetype": "text/x-python",
   "name": "python",
   "nbconvert_exporter": "python",
   "pygments_lexer": "ipython3",
   "version": "3.10.8"
  }
 },
 "nbformat": 4,
 "nbformat_minor": 5
}
