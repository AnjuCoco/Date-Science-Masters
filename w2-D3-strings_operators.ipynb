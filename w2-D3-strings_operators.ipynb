{
 "cells": [
  {
   "cell_type": "markdown",
   "id": "6aa04f38-0b3f-4e6d-8442-22ec2dd126d7",
   "metadata": {},
   "source": [
    "Operators and precedence"
   ]
  },
  {
   "cell_type": "code",
   "execution_count": 2,
   "id": "e5e9e653-5347-43d2-93fb-04a2b524aecd",
   "metadata": {},
   "outputs": [
    {
     "data": {
      "text/plain": [
       "0"
      ]
     },
     "execution_count": 2,
     "metadata": {},
     "output_type": "execute_result"
    }
   ],
   "source": [
    "False * False"
   ]
  },
  {
   "cell_type": "code",
   "execution_count": 3,
   "id": "5a9479be-314b-4c6f-af32-bd2c061ffb4c",
   "metadata": {},
   "outputs": [
    {
     "data": {
      "text/plain": [
       "0"
      ]
     },
     "execution_count": 3,
     "metadata": {},
     "output_type": "execute_result"
    }
   ],
   "source": [
    "True * False"
   ]
  },
  {
   "cell_type": "code",
   "execution_count": 4,
   "id": "ca5a6013-6e5d-4fb3-a631-b71b4cfb8579",
   "metadata": {},
   "outputs": [
    {
     "data": {
      "text/plain": [
       "1"
      ]
     },
     "execution_count": 4,
     "metadata": {},
     "output_type": "execute_result"
    }
   ],
   "source": [
    "True * True"
   ]
  },
  {
   "cell_type": "code",
   "execution_count": 5,
   "id": "58cf8bdd-c911-4fab-b9c5-d3d3c7239eb4",
   "metadata": {},
   "outputs": [
    {
     "data": {
      "text/plain": [
       "False"
      ]
     },
     "execution_count": 5,
     "metadata": {},
     "output_type": "execute_result"
    }
   ],
   "source": [
    "not True * True"
   ]
  },
  {
   "cell_type": "code",
   "execution_count": 6,
   "id": "24f0af18-d214-4813-9b26-c0aa183bb153",
   "metadata": {},
   "outputs": [],
   "source": [
    "# not is a keyword and output of the statement with not as final operation would be boolean"
   ]
  },
  {
   "cell_type": "code",
   "execution_count": 7,
   "id": "2dd110b2-2064-4222-8d08-f6f2d2c79777",
   "metadata": {},
   "outputs": [
    {
     "data": {
      "text/plain": [
       "0"
      ]
     },
     "execution_count": 7,
     "metadata": {},
     "output_type": "execute_result"
    }
   ],
   "source": [
    "(not(True))*False"
   ]
  },
  {
   "cell_type": "code",
   "execution_count": 8,
   "id": "58583199-dbae-4074-a499-93fb80d7ac00",
   "metadata": {},
   "outputs": [
    {
     "data": {
      "text/plain": [
       "True"
      ]
     },
     "execution_count": 8,
     "metadata": {},
     "output_type": "execute_result"
    }
   ],
   "source": [
    "not True * False\n",
    "# here precedence is given to True * False operation first, followed by not operation to False (o/p of True * False)"
   ]
  },
  {
   "cell_type": "code",
   "execution_count": 9,
   "id": "3bb791cb-fa47-4175-b7bf-d44b28d9f18e",
   "metadata": {},
   "outputs": [
    {
     "data": {
      "text/plain": [
       "0"
      ]
     },
     "execution_count": 9,
     "metadata": {},
     "output_type": "execute_result"
    }
   ],
   "source": [
    "True * (not(True))"
   ]
  },
  {
   "cell_type": "code",
   "execution_count": 10,
   "id": "abdaad01-e858-451d-9052-5c18482de1c5",
   "metadata": {},
   "outputs": [
    {
     "data": {
      "text/plain": [
       "True"
      ]
     },
     "execution_count": 10,
     "metadata": {},
     "output_type": "execute_result"
    }
   ],
   "source": [
    "# not keyword is used for the final outcome and hence the output ype is boolean\n",
    "not True * (not(True))"
   ]
  },
  {
   "cell_type": "code",
   "execution_count": 11,
   "id": "a3f11c6e-c253-4ce2-9be3-be4bfc4ea67d",
   "metadata": {},
   "outputs": [
    {
     "data": {
      "text/plain": [
       "0"
      ]
     },
     "execution_count": 11,
     "metadata": {},
     "output_type": "execute_result"
    }
   ],
   "source": [
    "(not(True)) * (not(True))"
   ]
  },
  {
   "cell_type": "code",
   "execution_count": 12,
   "id": "f28676d3-be2c-4f1f-be40-c943c24d0fd4",
   "metadata": {},
   "outputs": [
    {
     "data": {
      "text/plain": [
       "False"
      ]
     },
     "execution_count": 12,
     "metadata": {},
     "output_type": "execute_result"
    }
   ],
   "source": [
    "(not(True))"
   ]
  },
  {
   "cell_type": "code",
   "execution_count": 13,
   "id": "66bd8e44-13ea-4ce3-b9ac-65356ac713b3",
   "metadata": {},
   "outputs": [
    {
     "data": {
      "text/plain": [
       "False"
      ]
     },
     "execution_count": 13,
     "metadata": {},
     "output_type": "execute_result"
    }
   ],
   "source": [
    "not False * True == False"
   ]
  },
  {
   "cell_type": "code",
   "execution_count": 14,
   "id": "6e215220-1880-4851-b7fa-4e0d92fb0ad8",
   "metadata": {},
   "outputs": [
    {
     "name": "stdout",
     "output_type": "stream",
     "text": [
      "True\n"
     ]
    }
   ],
   "source": [
    "print(not True * True == False)"
   ]
  },
  {
   "cell_type": "code",
   "execution_count": 16,
   "id": "fb52250c-2d78-4ec3-94c7-5147b0e8ccc2",
   "metadata": {},
   "outputs": [
    {
     "data": {
      "text/plain": [
       "33.0"
      ]
     },
     "execution_count": 16,
     "metadata": {},
     "output_type": "execute_result"
    }
   ],
   "source": [
    "# BODMAS application: First Division 16/4 = 4 followed by 4*7 = 28 and then 28 is added to 5 gives us final output of 33\n",
    "\n",
    "5+7*16/4"
   ]
  },
  {
   "cell_type": "code",
   "execution_count": 17,
   "id": "782a1eba-42d1-4e68-8d95-9b89f59428e8",
   "metadata": {},
   "outputs": [],
   "source": [
    "l1 = [1, 2, 3, 4]\n",
    "l2 = [1,2,3,4]"
   ]
  },
  {
   "cell_type": "code",
   "execution_count": 18,
   "id": "35dc8753-bd2d-432b-bf79-c461f668298c",
   "metadata": {},
   "outputs": [
    {
     "data": {
      "text/plain": [
       "False"
      ]
     },
     "execution_count": 18,
     "metadata": {},
     "output_type": "execute_result"
    }
   ],
   "source": [
    "l1 is l2"
   ]
  },
  {
   "cell_type": "code",
   "execution_count": 19,
   "id": "d21c2e22-175e-4181-9947-81d954d14193",
   "metadata": {},
   "outputs": [
    {
     "data": {
      "text/plain": [
       "True"
      ]
     },
     "execution_count": 19,
     "metadata": {},
     "output_type": "execute_result"
    }
   ],
   "source": [
    "l1 is not l2"
   ]
  },
  {
   "cell_type": "code",
   "execution_count": 20,
   "id": "7c439f56-ef37-4038-931e-ab70f8ab2613",
   "metadata": {},
   "outputs": [
    {
     "data": {
      "text/plain": [
       "True"
      ]
     },
     "execution_count": 20,
     "metadata": {},
     "output_type": "execute_result"
    }
   ],
   "source": [
    "l2 == l1"
   ]
  },
  {
   "cell_type": "code",
   "execution_count": 21,
   "id": "006988e4-3fa2-4865-bd2b-06aecfc9308e",
   "metadata": {},
   "outputs": [
    {
     "data": {
      "text/plain": [
       "140118546672512"
      ]
     },
     "execution_count": 21,
     "metadata": {},
     "output_type": "execute_result"
    }
   ],
   "source": [
    "id(l1)"
   ]
  },
  {
   "cell_type": "code",
   "execution_count": 22,
   "id": "e41baa07-bdac-4e4a-b224-00742f9d1729",
   "metadata": {},
   "outputs": [
    {
     "data": {
      "text/plain": [
       "140118550908928"
      ]
     },
     "execution_count": 22,
     "metadata": {},
     "output_type": "execute_result"
    }
   ],
   "source": [
    "id(l2)"
   ]
  },
  {
   "cell_type": "code",
   "execution_count": 23,
   "id": "830b3431-e44b-4c3c-ae26-02e37f43bfd8",
   "metadata": {},
   "outputs": [],
   "source": [
    "l2=l1"
   ]
  },
  {
   "cell_type": "code",
   "execution_count": 24,
   "id": "a1a6b2c7-a630-4a80-9ac7-65ea362b835d",
   "metadata": {},
   "outputs": [
    {
     "data": {
      "text/plain": [
       "True"
      ]
     },
     "execution_count": 24,
     "metadata": {},
     "output_type": "execute_result"
    }
   ],
   "source": [
    "l1 is l2"
   ]
  },
  {
   "cell_type": "code",
   "execution_count": 25,
   "id": "dd2bb5d4-48c4-45c7-b1aa-617b0454e58d",
   "metadata": {},
   "outputs": [],
   "source": [
    "l2 = [1,2,3,4]"
   ]
  },
  {
   "cell_type": "code",
   "execution_count": 28,
   "id": "178cb869-40d4-4433-9cc7-225b88e8f87b",
   "metadata": {},
   "outputs": [
    {
     "data": {
      "text/plain": [
       "True"
      ]
     },
     "execution_count": 28,
     "metadata": {},
     "output_type": "execute_result"
    }
   ],
   "source": [
    "# is not function checks the address of these lists are same or not and returns the output.\n",
    "# l1 an dl2 has different addresses and hence output is True\n",
    "l1 is not l2"
   ]
  },
  {
   "cell_type": "code",
   "execution_count": 27,
   "id": "4978c0cd-ff07-4fe0-8ad3-426daf9a308d",
   "metadata": {},
   "outputs": [
    {
     "data": {
      "text/plain": [
       "False"
      ]
     },
     "execution_count": 27,
     "metadata": {},
     "output_type": "execute_result"
    }
   ],
   "source": [
    "# != function checks whether the values of l1 and l2 are not same and hence returns False as o/p\n",
    "l1 != l2"
   ]
  },
  {
   "cell_type": "code",
   "execution_count": 1,
   "id": "f6c39735-24ae-4f07-b988-c84e56d84e25",
   "metadata": {},
   "outputs": [],
   "source": [
    "str1 = 'Data Science Masters Program'"
   ]
  },
  {
   "cell_type": "code",
   "execution_count": 3,
   "id": "ebc0c729-cc1a-4e36-9e65-b499a50ad2e2",
   "metadata": {},
   "outputs": [
    {
     "data": {
      "text/plain": [
       "'cience Masters Program'"
      ]
     },
     "execution_count": 3,
     "metadata": {},
     "output_type": "execute_result"
    }
   ],
   "source": [
    "str1[6:]"
   ]
  },
  {
   "cell_type": "code",
   "execution_count": 4,
   "id": "da1de08e-c604-4636-84de-91963316bdd0",
   "metadata": {},
   "outputs": [
    {
     "data": {
      "text/plain": [
       "'i'"
      ]
     },
     "execution_count": 4,
     "metadata": {},
     "output_type": "execute_result"
    }
   ],
   "source": [
    "str1[7]"
   ]
  },
  {
   "cell_type": "code",
   "execution_count": null,
   "id": "4b2b8d32-7cbb-447c-8324-491f68138642",
   "metadata": {},
   "outputs": [],
   "source": [
    "str1[8:10]"
   ]
  },
  {
   "cell_type": "code",
   "execution_count": 6,
   "id": "0945eb1d-aca5-4311-9800-f5decaa9466a",
   "metadata": {},
   "outputs": [
    {
     "data": {
      "text/plain": [
       "'m'"
      ]
     },
     "execution_count": 6,
     "metadata": {},
     "output_type": "execute_result"
    }
   ],
   "source": [
    "str1[-1]"
   ]
  },
  {
   "cell_type": "code",
   "execution_count": 1,
   "id": "1508a2dc-58ec-4c32-ae91-d8594bc32732",
   "metadata": {},
   "outputs": [],
   "source": [
    "str2 = 'Necessity is the mother of invention'"
   ]
  },
  {
   "cell_type": "code",
   "execution_count": 2,
   "id": "59d9180c-65d2-4eb7-85bd-b827cc5e49c5",
   "metadata": {},
   "outputs": [
    {
     "data": {
      "text/plain": [
       "'Necessity is the mother of invention'"
      ]
     },
     "execution_count": 2,
     "metadata": {},
     "output_type": "execute_result"
    }
   ],
   "source": [
    "str2[:]"
   ]
  },
  {
   "cell_type": "code",
   "execution_count": 3,
   "id": "a736fb67-2d3e-4d7b-885e-3d60dc53660a",
   "metadata": {},
   "outputs": [
    {
     "data": {
      "text/plain": [
       "'Necessity is the mother of invention'"
      ]
     },
     "execution_count": 3,
     "metadata": {},
     "output_type": "execute_result"
    }
   ],
   "source": [
    "str2[::]"
   ]
  },
  {
   "cell_type": "code",
   "execution_count": 4,
   "id": "509cdaf3-765e-48d9-964b-42c8963134aa",
   "metadata": {},
   "outputs": [
    {
     "data": {
      "text/plain": [
       "'noitnevni fo rehtom eht si ytisseceN'"
      ]
     },
     "execution_count": 4,
     "metadata": {},
     "output_type": "execute_result"
    }
   ],
   "source": [
    "str2[::-1]"
   ]
  },
  {
   "cell_type": "code",
   "execution_count": 5,
   "id": "1ec8cf44-d6ca-41b4-93c5-bcab4391dd13",
   "metadata": {},
   "outputs": [
    {
     "data": {
      "text/plain": [
       "'ninvif etmets tsee'"
      ]
     },
     "execution_count": 5,
     "metadata": {},
     "output_type": "execute_result"
    }
   ],
   "source": [
    "str2[::-2]"
   ]
  },
  {
   "cell_type": "code",
   "execution_count": 6,
   "id": "22438881-f861-48d2-8276-2bf39ad67b8d",
   "metadata": {},
   "outputs": [
    {
     "data": {
      "text/plain": [
       "'Necessity is the mother of invention'"
      ]
     },
     "execution_count": 6,
     "metadata": {},
     "output_type": "execute_result"
    }
   ],
   "source": [
    "str2"
   ]
  },
  {
   "cell_type": "code",
   "execution_count": 7,
   "id": "1b6f85fc-32d5-44b2-9927-ec01689c1390",
   "metadata": {},
   "outputs": [
    {
     "data": {
      "text/plain": [
       "'sity'"
      ]
     },
     "execution_count": 7,
     "metadata": {},
     "output_type": "execute_result"
    }
   ],
   "source": [
    "str2[5:9]"
   ]
  },
  {
   "cell_type": "code",
   "execution_count": 8,
   "id": "612cb395-3202-4dc5-919a-9f7c227aac1b",
   "metadata": {},
   "outputs": [
    {
     "data": {
      "text/plain": [
       "'n'"
      ]
     },
     "execution_count": 8,
     "metadata": {},
     "output_type": "execute_result"
    }
   ],
   "source": [
    "str2[-1]"
   ]
  },
  {
   "cell_type": "code",
   "execution_count": 9,
   "id": "d49a90b0-f3ae-4a72-b08f-abd8ea40c474",
   "metadata": {},
   "outputs": [
    {
     "data": {
      "text/plain": [
       "''"
      ]
     },
     "execution_count": 9,
     "metadata": {},
     "output_type": "execute_result"
    }
   ],
   "source": [
    "str2[-5:5]"
   ]
  },
  {
   "cell_type": "code",
   "execution_count": 10,
   "id": "c9f6a569-f6ec-4f28-ae37-51b653f841ac",
   "metadata": {},
   "outputs": [
    {
     "data": {
      "text/plain": [
       "'Ncsiyi h ohro neto'"
      ]
     },
     "execution_count": 10,
     "metadata": {},
     "output_type": "execute_result"
    }
   ],
   "source": [
    "str2[::2]"
   ]
  },
  {
   "cell_type": "code",
   "execution_count": 11,
   "id": "b7ab9c89-236d-481d-a5c5-b5bc83a7d999",
   "metadata": {},
   "outputs": [
    {
     "data": {
      "text/plain": [
       "'cessity is the mother of invention'"
      ]
     },
     "execution_count": 11,
     "metadata": {},
     "output_type": "execute_result"
    }
   ],
   "source": [
    "str2[2::]"
   ]
  },
  {
   "cell_type": "code",
   "execution_count": 12,
   "id": "93aa4ae0-30e5-4f12-8777-b22258f4390e",
   "metadata": {},
   "outputs": [
    {
     "data": {
      "text/plain": [
       "'essit'"
      ]
     },
     "execution_count": 12,
     "metadata": {},
     "output_type": "execute_result"
    }
   ],
   "source": [
    "str2[3:8:]"
   ]
  },
  {
   "cell_type": "code",
   "execution_count": 13,
   "id": "7ef3bd62-b801-421b-b261-f4dcf7ffd18b",
   "metadata": {},
   "outputs": [
    {
     "data": {
      "text/plain": [
       "'eces'"
      ]
     },
     "execution_count": 13,
     "metadata": {},
     "output_type": "execute_result"
    }
   ],
   "source": [
    "str2[1:5]"
   ]
  },
  {
   "cell_type": "code",
   "execution_count": 14,
   "id": "db7a26a6-8726-4b7a-ab22-d496268baceb",
   "metadata": {},
   "outputs": [
    {
     "data": {
      "text/plain": [
       "'Necessity is the mother of invention'"
      ]
     },
     "execution_count": 14,
     "metadata": {},
     "output_type": "execute_result"
    }
   ],
   "source": [
    "str2"
   ]
  },
  {
   "cell_type": "code",
   "execution_count": 15,
   "id": "df726af9-11d7-43db-8f10-bc803ed84879",
   "metadata": {},
   "outputs": [],
   "source": [
    "course_name = 'Data Science Masters'"
   ]
  },
  {
   "cell_type": "code",
   "execution_count": 18,
   "id": "1420c72a-943b-4ea0-b5f6-f189b3bc06d3",
   "metadata": {},
   "outputs": [
    {
     "data": {
      "text/plain": [
       "'ecneicS'"
      ]
     },
     "execution_count": 18,
     "metadata": {},
     "output_type": "execute_result"
    }
   ],
   "source": [
    "#11th index is for 'e' which we want to start our output with; \n",
    "# 4 is upto 4th index, we need to slice the information starting from 'D' upto 'space'\n",
    "# -1 is for reversing the output\n",
    "course_name[11:4:-1]"
   ]
  },
  {
   "cell_type": "code",
   "execution_count": 24,
   "id": "313a6f39-66a3-44b1-ad47-5202bbabe81c",
   "metadata": {},
   "outputs": [
    {
     "data": {
      "text/plain": [
       "'Science'"
      ]
     },
     "execution_count": 24,
     "metadata": {},
     "output_type": "execute_result"
    }
   ],
   "source": [
    "#includes 5th index element and 12th index element is excluded, same as range\n",
    "course_name[5:12]"
   ]
  },
  {
   "cell_type": "code",
   "execution_count": 25,
   "id": "7ca97b64-6dec-4ac5-ac8a-0ad770722dde",
   "metadata": {},
   "outputs": [
    {
     "data": {
      "text/plain": [
       "20"
      ]
     },
     "execution_count": 25,
     "metadata": {},
     "output_type": "execute_result"
    }
   ],
   "source": [
    "len(course_name)"
   ]
  },
  {
   "cell_type": "code",
   "execution_count": 29,
   "id": "875c5cff-bfd7-4e74-bfce-577a257c2efb",
   "metadata": {},
   "outputs": [
    {
     "name": "stdout",
     "output_type": "stream",
     "text": [
      "PW Skills Data Science Masters\n"
     ]
    }
   ],
   "source": [
    "# Concating or addition of string elements\n",
    "print(\"PW Skills \" + course_name)"
   ]
  },
  {
   "cell_type": "code",
   "execution_count": 33,
   "id": "73f3c9c7-26f7-4cc1-a317-cf0f30f2adb5",
   "metadata": {},
   "outputs": [
    {
     "data": {
      "text/plain": [
       "1"
      ]
     },
     "execution_count": 33,
     "metadata": {},
     "output_type": "execute_result"
    }
   ],
   "source": [
    "course_name.find('a')"
   ]
  },
  {
   "cell_type": "code",
   "execution_count": 34,
   "id": "9aeefaa8-e225-4280-b630-38c6d92df150",
   "metadata": {},
   "outputs": [
    {
     "data": {
      "text/plain": [
       "'PW Skills Data Science Masters'"
      ]
     },
     "execution_count": 34,
     "metadata": {},
     "output_type": "execute_result"
    }
   ],
   "source": [
    "\"PW Skills \" + course_name "
   ]
  },
  {
   "cell_type": "code",
   "execution_count": 35,
   "id": "56cb1ff7-03b6-4c8a-9f3f-9c0de72250cf",
   "metadata": {},
   "outputs": [],
   "source": [
    "course_name = \"PW Skills \" + course_name"
   ]
  },
  {
   "cell_type": "code",
   "execution_count": 36,
   "id": "0b802187-1f89-47f5-be12-c50ac565bb9b",
   "metadata": {},
   "outputs": [
    {
     "data": {
      "text/plain": [
       "'PW Skills Data Science Masters'"
      ]
     },
     "execution_count": 36,
     "metadata": {},
     "output_type": "execute_result"
    }
   ],
   "source": [
    "course_name"
   ]
  },
  {
   "cell_type": "code",
   "execution_count": 39,
   "id": "093efc75-b7eb-4b36-aa17-e99863763cf7",
   "metadata": {},
   "outputs": [
    {
     "data": {
      "text/plain": [
       "1"
      ]
     },
     "execution_count": 39,
     "metadata": {},
     "output_type": "execute_result"
    }
   ],
   "source": [
    "course_name.find('W')"
   ]
  },
  {
   "cell_type": "code",
   "execution_count": 41,
   "id": "e29ac839-7b5f-45ad-b82e-abb7e30b1663",
   "metadata": {},
   "outputs": [
    {
     "data": {
      "text/plain": [
       "8"
      ]
     },
     "execution_count": 41,
     "metadata": {},
     "output_type": "execute_result"
    }
   ],
   "source": [
    "# find gives index position of first occurance of 's', it is case sensitive\n",
    "course_name.find('s')"
   ]
  },
  {
   "cell_type": "code",
   "execution_count": 43,
   "id": "1f5fa38c-2088-4bc3-9399-4b3fba0b81cd",
   "metadata": {},
   "outputs": [
    {
     "data": {
      "text/plain": [
       "31"
      ]
     },
     "execution_count": 43,
     "metadata": {},
     "output_type": "execute_result"
    }
   ],
   "source": [
    "course_name.count('')"
   ]
  },
  {
   "cell_type": "code",
   "execution_count": 1,
   "id": "d1d2a16b-b050-4f62-a99a-cda080ddd0ef",
   "metadata": {},
   "outputs": [
    {
     "ename": "NameError",
     "evalue": "name 'course_name' is not defined",
     "output_type": "error",
     "traceback": [
      "\u001b[0;31m---------------------------------------------------------------------------\u001b[0m",
      "\u001b[0;31mNameError\u001b[0m                                 Traceback (most recent call last)",
      "Cell \u001b[0;32mIn[1], line 1\u001b[0m\n\u001b[0;32m----> 1\u001b[0m \u001b[43mcourse_name\u001b[49m\u001b[38;5;241m.\u001b[39msplit(\u001b[38;5;124m\"\u001b[39m\u001b[38;5;124m \u001b[39m\u001b[38;5;124m\"\u001b[39m)\n",
      "\u001b[0;31mNameError\u001b[0m: name 'course_name' is not defined"
     ]
    }
   ],
   "source": [
    "course_name.split(\" \")"
   ]
  },
  {
   "cell_type": "code",
   "execution_count": 3,
   "id": "0a77b9d4-0e7f-499c-98a1-342a45cc72f6",
   "metadata": {},
   "outputs": [],
   "source": [
    "course_name = 'PW Skills Data Science Masters'"
   ]
  },
  {
   "cell_type": "code",
   "execution_count": 4,
   "id": "e6369e1e-4475-48f0-8ea4-c879df44b257",
   "metadata": {},
   "outputs": [
    {
     "data": {
      "text/plain": [
       "['PW Skills ', 'ata Science Masters']"
      ]
     },
     "execution_count": 4,
     "metadata": {},
     "output_type": "execute_result"
    }
   ],
   "source": [
    "course_name.split('D')"
   ]
  },
  {
   "cell_type": "code",
   "execution_count": 5,
   "id": "aa29be82-e136-4e97-8beb-fe4b91ef24c5",
   "metadata": {},
   "outputs": [
    {
     "data": {
      "text/plain": [
       "('PW Skills ', 'D', 'ata Science Masters')"
      ]
     },
     "execution_count": 5,
     "metadata": {},
     "output_type": "execute_result"
    }
   ],
   "source": [
    "course_name.partition('D')"
   ]
  },
  {
   "cell_type": "code",
   "execution_count": 6,
   "id": "a0f4567b-9dc1-404a-af86-269786ac63ca",
   "metadata": {},
   "outputs": [
    {
     "data": {
      "text/plain": [
       "('PW', ' ', 'Skills Data Science Masters')"
      ]
     },
     "execution_count": 6,
     "metadata": {},
     "output_type": "execute_result"
    }
   ],
   "source": [
    "course_name.partition(' ')"
   ]
  },
  {
   "cell_type": "code",
   "execution_count": 7,
   "id": "1ebc7e39-0365-4e71-9ad6-6724a53a40cc",
   "metadata": {},
   "outputs": [
    {
     "data": {
      "text/plain": [
       "['PW', 'Skills', 'Data', 'Science', 'Masters']"
      ]
     },
     "execution_count": 7,
     "metadata": {},
     "output_type": "execute_result"
    }
   ],
   "source": [
    "course_name.split(' ')"
   ]
  },
  {
   "cell_type": "code",
   "execution_count": 8,
   "id": "b548077b-0f02-44eb-b850-dc8d523ac99f",
   "metadata": {},
   "outputs": [
    {
     "data": {
      "text/plain": [
       "['PW ', 'kills Data ', 'cience Masters']"
      ]
     },
     "execution_count": 8,
     "metadata": {},
     "output_type": "execute_result"
    }
   ],
   "source": [
    "course_name.split('S')"
   ]
  },
  {
   "cell_type": "code",
   "execution_count": 9,
   "id": "4bdabe88-85ae-4340-ba2b-019040b954ad",
   "metadata": {},
   "outputs": [],
   "source": [
    "# partition breaks the content on the first occurance of the event"
   ]
  },
  {
   "cell_type": "code",
   "execution_count": 10,
   "id": "49e27fa3-000e-4997-bf60-e93a2ef90284",
   "metadata": {},
   "outputs": [],
   "source": [
    "# split function breaks the content at every occurance of the event \n",
    "# split replaces that event or element by introducing break/partition in the string."
   ]
  },
  {
   "cell_type": "code",
   "execution_count": 14,
   "id": "0f993821-6e16-4201-8068-3a87c8c9b794",
   "metadata": {},
   "outputs": [
    {
     "data": {
      "text/plain": [
       "'PW Skills Data Science Masters'"
      ]
     },
     "execution_count": 14,
     "metadata": {},
     "output_type": "execute_result"
    }
   ],
   "source": [
    "course_name"
   ]
  },
  {
   "cell_type": "code",
   "execution_count": 15,
   "id": "233932c0-d344-4db8-8e60-d32191133127",
   "metadata": {},
   "outputs": [
    {
     "data": {
      "text/plain": [
       "'pw skills data science masters'"
      ]
     },
     "execution_count": 15,
     "metadata": {},
     "output_type": "execute_result"
    }
   ],
   "source": [
    "course_name.lower()"
   ]
  },
  {
   "cell_type": "code",
   "execution_count": 16,
   "id": "a264aa19-72c7-43f0-a5aa-9aed6dc10970",
   "metadata": {},
   "outputs": [
    {
     "data": {
      "text/plain": [
       "'PW SKILLS DATA SCIENCE MASTERS'"
      ]
     },
     "execution_count": 16,
     "metadata": {},
     "output_type": "execute_result"
    }
   ],
   "source": [
    "course_name.upper()"
   ]
  },
  {
   "cell_type": "code",
   "execution_count": 17,
   "id": "d0815645-2953-45a4-b1cf-c4410587e7de",
   "metadata": {},
   "outputs": [
    {
     "data": {
      "text/plain": [
       "'pw sKILLS dATA sCIENCE mASTERS'"
      ]
     },
     "execution_count": 17,
     "metadata": {},
     "output_type": "execute_result"
    }
   ],
   "source": [
    "course_name.swapcase()"
   ]
  },
  {
   "cell_type": "code",
   "execution_count": 18,
   "id": "9cebc262-ac3d-4ad0-a22c-626db9c17bca",
   "metadata": {},
   "outputs": [
    {
     "data": {
      "text/plain": [
       "'pw sKILLS dATA sCIENCE mASTERS'"
      ]
     },
     "execution_count": 18,
     "metadata": {},
     "output_type": "execute_result"
    }
   ],
   "source": [
    "course_name.swapcase()"
   ]
  },
  {
   "cell_type": "code",
   "execution_count": 19,
   "id": "6cf5c5e1-2057-445c-a291-1e523f0f3a61",
   "metadata": {},
   "outputs": [
    {
     "data": {
      "text/plain": [
       "'PW Skills Data Science Masters'"
      ]
     },
     "execution_count": 19,
     "metadata": {},
     "output_type": "execute_result"
    }
   ],
   "source": [
    "course_name"
   ]
  },
  {
   "cell_type": "code",
   "execution_count": 20,
   "id": "4f3931f5-1a79-4e90-b953-8e8c85e96962",
   "metadata": {},
   "outputs": [],
   "source": [
    "name = 'pw sKILLS dATA sCIENCE mASTERS'"
   ]
  },
  {
   "cell_type": "code",
   "execution_count": 21,
   "id": "15d8ee12-0232-4dc7-bf28-28e37165154c",
   "metadata": {},
   "outputs": [
    {
     "data": {
      "text/plain": [
       "'Pw Skills Data Science Masters'"
      ]
     },
     "execution_count": 21,
     "metadata": {},
     "output_type": "execute_result"
    }
   ],
   "source": [
    "name.title()"
   ]
  },
  {
   "cell_type": "code",
   "execution_count": 22,
   "id": "02dca4a6-5c82-417d-832f-c4eeb20df565",
   "metadata": {},
   "outputs": [],
   "source": [
    "# title function is used to capitalize the first letter of all words in a string"
   ]
  },
  {
   "cell_type": "code",
   "execution_count": 23,
   "id": "bd265518-ac97-4330-bf69-e31812290408",
   "metadata": {},
   "outputs": [
    {
     "data": {
      "text/plain": [
       "'pw sKILLS dATA sCIENCE mASTERS'"
      ]
     },
     "execution_count": 23,
     "metadata": {},
     "output_type": "execute_result"
    }
   ],
   "source": [
    "name"
   ]
  },
  {
   "cell_type": "code",
   "execution_count": 25,
   "id": "f5363fdd-e6fd-4884-a58a-24b40e28ab9b",
   "metadata": {},
   "outputs": [
    {
     "data": {
      "text/plain": [
       "'SLLIKs'"
      ]
     },
     "execution_count": 25,
     "metadata": {},
     "output_type": "execute_result"
    }
   ],
   "source": [
    "name[8:2:-1]"
   ]
  },
  {
   "cell_type": "code",
   "execution_count": 27,
   "id": "1b4ea57e-41d1-4f99-be2d-323901a96908",
   "metadata": {},
   "outputs": [
    {
     "data": {
      "text/plain": [
       "'ATAd'"
      ]
     },
     "execution_count": 27,
     "metadata": {},
     "output_type": "execute_result"
    }
   ],
   "source": [
    "name[13:9:-1]"
   ]
  },
  {
   "cell_type": "code",
   "execution_count": 28,
   "id": "455ced81-5ab9-4b8b-b1ef-31eaf601f14d",
   "metadata": {},
   "outputs": [
    {
     "data": {
      "text/plain": [
       "'ECNEICs'"
      ]
     },
     "execution_count": 28,
     "metadata": {},
     "output_type": "execute_result"
    }
   ],
   "source": [
    "name[21:14:-1]"
   ]
  },
  {
   "cell_type": "code",
   "execution_count": 31,
   "id": "f6587827-85fe-4576-bbdd-6c75c9e5ce0b",
   "metadata": {},
   "outputs": [],
   "source": [
    "# reversal of string element\n",
    "# 'E' is at 21st index position in original string and the index of ' ' before 's' is 14\n",
    "# -1 corresponds to reversal action of string"
   ]
  },
  {
   "cell_type": "code",
   "execution_count": 32,
   "id": "3493e1b3-d1b9-47bb-a956-51fe62d68c01",
   "metadata": {},
   "outputs": [
    {
     "data": {
      "text/plain": [
       "'SRETSAm ECNEICs ATAd SLLIKs wp'"
      ]
     },
     "execution_count": 32,
     "metadata": {},
     "output_type": "execute_result"
    }
   ],
   "source": [
    "name[::-1]"
   ]
  },
  {
   "cell_type": "code",
   "execution_count": 34,
   "id": "d84a17dd-1816-48f4-bcb6-0e8c3b203782",
   "metadata": {},
   "outputs": [
    {
     "data": {
      "text/plain": [
       "'PW Skills Data Science Masters'"
      ]
     },
     "execution_count": 34,
     "metadata": {},
     "output_type": "execute_result"
    }
   ],
   "source": [
    "course_name"
   ]
  },
  {
   "cell_type": "code",
   "execution_count": 43,
   "id": "fd842815-b7de-4068-8175-71bcb4144c78",
   "metadata": {},
   "outputs": [
    {
     "data": {
      "text/plain": [
       "'Masters'"
      ]
     },
     "execution_count": 43,
     "metadata": {},
     "output_type": "execute_result"
    }
   ],
   "source": [
    "course_name[-7:30]"
   ]
  },
  {
   "cell_type": "code",
   "execution_count": 47,
   "id": "28277956-95ec-42a6-a547-adb743eedc05",
   "metadata": {},
   "outputs": [
    {
     "data": {
      "text/plain": [
       "'Master'"
      ]
     },
     "execution_count": 47,
     "metadata": {},
     "output_type": "execute_result"
    }
   ],
   "source": [
    "course_name[-7:-1]"
   ]
  },
  {
   "cell_type": "code",
   "execution_count": 48,
   "id": "6731e453-10fc-46cc-b346-3bcb76cf0fa3",
   "metadata": {},
   "outputs": [
    {
     "data": {
      "text/plain": [
       "31"
      ]
     },
     "execution_count": 48,
     "metadata": {},
     "output_type": "execute_result"
    }
   ],
   "source": [
    "course_name.count('')"
   ]
  },
  {
   "cell_type": "code",
   "execution_count": 49,
   "id": "c663fb92-3712-4de6-8b27-7ee46ffc46ab",
   "metadata": {},
   "outputs": [
    {
     "data": {
      "text/plain": [
       "30"
      ]
     },
     "execution_count": 49,
     "metadata": {},
     "output_type": "execute_result"
    }
   ],
   "source": [
    "len(course_name)"
   ]
  },
  {
   "cell_type": "code",
   "execution_count": 50,
   "id": "9a98308b-400f-4a74-8cfd-5e9da61f1582",
   "metadata": {},
   "outputs": [
    {
     "data": {
      "text/plain": [
       "3"
      ]
     },
     "execution_count": 50,
     "metadata": {},
     "output_type": "execute_result"
    }
   ],
   "source": [
    "course_name.count('a')"
   ]
  },
  {
   "cell_type": "code",
   "execution_count": 53,
   "id": "f7f3a342-ca3f-4ce0-bb2b-de98ecdb1cec",
   "metadata": {},
   "outputs": [],
   "source": [
    "# count function should not be used for knowing the length of the string\n",
    "# count function to be used for counting the number of the occurances of the event in a given string"
   ]
  },
  {
   "cell_type": "code",
   "execution_count": 1,
   "id": "13064aaf-0ce7-45d8-9e8f-061b37c73d0c",
   "metadata": {},
   "outputs": [],
   "source": [
    "course_name = 'PW Skills Data Science Masters'"
   ]
  },
  {
   "cell_type": "code",
   "execution_count": 2,
   "id": "aa45909c-2e35-4668-8ea1-0c78ded4b339",
   "metadata": {},
   "outputs": [
    {
     "data": {
      "text/plain": [
       "'PW Skills Data Science Masters'"
      ]
     },
     "execution_count": 2,
     "metadata": {},
     "output_type": "execute_result"
    }
   ],
   "source": [
    "course_name"
   ]
  },
  {
   "cell_type": "code",
   "execution_count": 3,
   "id": "3dfea636-5c8c-47cf-b054-e822e8c48c8c",
   "metadata": {},
   "outputs": [
    {
     "data": {
      "text/plain": [
       "5"
      ]
     },
     "execution_count": 3,
     "metadata": {},
     "output_type": "execute_result"
    }
   ],
   "source": [
    "course_name.upper().count('S')"
   ]
  },
  {
   "cell_type": "code",
   "execution_count": 4,
   "id": "652c86f5-b827-47d1-846a-b987f91902a8",
   "metadata": {},
   "outputs": [
    {
     "data": {
      "text/plain": [
       "5"
      ]
     },
     "execution_count": 4,
     "metadata": {},
     "output_type": "execute_result"
    }
   ],
   "source": [
    "course_name.lower().count('s')"
   ]
  },
  {
   "cell_type": "code",
   "execution_count": null,
   "id": "414aa374-c41e-49cc-abfc-737272c3c381",
   "metadata": {},
   "outputs": [],
   "source": []
  }
 ],
 "metadata": {
  "kernelspec": {
   "display_name": "Python 3 (ipykernel)",
   "language": "python",
   "name": "python3"
  },
  "language_info": {
   "codemirror_mode": {
    "name": "ipython",
    "version": 3
   },
   "file_extension": ".py",
   "mimetype": "text/x-python",
   "name": "python",
   "nbconvert_exporter": "python",
   "pygments_lexer": "ipython3",
   "version": "3.10.8"
  }
 },
 "nbformat": 4,
 "nbformat_minor": 5
}
