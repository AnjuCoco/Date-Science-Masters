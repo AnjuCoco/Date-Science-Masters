{
 "cells": [
  {
   "cell_type": "code",
   "execution_count": 2,
   "id": "d6a756d6-e57f-42c6-a62c-df0c31578964",
   "metadata": {},
   "outputs": [
    {
     "name": "stdin",
     "output_type": "stream",
     "text": [
      "enter your age -2\n"
     ]
    }
   ],
   "source": [
    "age = int(input(\"enter your age\"))"
   ]
  },
  {
   "cell_type": "code",
   "execution_count": 3,
   "id": "397937eb-4d16-45ba-b911-4daaa0f32261",
   "metadata": {},
   "outputs": [],
   "source": [
    "# in the above case, although system has not generated error, it is not a valid input for our computation\n",
    "# in such cases, we can create out own custom exception to verify the condition \n",
    "# known as custome exception handling"
   ]
  },
  {
   "cell_type": "code",
   "execution_count": 4,
   "id": "7ee7b299-c681-4801-9b6d-f9e89c669539",
   "metadata": {},
   "outputs": [],
   "source": [
    "# one block for creating a class for custom exception\n",
    "# calling inbuilt Exception function of python for computing errors\n",
    "\n",
    "class validateage(Exception):\n",
    "    def __init__(self, msg): # constructor for generating the required message\n",
    "        self.msg = msg\n"
   ]
  },
  {
   "cell_type": "code",
   "execution_count": 5,
   "id": "9e8339b8-b833-44ac-951d-46b0ae7ccd2d",
   "metadata": {},
   "outputs": [],
   "source": [
    "# one block for checking the condition by creating the function\n",
    "\n",
    "def validate_age(age):\n",
    "    if age < 0 :\n",
    "        raise validateage(\"age can not be less than zero\") # raise is a reserved word a\n",
    "    elif age > 150:\n",
    "        raise validateage(\"age is too high\") # calling custom exception class for generating required output\n",
    "    else :\n",
    "        print(\"age is valid\")"
   ]
  },
  {
   "cell_type": "code",
   "execution_count": 6,
   "id": "7a2508bf-0196-4fc2-9031-f0254b10fd0b",
   "metadata": {},
   "outputs": [
    {
     "name": "stdin",
     "output_type": "stream",
     "text": [
      "enter your age -89\n"
     ]
    },
    {
     "name": "stdout",
     "output_type": "stream",
     "text": [
      "age can not be less than zero\n"
     ]
    }
   ],
   "source": [
    "# third block for customer input and creating main code\n",
    "# always use four main blocks, specially try and except block\n",
    "\n",
    "try :\n",
    "    age = int(input(\"enter your age\"))\n",
    "    validate_age(age)\n",
    "\n",
    "except validateage as e:\n",
    "    print(e)\n"
   ]
  },
  {
   "cell_type": "code",
   "execution_count": null,
   "id": "675af376-c4d6-4f2f-ae94-a5fa088375db",
   "metadata": {},
   "outputs": [],
   "source": []
  }
 ],
 "metadata": {
  "kernelspec": {
   "display_name": "Python 3 (ipykernel)",
   "language": "python",
   "name": "python3"
  },
  "language_info": {
   "codemirror_mode": {
    "name": "ipython",
    "version": 3
   },
   "file_extension": ".py",
   "mimetype": "text/x-python",
   "name": "python",
   "nbconvert_exporter": "python",
   "pygments_lexer": "ipython3",
   "version": "3.10.8"
  }
 },
 "nbformat": 4,
 "nbformat_minor": 5
}
