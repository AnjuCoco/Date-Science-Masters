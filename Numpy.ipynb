{
 "cells": [
  {
   "cell_type": "code",
   "execution_count": 465,
   "id": "e8cb1407-dcb0-4f3c-9bb2-952ed9e2a7f9",
   "metadata": {},
   "outputs": [],
   "source": [
    "# importing Numpy and some of its functions\n",
    "import numpy as np"
   ]
  },
  {
   "cell_type": "code",
   "execution_count": 466,
   "id": "dae2a32c-e268-4abf-9fb9-fe7d124bf69f",
   "metadata": {},
   "outputs": [
    {
     "data": {
      "text/plain": [
       "array([1, 2, 3, 4, 5])"
      ]
     },
     "execution_count": 466,
     "metadata": {},
     "output_type": "execute_result"
    }
   ],
   "source": [
    "arr1 = np.array([1,2,3,4,5])\n",
    "arr1"
   ]
  },
  {
   "cell_type": "code",
   "execution_count": 467,
   "id": "2ac43020-e691-4dac-93b7-51f371424ac0",
   "metadata": {},
   "outputs": [
    {
     "data": {
      "text/plain": [
       "array([[1, 2],\n",
       "       [3, 4]])"
      ]
     },
     "execution_count": 467,
     "metadata": {},
     "output_type": "execute_result"
    }
   ],
   "source": [
    "arr2 = np.array([[1,2], [3,4]])\n",
    "arr2"
   ]
  },
  {
   "cell_type": "code",
   "execution_count": 468,
   "id": "652b74ea-c3c3-477a-a8b4-69f59ecdc517",
   "metadata": {},
   "outputs": [
    {
     "data": {
      "text/plain": [
       "dtype('int64')"
      ]
     },
     "execution_count": 468,
     "metadata": {},
     "output_type": "execute_result"
    }
   ],
   "source": [
    "arr1.dtype"
   ]
  },
  {
   "cell_type": "code",
   "execution_count": 469,
   "id": "26d82b10-1f00-4821-a29b-12fafcc3b87f",
   "metadata": {},
   "outputs": [
    {
     "data": {
      "text/plain": [
       "array([[0., 0., 0.],\n",
       "       [0., 0., 0.]])"
      ]
     },
     "execution_count": 469,
     "metadata": {},
     "output_type": "execute_result"
    }
   ],
   "source": [
    "arr3 = np.zeros((2,3))\n",
    "arr3"
   ]
  },
  {
   "cell_type": "code",
   "execution_count": 470,
   "id": "b4d57a0a-e7c8-4600-82c0-75fb39ad3196",
   "metadata": {},
   "outputs": [
    {
     "data": {
      "text/plain": [
       "array([[1., 1., 1.],\n",
       "       [1., 1., 1.],\n",
       "       [1., 1., 1.]])"
      ]
     },
     "execution_count": 470,
     "metadata": {},
     "output_type": "execute_result"
    }
   ],
   "source": [
    "arr4 = np.ones((3,3))\n",
    "arr4"
   ]
  },
  {
   "cell_type": "code",
   "execution_count": 471,
   "id": "c98d8648-6eec-4f4c-a793-455f15d4d9f6",
   "metadata": {},
   "outputs": [
    {
     "data": {
      "text/plain": [
       "array([[1., 0., 0., 0.],\n",
       "       [0., 1., 0., 0.],\n",
       "       [0., 0., 1., 0.],\n",
       "       [0., 0., 0., 1.]])"
      ]
     },
     "execution_count": 471,
     "metadata": {},
     "output_type": "execute_result"
    }
   ],
   "source": [
    "arr5 = np.identity(4)\n",
    "arr5"
   ]
  },
  {
   "cell_type": "code",
   "execution_count": 472,
   "id": "a88b4b88-8d70-46cb-8345-4e28cdb49e16",
   "metadata": {},
   "outputs": [
    {
     "data": {
      "text/plain": [
       "array([0, 1, 2, 3, 4, 5, 6, 7, 8, 9])"
      ]
     },
     "execution_count": 472,
     "metadata": {},
     "output_type": "execute_result"
    }
   ],
   "source": [
    "arr6 = np.arange(10)\n",
    "arr6"
   ]
  },
  {
   "cell_type": "code",
   "execution_count": 473,
   "id": "f6437b45-dcca-4077-b3df-179ac08ca2ae",
   "metadata": {},
   "outputs": [
    {
     "data": {
      "text/plain": [
       "array([ 5,  6,  7,  8,  9, 10, 11, 12, 13, 14, 15])"
      ]
     },
     "execution_count": 473,
     "metadata": {},
     "output_type": "execute_result"
    }
   ],
   "source": [
    "arr7 = np.arange(5,16)\n",
    "arr7"
   ]
  },
  {
   "cell_type": "code",
   "execution_count": 474,
   "id": "34112e31-bcf0-4155-8e4a-8db10fc7534f",
   "metadata": {},
   "outputs": [
    {
     "data": {
      "text/plain": [
       "array([ 1,  3,  5,  7,  9, 11, 13])"
      ]
     },
     "execution_count": 474,
     "metadata": {},
     "output_type": "execute_result"
    }
   ],
   "source": [
    "# third element tells you how many steps the array would jump \n",
    "arr8 = np.arange(1,15,2)\n",
    "arr8"
   ]
  },
  {
   "cell_type": "code",
   "execution_count": 475,
   "id": "f293fce0-87dc-439f-835a-b1d762b38fb4",
   "metadata": {},
   "outputs": [
    {
     "data": {
      "text/plain": [
       "array([ 1,  3,  5,  7,  9, 11, 13])"
      ]
     },
     "execution_count": 475,
     "metadata": {},
     "output_type": "execute_result"
    }
   ],
   "source": [
    "arr9 = arr8.copy()\n",
    "arr9"
   ]
  },
  {
   "cell_type": "code",
   "execution_count": 476,
   "id": "9903561b-c352-4d4c-aed3-3c89dc0495b0",
   "metadata": {},
   "outputs": [],
   "source": [
    "# Properties and Attributes"
   ]
  },
  {
   "cell_type": "code",
   "execution_count": 477,
   "id": "f08f9d9e-0e8e-4fdd-bb12-6669a9567f70",
   "metadata": {},
   "outputs": [
    {
     "data": {
      "text/plain": [
       "(5,)"
      ]
     },
     "execution_count": 477,
     "metadata": {},
     "output_type": "execute_result"
    }
   ],
   "source": [
    "# shape\n",
    "arr1.shape"
   ]
  },
  {
   "cell_type": "code",
   "execution_count": 478,
   "id": "8c6294c4-ca4b-4085-8c60-a78825bc9edd",
   "metadata": {},
   "outputs": [],
   "source": [
    "# arr1 is 1-d array having 5 elements"
   ]
  },
  {
   "cell_type": "code",
   "execution_count": 479,
   "id": "d7885b2a-8ffd-4ef6-b75c-6ec4431f6ab4",
   "metadata": {},
   "outputs": [
    {
     "data": {
      "text/plain": [
       "array([[1, 2],\n",
       "       [3, 4]])"
      ]
     },
     "execution_count": 479,
     "metadata": {},
     "output_type": "execute_result"
    }
   ],
   "source": [
    "arr2"
   ]
  },
  {
   "cell_type": "code",
   "execution_count": 480,
   "id": "b2768086-9af1-4502-84d0-55d730d6bd8c",
   "metadata": {},
   "outputs": [
    {
     "data": {
      "text/plain": [
       "(2, 2)"
      ]
     },
     "execution_count": 480,
     "metadata": {},
     "output_type": "execute_result"
    }
   ],
   "source": [
    "arr2.shape"
   ]
  },
  {
   "cell_type": "code",
   "execution_count": 481,
   "id": "0117bea8-8227-48ce-9418-0dfc856b6f7d",
   "metadata": {},
   "outputs": [],
   "source": [
    "# arr2 is 2-d array"
   ]
  },
  {
   "cell_type": "code",
   "execution_count": 482,
   "id": "d239e981-06f8-469a-8e85-18e779c647ea",
   "metadata": {},
   "outputs": [
    {
     "data": {
      "text/plain": [
       "array([[0., 0., 0.],\n",
       "       [0., 0., 0.]])"
      ]
     },
     "execution_count": 482,
     "metadata": {},
     "output_type": "execute_result"
    }
   ],
   "source": [
    "arr3"
   ]
  },
  {
   "cell_type": "code",
   "execution_count": 483,
   "id": "ac03c852-413d-4d84-9ede-2f75367ed31e",
   "metadata": {},
   "outputs": [
    {
     "data": {
      "text/plain": [
       "(2, 3)"
      ]
     },
     "execution_count": 483,
     "metadata": {},
     "output_type": "execute_result"
    }
   ],
   "source": [
    "arr3.shape"
   ]
  },
  {
   "cell_type": "code",
   "execution_count": 484,
   "id": "adfc3db5-640b-4869-a434-6bb599af9c66",
   "metadata": {},
   "outputs": [],
   "source": [
    "#arr3 is again a 2 -d array"
   ]
  },
  {
   "cell_type": "code",
   "execution_count": 485,
   "id": "3f321e47-694e-4a8e-b191-8c96f2cdf504",
   "metadata": {},
   "outputs": [
    {
     "data": {
      "text/plain": [
       "array([[1., 1., 1.],\n",
       "       [1., 1., 1.],\n",
       "       [1., 1., 1.]])"
      ]
     },
     "execution_count": 485,
     "metadata": {},
     "output_type": "execute_result"
    }
   ],
   "source": [
    "arr4"
   ]
  },
  {
   "cell_type": "code",
   "execution_count": 486,
   "id": "0eaecb6c-3661-4f95-8ba8-5b334ea30ff8",
   "metadata": {},
   "outputs": [
    {
     "data": {
      "text/plain": [
       "(3, 3)"
      ]
     },
     "execution_count": 486,
     "metadata": {},
     "output_type": "execute_result"
    }
   ],
   "source": [
    "arr4.shape"
   ]
  },
  {
   "cell_type": "code",
   "execution_count": 487,
   "id": "2dff3ee3-f105-409a-9847-6c1e7dba9158",
   "metadata": {},
   "outputs": [],
   "source": [
    "# arr4 is 3 -d array"
   ]
  },
  {
   "cell_type": "code",
   "execution_count": 488,
   "id": "9b5bbb28-c4c4-42f1-b73c-43a4142d9c59",
   "metadata": {},
   "outputs": [
    {
     "data": {
      "text/plain": [
       "array([1, 2, 3, 4, 5])"
      ]
     },
     "execution_count": 488,
     "metadata": {},
     "output_type": "execute_result"
    }
   ],
   "source": [
    "# size\n",
    "arr1"
   ]
  },
  {
   "cell_type": "code",
   "execution_count": 489,
   "id": "00c0e5b0-404e-496e-83e1-e1a091ed3207",
   "metadata": {},
   "outputs": [
    {
     "data": {
      "text/plain": [
       "5"
      ]
     },
     "execution_count": 489,
     "metadata": {},
     "output_type": "execute_result"
    }
   ],
   "source": [
    "arr1.size"
   ]
  },
  {
   "cell_type": "code",
   "execution_count": 490,
   "id": "b4d629da-9086-4888-8d52-3bdcc6c64bce",
   "metadata": {},
   "outputs": [
    {
     "data": {
      "text/plain": [
       "array([[1, 2],\n",
       "       [3, 4]])"
      ]
     },
     "execution_count": 490,
     "metadata": {},
     "output_type": "execute_result"
    }
   ],
   "source": [
    "arr2"
   ]
  },
  {
   "cell_type": "code",
   "execution_count": 491,
   "id": "814398ae-7fc8-4c83-b012-b5e5f33438b3",
   "metadata": {},
   "outputs": [
    {
     "data": {
      "text/plain": [
       "4"
      ]
     },
     "execution_count": 491,
     "metadata": {},
     "output_type": "execute_result"
    }
   ],
   "source": [
    "arr2.size"
   ]
  },
  {
   "cell_type": "code",
   "execution_count": 492,
   "id": "b636da00-caa3-4cf3-83b1-b053ed1b63f3",
   "metadata": {},
   "outputs": [
    {
     "data": {
      "text/plain": [
       "array([[0., 0., 0.],\n",
       "       [0., 0., 0.]])"
      ]
     },
     "execution_count": 492,
     "metadata": {},
     "output_type": "execute_result"
    }
   ],
   "source": [
    "arr3"
   ]
  },
  {
   "cell_type": "code",
   "execution_count": 493,
   "id": "2b77ccad-7778-430b-8e0a-5efce791bbb0",
   "metadata": {},
   "outputs": [
    {
     "data": {
      "text/plain": [
       "6"
      ]
     },
     "execution_count": 493,
     "metadata": {},
     "output_type": "execute_result"
    }
   ],
   "source": [
    "arr3.size"
   ]
  },
  {
   "cell_type": "code",
   "execution_count": 494,
   "id": "59f73652-726c-4cbc-87f8-04ff48e36b0c",
   "metadata": {},
   "outputs": [],
   "source": [
    "# size = no. of elements in the array"
   ]
  },
  {
   "cell_type": "code",
   "execution_count": 495,
   "id": "bfb161b1-40d7-40f2-aee3-92706769d418",
   "metadata": {},
   "outputs": [
    {
     "data": {
      "text/plain": [
       "array([[1., 1., 1.],\n",
       "       [1., 1., 1.],\n",
       "       [1., 1., 1.]])"
      ]
     },
     "execution_count": 495,
     "metadata": {},
     "output_type": "execute_result"
    }
   ],
   "source": [
    "arr4"
   ]
  },
  {
   "cell_type": "code",
   "execution_count": 496,
   "id": "e22f6dc0-246c-483d-976b-f93608c52703",
   "metadata": {},
   "outputs": [
    {
     "data": {
      "text/plain": [
       "9"
      ]
     },
     "execution_count": 496,
     "metadata": {},
     "output_type": "execute_result"
    }
   ],
   "source": [
    "arr4.size"
   ]
  },
  {
   "cell_type": "code",
   "execution_count": 497,
   "id": "5619e528-65d6-4e2a-a0fc-4ca026b0963c",
   "metadata": {},
   "outputs": [],
   "source": [
    "# itemsize"
   ]
  },
  {
   "cell_type": "code",
   "execution_count": 498,
   "id": "7854f678-7614-4ddd-a885-afd8b2a6c9cc",
   "metadata": {},
   "outputs": [
    {
     "data": {
      "text/plain": [
       "array([1, 2, 3, 4, 5])"
      ]
     },
     "execution_count": 498,
     "metadata": {},
     "output_type": "execute_result"
    }
   ],
   "source": [
    "arr1"
   ]
  },
  {
   "cell_type": "code",
   "execution_count": 499,
   "id": "c33a404c-e78b-414b-ae4f-0e2a865c8db5",
   "metadata": {},
   "outputs": [
    {
     "data": {
      "text/plain": [
       "8"
      ]
     },
     "execution_count": 499,
     "metadata": {},
     "output_type": "execute_result"
    }
   ],
   "source": [
    "arr1.itemsize"
   ]
  },
  {
   "cell_type": "code",
   "execution_count": 500,
   "id": "e56e3bcd-9d8f-429e-8b71-04959e38f06c",
   "metadata": {},
   "outputs": [
    {
     "data": {
      "text/plain": [
       "array([[1, 2],\n",
       "       [3, 4]])"
      ]
     },
     "execution_count": 500,
     "metadata": {},
     "output_type": "execute_result"
    }
   ],
   "source": [
    "arr2"
   ]
  },
  {
   "cell_type": "code",
   "execution_count": 501,
   "id": "07d6bddb-6017-4272-ae06-a750ecb7640b",
   "metadata": {},
   "outputs": [
    {
     "data": {
      "text/plain": [
       "8"
      ]
     },
     "execution_count": 501,
     "metadata": {},
     "output_type": "execute_result"
    }
   ],
   "source": [
    "arr2.itemsize"
   ]
  },
  {
   "cell_type": "code",
   "execution_count": 502,
   "id": "6dd6bf38-f60c-413e-98fa-a2494464dedd",
   "metadata": {},
   "outputs": [
    {
     "data": {
      "text/plain": [
       "array([[0., 0., 0.],\n",
       "       [0., 0., 0.]])"
      ]
     },
     "execution_count": 502,
     "metadata": {},
     "output_type": "execute_result"
    }
   ],
   "source": [
    "arr3"
   ]
  },
  {
   "cell_type": "code",
   "execution_count": 503,
   "id": "97f5b383-6027-49d4-a3fb-7a823448e81a",
   "metadata": {},
   "outputs": [
    {
     "data": {
      "text/plain": [
       "8"
      ]
     },
     "execution_count": 503,
     "metadata": {},
     "output_type": "execute_result"
    }
   ],
   "source": [
    "arr3.itemsize"
   ]
  },
  {
   "cell_type": "code",
   "execution_count": 504,
   "id": "f6f53cf0-d3c2-4d74-955c-4d93cde3c1a9",
   "metadata": {},
   "outputs": [
    {
     "data": {
      "text/plain": [
       "array([1, 2, 3, 4, 5])"
      ]
     },
     "execution_count": 504,
     "metadata": {},
     "output_type": "execute_result"
    }
   ],
   "source": [
    "arr1"
   ]
  },
  {
   "cell_type": "code",
   "execution_count": 505,
   "id": "93269226-d1ad-4304-aeb5-25961ecc9097",
   "metadata": {},
   "outputs": [
    {
     "data": {
      "text/plain": [
       "array([1, 2, 3, 4, 5])"
      ]
     },
     "execution_count": 505,
     "metadata": {},
     "output_type": "execute_result"
    }
   ],
   "source": [
    "arr1"
   ]
  },
  {
   "cell_type": "code",
   "execution_count": 506,
   "id": "db33a022-0ae5-4d4a-af0d-c1d98f4c31f0",
   "metadata": {},
   "outputs": [
    {
     "data": {
      "text/plain": [
       "array([[1., 1., 1.],\n",
       "       [1., 1., 1.],\n",
       "       [1., 1., 1.]])"
      ]
     },
     "execution_count": 506,
     "metadata": {},
     "output_type": "execute_result"
    }
   ],
   "source": [
    "arr4"
   ]
  },
  {
   "cell_type": "code",
   "execution_count": 507,
   "id": "6f48b3ed-e026-4f8a-858e-5202130f25dd",
   "metadata": {},
   "outputs": [
    {
     "data": {
      "text/plain": [
       "8"
      ]
     },
     "execution_count": 507,
     "metadata": {},
     "output_type": "execute_result"
    }
   ],
   "source": [
    "arr4.itemsize # content is float therefor 8 bytes"
   ]
  },
  {
   "cell_type": "code",
   "execution_count": 508,
   "id": "e312b98e-4072-4b73-8a50-933b8c48a289",
   "metadata": {},
   "outputs": [
    {
     "data": {
      "text/plain": [
       "array([ 1,  3,  5,  7,  9, 11, 13])"
      ]
     },
     "execution_count": 508,
     "metadata": {},
     "output_type": "execute_result"
    }
   ],
   "source": [
    "# converting datatype eg. from integer to float\n",
    "arr9"
   ]
  },
  {
   "cell_type": "code",
   "execution_count": 509,
   "id": "bf58ea23-ed03-4bd4-ad49-d740d495ff6a",
   "metadata": {},
   "outputs": [
    {
     "data": {
      "text/plain": [
       "array([ 1.,  3.,  5.,  7.,  9., 11., 13.])"
      ]
     },
     "execution_count": 509,
     "metadata": {},
     "output_type": "execute_result"
    }
   ],
   "source": [
    "arr9.astype('float')"
   ]
  },
  {
   "cell_type": "code",
   "execution_count": 510,
   "id": "d4747c1d-8e62-4489-a1df-5d1ad25cb9d5",
   "metadata": {},
   "outputs": [],
   "source": [
    "# Numpy arrays - Faster, Convenient and compact comapred to Python List"
   ]
  },
  {
   "cell_type": "code",
   "execution_count": 511,
   "id": "9755d443-5e70-47c7-ad69-bbbf82b43e7c",
   "metadata": {},
   "outputs": [],
   "source": [
    "lista = range(10)\n",
    "arr10 = np.arange(10)"
   ]
  },
  {
   "cell_type": "code",
   "execution_count": 512,
   "id": "4764e88d-22da-48a5-8376-5308367a00b3",
   "metadata": {},
   "outputs": [],
   "source": [
    "# to execute getsizeof  function, we will import sys library\n",
    "import sys"
   ]
  },
  {
   "cell_type": "code",
   "execution_count": 513,
   "id": "e06c03ee-83a8-4811-90be-0c7887835dbf",
   "metadata": {},
   "outputs": [
    {
     "name": "stdout",
     "output_type": "stream",
     "text": [
      "280\n"
     ]
    }
   ],
   "source": [
    "print(sys.getsizeof(7)*len(lista))\n",
    "# total memory occupied by the list is 280 bytes"
   ]
  },
  {
   "cell_type": "code",
   "execution_count": 514,
   "id": "58aec225-3c6d-47f0-95b7-dea12a967177",
   "metadata": {},
   "outputs": [
    {
     "name": "stdout",
     "output_type": "stream",
     "text": [
      "80\n"
     ]
    }
   ],
   "source": [
    "print(arr10.itemsize*arr10.size)\n",
    "# total memory consumed by Numpy for the same amount of data is 80 bytes"
   ]
  },
  {
   "cell_type": "code",
   "execution_count": 515,
   "id": "f07496e5-2061-44df-aaa2-3cb67eefe172",
   "metadata": {},
   "outputs": [],
   "source": [
    "# proves Numpy occupies less memory therefore compact"
   ]
  },
  {
   "cell_type": "code",
   "execution_count": 516,
   "id": "fd8533d8-3d77-4340-a032-5b79c79601ed",
   "metadata": {},
   "outputs": [],
   "source": [
    "# Measure the speed of execution using Numpy and Python list"
   ]
  },
  {
   "cell_type": "code",
   "execution_count": 517,
   "id": "62df05c8-15ef-42d2-a393-199cb8801402",
   "metadata": {},
   "outputs": [],
   "source": [
    "x = range(10000000)\n",
    "y = np.arange(10000000)"
   ]
  },
  {
   "cell_type": "code",
   "execution_count": 518,
   "id": "91eceed1-f28c-45e7-aedc-b9d4c4f28183",
   "metadata": {},
   "outputs": [],
   "source": [
    "import time"
   ]
  },
  {
   "cell_type": "code",
   "execution_count": 519,
   "id": "b74fc4d2-6b93-4f10-b0b5-eeda2f994a92",
   "metadata": {},
   "outputs": [],
   "source": [
    "# execution with Python list"
   ]
  },
  {
   "cell_type": "code",
   "execution_count": 520,
   "id": "ff831173-f40e-4886-9156-f2bb7a91deb9",
   "metadata": {},
   "outputs": [],
   "source": [
    "start_time = time.time() # gives the current time before starting the function"
   ]
  },
  {
   "cell_type": "code",
   "execution_count": 521,
   "id": "f67e0cbb-056b-4e06-965c-8704e432c4c5",
   "metadata": {},
   "outputs": [],
   "source": [
    "z = [(x,y) for x,y in zip(x,y)] # function adds 1st element in x to 1st element of y and stores in z and so on and creates the list of all added items"
   ]
  },
  {
   "cell_type": "code",
   "execution_count": 522,
   "id": "8c0fb845-40e9-4f80-9c70-13b337f98105",
   "metadata": {},
   "outputs": [
    {
     "name": "stdout",
     "output_type": "stream",
     "text": [
      "2.2271196842193604\n"
     ]
    }
   ],
   "source": [
    "print(time.time() - start_time)"
   ]
  },
  {
   "cell_type": "code",
   "execution_count": 523,
   "id": "7f53dc47-29ac-4b93-b37e-4306dd210781",
   "metadata": {},
   "outputs": [],
   "source": [
    "# time taken by Python list is 145.128 secs"
   ]
  },
  {
   "cell_type": "code",
   "execution_count": 524,
   "id": "cf980be8-a1b3-4178-a58f-acae71296280",
   "metadata": {},
   "outputs": [],
   "source": [
    "# Execution using Numpy"
   ]
  },
  {
   "cell_type": "code",
   "execution_count": 525,
   "id": "50d1485d-7062-4295-8c3d-abdd63f20c11",
   "metadata": {},
   "outputs": [],
   "source": [
    "start_time = time.time()"
   ]
  },
  {
   "cell_type": "code",
   "execution_count": 526,
   "id": "553a2187-219c-4aaf-a84a-491eec501473",
   "metadata": {},
   "outputs": [],
   "source": [
    "z = x +y"
   ]
  },
  {
   "cell_type": "code",
   "execution_count": 527,
   "id": "553a43fe-6a5f-454e-91a9-4cc0f90887b2",
   "metadata": {},
   "outputs": [
    {
     "name": "stdout",
     "output_type": "stream",
     "text": [
      "1.9620850086212158\n"
     ]
    }
   ],
   "source": [
    "print(time.time() - start_time)"
   ]
  },
  {
   "cell_type": "code",
   "execution_count": 528,
   "id": "27ca29d6-4edd-4bc7-baa3-11da571727df",
   "metadata": {},
   "outputs": [],
   "source": [
    "# time taken by Numpy array is 47.090526819229126 secs"
   ]
  },
  {
   "cell_type": "code",
   "execution_count": 529,
   "id": "ea6987df-cd9f-4905-817f-daac79a80580",
   "metadata": {},
   "outputs": [],
   "source": [
    "# therefore Numpy faster"
   ]
  },
  {
   "cell_type": "code",
   "execution_count": 530,
   "id": "0aa449cc-89af-4185-9fc7-b830dc64db72",
   "metadata": {},
   "outputs": [],
   "source": [
    "# commands are easier therefore it is convenient"
   ]
  },
  {
   "cell_type": "code",
   "execution_count": 531,
   "id": "9d947083-49b6-4955-97cf-d05ec34b0602",
   "metadata": {},
   "outputs": [],
   "source": [
    "# indexing, Slicing and Iteration"
   ]
  },
  {
   "cell_type": "code",
   "execution_count": 532,
   "id": "c1313769-5e4f-4252-9304-b849ba3b72b1",
   "metadata": {},
   "outputs": [
    {
     "data": {
      "text/plain": [
       "array([ 0,  1,  2,  3,  4,  5,  6,  7,  8,  9, 10, 11, 12, 13, 14, 15, 16,\n",
       "       17, 18, 19, 20, 21, 22, 23])"
      ]
     },
     "execution_count": 532,
     "metadata": {},
     "output_type": "execute_result"
    }
   ],
   "source": [
    "arr12 = np.arange(24)\n",
    "arr12"
   ]
  },
  {
   "cell_type": "code",
   "execution_count": 533,
   "id": "43508baa-6366-451f-a4da-78d6512b35a5",
   "metadata": {},
   "outputs": [
    {
     "data": {
      "text/plain": [
       "array([[ 0,  1,  2,  3],\n",
       "       [ 4,  5,  6,  7],\n",
       "       [ 8,  9, 10, 11],\n",
       "       [12, 13, 14, 15],\n",
       "       [16, 17, 18, 19],\n",
       "       [20, 21, 22, 23]])"
      ]
     },
     "execution_count": 533,
     "metadata": {},
     "output_type": "execute_result"
    }
   ],
   "source": [
    "# reshape the array\n",
    "arr12 = np.arange(24).reshape(6,4)\n",
    "arr12"
   ]
  },
  {
   "cell_type": "code",
   "execution_count": 534,
   "id": "b6998e5e-c794-468b-996d-406f159b5ee0",
   "metadata": {},
   "outputs": [
    {
     "data": {
      "text/plain": [
       "array([4, 5, 6, 7])"
      ]
     },
     "execution_count": 534,
     "metadata": {},
     "output_type": "execute_result"
    }
   ],
   "source": [
    "# to exract 2nd row\n",
    "arr12[1]"
   ]
  },
  {
   "cell_type": "code",
   "execution_count": 535,
   "id": "69b03962-d018-4bc7-b82c-4701af8479db",
   "metadata": {},
   "outputs": [
    {
     "data": {
      "text/plain": [
       "array([20, 21, 22, 23])"
      ]
     },
     "execution_count": 535,
     "metadata": {},
     "output_type": "execute_result"
    }
   ],
   "source": [
    "# extract 6th row\n",
    "arr12[5]"
   ]
  },
  {
   "cell_type": "code",
   "execution_count": 536,
   "id": "b1a7c611-2454-41f3-860e-9842fcecea2d",
   "metadata": {},
   "outputs": [
    {
     "data": {
      "text/plain": [
       "array([ 0,  4,  8, 12, 16, 20])"
      ]
     },
     "execution_count": 536,
     "metadata": {},
     "output_type": "execute_result"
    }
   ],
   "source": [
    "# to extract first column\n",
    "arr12[:,0]"
   ]
  },
  {
   "cell_type": "code",
   "execution_count": 537,
   "id": "b3cfbd8e-5052-4144-b242-85752624f749",
   "metadata": {},
   "outputs": [
    {
     "data": {
      "text/plain": [
       "array([[ 1,  2],\n",
       "       [ 5,  6],\n",
       "       [ 9, 10],\n",
       "       [13, 14],\n",
       "       [17, 18],\n",
       "       [21, 22]])"
      ]
     },
     "execution_count": 537,
     "metadata": {},
     "output_type": "execute_result"
    }
   ],
   "source": [
    "# to extract 2nd and 4th column\n",
    "arr12[:,1:3]"
   ]
  },
  {
   "cell_type": "code",
   "execution_count": 538,
   "id": "65f907ed-b310-46ac-bb37-aa881781f78d",
   "metadata": {},
   "outputs": [
    {
     "data": {
      "text/plain": [
       "array([[ 0,  1,  2,  3],\n",
       "       [ 4,  5,  6,  7],\n",
       "       [ 8,  9, 10, 11],\n",
       "       [12, 13, 14, 15],\n",
       "       [16, 17, 18, 19],\n",
       "       [20, 21, 22, 23]])"
      ]
     },
     "execution_count": 538,
     "metadata": {},
     "output_type": "execute_result"
    }
   ],
   "source": [
    "arr12"
   ]
  },
  {
   "cell_type": "code",
   "execution_count": 539,
   "id": "9811b9c6-e25e-4765-a99e-adfa5f6ce20e",
   "metadata": {},
   "outputs": [
    {
     "data": {
      "text/plain": [
       "array([[ 9, 10],\n",
       "       [13, 14]])"
      ]
     },
     "execution_count": 539,
     "metadata": {},
     "output_type": "execute_result"
    }
   ],
   "source": [
    "# to extract 9,10,13, 14\n",
    "arr12[2:4:,1:3]"
   ]
  },
  {
   "cell_type": "code",
   "execution_count": 540,
   "id": "7ac8cd05-ae5e-44e2-b4c6-13a9c9638c74",
   "metadata": {},
   "outputs": [],
   "source": [
    "# this is slicing, all rows above 2 and all rows below 4th row are sliced"
   ]
  },
  {
   "cell_type": "code",
   "execution_count": 541,
   "id": "83dcbedd-6916-4505-8c04-56417e20ebc8",
   "metadata": {},
   "outputs": [
    {
     "data": {
      "text/plain": [
       "array([[18, 19],\n",
       "       [22, 23]])"
      ]
     },
     "execution_count": 541,
     "metadata": {},
     "output_type": "execute_result"
    }
   ],
   "source": [
    "# to extract 18,19,22,23\n",
    "arr12[4:,2:]"
   ]
  },
  {
   "cell_type": "code",
   "execution_count": 542,
   "id": "b887a6e1-6ec0-4f04-95eb-37dd342274ff",
   "metadata": {},
   "outputs": [
    {
     "data": {
      "text/plain": [
       "array([[2, 3],\n",
       "       [6, 7]])"
      ]
     },
     "execution_count": 542,
     "metadata": {},
     "output_type": "execute_result"
    }
   ],
   "source": [
    "arr12[:2:,2:]"
   ]
  },
  {
   "cell_type": "code",
   "execution_count": 543,
   "id": "99731f37-785f-40f4-a0ec-1472d81b507d",
   "metadata": {},
   "outputs": [
    {
     "data": {
      "text/plain": [
       "array([[0, 1],\n",
       "       [4, 5]])"
      ]
     },
     "execution_count": 543,
     "metadata": {},
     "output_type": "execute_result"
    }
   ],
   "source": [
    "# 0,1,4,5\n",
    "arr12[:2:,:2]"
   ]
  },
  {
   "cell_type": "code",
   "execution_count": 544,
   "id": "72940443-95a6-49ad-8c6b-2c0931fcc429",
   "metadata": {},
   "outputs": [
    {
     "data": {
      "text/plain": [
       "array([[ 0,  1,  2,  3],\n",
       "       [ 4,  5,  6,  7],\n",
       "       [ 8,  9, 10, 11],\n",
       "       [12, 13, 14, 15],\n",
       "       [16, 17, 18, 19],\n",
       "       [20, 21, 22, 23]])"
      ]
     },
     "execution_count": 544,
     "metadata": {},
     "output_type": "execute_result"
    }
   ],
   "source": [
    "arr12"
   ]
  },
  {
   "cell_type": "code",
   "execution_count": 545,
   "id": "a432674c-466c-4da1-a415-b4c436cfd0c5",
   "metadata": {},
   "outputs": [
    {
     "data": {
      "text/plain": [
       "array([[12, 13, 14],\n",
       "       [16, 17, 18]])"
      ]
     },
     "execution_count": 545,
     "metadata": {},
     "output_type": "execute_result"
    }
   ],
   "source": [
    "# 12, 13, 14, 16, 17, 18\n",
    "arr12[3:5:,:3]\n",
    "# I don't want first 3 rows and rows after 5th row\n",
    "# I want first 3 columns and I don't want columns after 3rd column"
   ]
  },
  {
   "cell_type": "code",
   "execution_count": 546,
   "id": "e0377fa9-0ce9-42ea-823a-84074be350f8",
   "metadata": {},
   "outputs": [
    {
     "data": {
      "text/plain": [
       "array([[ 0,  1,  2,  3],\n",
       "       [ 4,  5,  6,  7],\n",
       "       [ 8,  9, 10, 11],\n",
       "       [12, 13, 14, 15],\n",
       "       [16, 17, 18, 19],\n",
       "       [20, 21, 22, 23]])"
      ]
     },
     "execution_count": 546,
     "metadata": {},
     "output_type": "execute_result"
    }
   ],
   "source": [
    "arr12"
   ]
  },
  {
   "cell_type": "code",
   "execution_count": 547,
   "id": "f78aac5b-0358-40ac-b470-b957b9d21a5f",
   "metadata": {},
   "outputs": [
    {
     "data": {
      "text/plain": [
       "array([[10, 11],\n",
       "       [14, 15]])"
      ]
     },
     "execution_count": 547,
     "metadata": {},
     "output_type": "execute_result"
    }
   ],
   "source": [
    "arr12[2:4:,2:]"
   ]
  },
  {
   "cell_type": "code",
   "execution_count": 548,
   "id": "369863e3-28e8-4f9b-81ff-b258651635bf",
   "metadata": {},
   "outputs": [],
   "source": [
    "# I don't want first two rows and rows after 4th row and first two columns"
   ]
  },
  {
   "cell_type": "code",
   "execution_count": 549,
   "id": "d9c813c8-8dbf-4341-a65f-44a9e67e530c",
   "metadata": {},
   "outputs": [
    {
     "data": {
      "text/plain": [
       "array([[ 0,  1,  2,  3],\n",
       "       [ 4,  5,  6,  7],\n",
       "       [ 8,  9, 10, 11],\n",
       "       [12, 13, 14, 15],\n",
       "       [16, 17, 18, 19],\n",
       "       [20, 21, 22, 23]])"
      ]
     },
     "execution_count": 549,
     "metadata": {},
     "output_type": "execute_result"
    }
   ],
   "source": [
    "arr12"
   ]
  },
  {
   "cell_type": "code",
   "execution_count": 550,
   "id": "cd7056df-5ddd-4fcb-8385-fac8929e84d6",
   "metadata": {},
   "outputs": [
    {
     "name": "stdout",
     "output_type": "stream",
     "text": [
      "[0 1 2 3]\n",
      "[4 5 6 7]\n",
      "[ 8  9 10 11]\n",
      "[12 13 14 15]\n",
      "[16 17 18 19]\n",
      "[20 21 22 23]\n"
     ]
    }
   ],
   "source": [
    "for i in arr12:\n",
    "    print(i)"
   ]
  },
  {
   "cell_type": "code",
   "execution_count": 551,
   "id": "16efd0b6-d909-4591-b526-edf65090117b",
   "metadata": {},
   "outputs": [
    {
     "name": "stdout",
     "output_type": "stream",
     "text": [
      "0\n",
      "1\n",
      "2\n",
      "3\n",
      "4\n",
      "5\n",
      "6\n",
      "7\n",
      "8\n",
      "9\n",
      "10\n",
      "11\n",
      "12\n",
      "13\n",
      "14\n",
      "15\n",
      "16\n",
      "17\n",
      "18\n",
      "19\n",
      "20\n",
      "21\n",
      "22\n",
      "23\n"
     ]
    }
   ],
   "source": [
    "for i in np.nditer(arr12):\n",
    "    print(i)"
   ]
  },
  {
   "cell_type": "code",
   "execution_count": 552,
   "id": "558d92ef-471e-4f6a-9184-d5b1782ba2c5",
   "metadata": {},
   "outputs": [
    {
     "data": {
      "text/plain": [
       "array([[ 0,  1,  2,  3],\n",
       "       [ 4,  5,  6,  7],\n",
       "       [ 8,  9, 10, 11],\n",
       "       [12, 13, 14, 15],\n",
       "       [16, 17, 18, 19],\n",
       "       [20, 21, 22, 23]])"
      ]
     },
     "execution_count": 552,
     "metadata": {},
     "output_type": "execute_result"
    }
   ],
   "source": [
    "arr12"
   ]
  },
  {
   "cell_type": "code",
   "execution_count": 553,
   "id": "6f0e0af3-18ae-4f06-9278-a64fcfcdc7b2",
   "metadata": {},
   "outputs": [
    {
     "data": {
      "text/plain": [
       "array([[14, 15],\n",
       "       [18, 19]])"
      ]
     },
     "execution_count": 553,
     "metadata": {},
     "output_type": "execute_result"
    }
   ],
   "source": [
    "arr12[3:5:,2:]"
   ]
  },
  {
   "cell_type": "code",
   "execution_count": 554,
   "id": "1b080bfe-18bd-41af-aef7-fd57d437a82f",
   "metadata": {},
   "outputs": [
    {
     "data": {
      "text/plain": [
       "array([[ 5,  6],\n",
       "       [ 9, 10]])"
      ]
     },
     "execution_count": 554,
     "metadata": {},
     "output_type": "execute_result"
    }
   ],
   "source": [
    "# want [5,  6],\n",
    "#     [ 9, 10]\n",
    "arr12[1:3:,1:3]"
   ]
  },
  {
   "cell_type": "code",
   "execution_count": 555,
   "id": "764677dc-8f69-4b2c-8e6b-261e4cba670f",
   "metadata": {},
   "outputs": [
    {
     "data": {
      "text/plain": [
       "array([[ 0,  1,  2,  3],\n",
       "       [ 4,  5,  6,  7],\n",
       "       [ 8,  9, 10, 11],\n",
       "       [12, 13, 14, 15],\n",
       "       [16, 17, 18, 19],\n",
       "       [20, 21, 22, 23]])"
      ]
     },
     "execution_count": 555,
     "metadata": {},
     "output_type": "execute_result"
    }
   ],
   "source": [
    "arr12"
   ]
  },
  {
   "cell_type": "code",
   "execution_count": 556,
   "id": "783f82eb-1d56-40ca-a991-ebc8ff109b0a",
   "metadata": {},
   "outputs": [
    {
     "data": {
      "text/plain": [
       "array([[46, 23],\n",
       "       [41, 42],\n",
       "       [32, 12],\n",
       "       [18, 43],\n",
       "       [49, 44]])"
      ]
     },
     "execution_count": 556,
     "metadata": {},
     "output_type": "execute_result"
    }
   ],
   "source": [
    "arr1 = np.random.randint(10,50,10).reshape(5,2)\n",
    "arr1"
   ]
  },
  {
   "cell_type": "code",
   "execution_count": 557,
   "id": "59f0271c-a002-49db-b50d-1522d3472ff2",
   "metadata": {},
   "outputs": [
    {
     "name": "stdout",
     "output_type": "stream",
     "text": [
      "46\n",
      "23\n",
      "41\n",
      "42\n",
      "32\n",
      "12\n",
      "18\n",
      "43\n",
      "49\n",
      "44\n"
     ]
    }
   ],
   "source": [
    "for i in np.nditer(arr1):\n",
    "    print(i)"
   ]
  },
  {
   "cell_type": "code",
   "execution_count": 558,
   "id": "423dfc07-bfec-4404-9796-d7d19c02f6cd",
   "metadata": {},
   "outputs": [],
   "source": [
    "arr1 = np.random.randint(1,10,6).reshape(3,2)\n",
    "arr2 = np.random.randint(1,10,6).reshape(3,2)"
   ]
  },
  {
   "cell_type": "code",
   "execution_count": 559,
   "id": "037e2848-5bcc-4300-80ad-08ada25a0fd8",
   "metadata": {},
   "outputs": [
    {
     "data": {
      "text/plain": [
       "array([[1, 2],\n",
       "       [6, 7],\n",
       "       [4, 6]])"
      ]
     },
     "execution_count": 559,
     "metadata": {},
     "output_type": "execute_result"
    }
   ],
   "source": [
    "arr1\n"
   ]
  },
  {
   "cell_type": "code",
   "execution_count": 560,
   "id": "031d68c2-a923-4575-b3ed-5a75a120a369",
   "metadata": {},
   "outputs": [
    {
     "data": {
      "text/plain": [
       "array([[7, 7],\n",
       "       [2, 3],\n",
       "       [3, 9]])"
      ]
     },
     "execution_count": 560,
     "metadata": {},
     "output_type": "execute_result"
    }
   ],
   "source": [
    "arr2"
   ]
  },
  {
   "cell_type": "code",
   "execution_count": 561,
   "id": "49ffb551-efc8-4f55-b227-54c712eefe45",
   "metadata": {},
   "outputs": [
    {
     "data": {
      "text/plain": [
       "array([[ 8,  9],\n",
       "       [ 8, 10],\n",
       "       [ 7, 15]])"
      ]
     },
     "execution_count": 561,
     "metadata": {},
     "output_type": "execute_result"
    }
   ],
   "source": [
    "arr1+arr2"
   ]
  },
  {
   "cell_type": "code",
   "execution_count": 562,
   "id": "dce081c5-b7de-4980-83f2-037b59d32ea3",
   "metadata": {},
   "outputs": [
    {
     "data": {
      "text/plain": [
       "array([[-6, -5],\n",
       "       [ 4,  4],\n",
       "       [ 1, -3]])"
      ]
     },
     "execution_count": 562,
     "metadata": {},
     "output_type": "execute_result"
    }
   ],
   "source": [
    "arr1-arr2"
   ]
  },
  {
   "cell_type": "code",
   "execution_count": 563,
   "id": "5961bf71-bc68-46a6-aaa1-d95a04c2d587",
   "metadata": {},
   "outputs": [
    {
     "data": {
      "text/plain": [
       "array([[ 7, 14],\n",
       "       [12, 21],\n",
       "       [12, 54]])"
      ]
     },
     "execution_count": 563,
     "metadata": {},
     "output_type": "execute_result"
    }
   ],
   "source": [
    "arr1*arr2"
   ]
  },
  {
   "cell_type": "code",
   "execution_count": 564,
   "id": "7973366b-91c2-4cb9-9873-735153eb53e5",
   "metadata": {},
   "outputs": [
    {
     "ename": "ValueError",
     "evalue": "shapes (3,2) and (3,2) not aligned: 2 (dim 1) != 3 (dim 0)",
     "output_type": "error",
     "traceback": [
      "\u001b[0;31m---------------------------------------------------------------------------\u001b[0m",
      "\u001b[0;31mValueError\u001b[0m                                Traceback (most recent call last)",
      "Cell \u001b[0;32mIn[564], line 1\u001b[0m\n\u001b[0;32m----> 1\u001b[0m \u001b[43marr1\u001b[49m\u001b[38;5;241;43m.\u001b[39;49m\u001b[43mdot\u001b[49m\u001b[43m(\u001b[49m\u001b[43marr2\u001b[49m\u001b[43m)\u001b[49m\n",
      "\u001b[0;31mValueError\u001b[0m: shapes (3,2) and (3,2) not aligned: 2 (dim 1) != 3 (dim 0)"
     ]
    }
   ],
   "source": [
    "arr1.dot(arr2)"
   ]
  },
  {
   "cell_type": "code",
   "execution_count": 565,
   "id": "49995197-f383-4cdc-b102-5cfe6b04470f",
   "metadata": {},
   "outputs": [],
   "source": [
    "# this is because dot multiplication is based on matrix multiplication concept"
   ]
  },
  {
   "cell_type": "code",
   "execution_count": 566,
   "id": "bebea6db-115e-4804-a0a4-5b5379810c49",
   "metadata": {},
   "outputs": [
    {
     "data": {
      "text/plain": [
       "array([[13, 13, 20],\n",
       "       [63, 63, 75],\n",
       "       [46, 46, 62]])"
      ]
     },
     "execution_count": 566,
     "metadata": {},
     "output_type": "execute_result"
    }
   ],
   "source": [
    "arr1.dot(arr2.reshape(2,3))"
   ]
  },
  {
   "cell_type": "code",
   "execution_count": 567,
   "id": "b1b13604-85db-46be-8a19-0bf120f9fcf1",
   "metadata": {
    "jupyter": {
     "source_hidden": true
    },
    "tags": []
   },
   "outputs": [
    {
     "data": {
      "text/plain": [
       "array([[1, 2],\n",
       "       [6, 7],\n",
       "       [4, 6]])"
      ]
     },
     "execution_count": 567,
     "metadata": {},
     "output_type": "execute_result"
    }
   ],
   "source": [
    "arr1"
   ]
  },
  {
   "cell_type": "code",
   "execution_count": 568,
   "id": "516c183f-350b-491c-98df-2f4753ba3357",
   "metadata": {
    "jupyter": {
     "source_hidden": true
    },
    "tags": []
   },
   "outputs": [
    {
     "data": {
      "text/plain": [
       "7"
      ]
     },
     "execution_count": 568,
     "metadata": {},
     "output_type": "execute_result"
    }
   ],
   "source": [
    "arr1.max()"
   ]
  },
  {
   "cell_type": "code",
   "execution_count": 569,
   "id": "b63d420e-537c-44a0-ad8b-10d5f39fa1b6",
   "metadata": {},
   "outputs": [
    {
     "data": {
      "text/plain": [
       "1"
      ]
     },
     "execution_count": 569,
     "metadata": {},
     "output_type": "execute_result"
    }
   ],
   "source": [
    "arr1.min()"
   ]
  },
  {
   "cell_type": "code",
   "execution_count": 570,
   "id": "22bbe91d-492c-418e-a729-d43fc797e90f",
   "metadata": {},
   "outputs": [
    {
     "data": {
      "text/plain": [
       "5.0"
      ]
     },
     "execution_count": 570,
     "metadata": {},
     "output_type": "execute_result"
    }
   ],
   "source": [
    "np.median(arr1)"
   ]
  },
  {
   "cell_type": "code",
   "execution_count": 571,
   "id": "4bff557c-12e6-496b-8d52-64e87ebcf452",
   "metadata": {},
   "outputs": [
    {
     "data": {
      "text/plain": [
       "4.333333333333333"
      ]
     },
     "execution_count": 571,
     "metadata": {},
     "output_type": "execute_result"
    }
   ],
   "source": [
    "arr1.mean()"
   ]
  },
  {
   "cell_type": "code",
   "execution_count": 572,
   "id": "5c8055ea-fa84-46b6-b4b9-6ec6ebc7d16d",
   "metadata": {},
   "outputs": [
    {
     "data": {
      "text/plain": [
       "26"
      ]
     },
     "execution_count": 572,
     "metadata": {},
     "output_type": "execute_result"
    }
   ],
   "source": [
    "arr1.sum()"
   ]
  },
  {
   "cell_type": "code",
   "execution_count": 573,
   "id": "3d38b664-551a-42a1-84ab-970aa0bd3c8c",
   "metadata": {},
   "outputs": [
    {
     "data": {
      "text/plain": [
       "array([6, 7])"
      ]
     },
     "execution_count": 573,
     "metadata": {},
     "output_type": "execute_result"
    }
   ],
   "source": [
    "arr1.max(axis=0) # maximum in each column"
   ]
  },
  {
   "cell_type": "code",
   "execution_count": 574,
   "id": "218fd6f5-fa2e-439c-ac8d-8ba03f0a75da",
   "metadata": {},
   "outputs": [
    {
     "data": {
      "text/plain": [
       "array([1, 2])"
      ]
     },
     "execution_count": 574,
     "metadata": {},
     "output_type": "execute_result"
    }
   ],
   "source": [
    "arr1.min(axis=0) # min in each column"
   ]
  },
  {
   "cell_type": "code",
   "execution_count": 575,
   "id": "475a3cd5-0342-4194-903b-b39719886f89",
   "metadata": {},
   "outputs": [
    {
     "data": {
      "text/plain": [
       "array([[1, 2],\n",
       "       [6, 7],\n",
       "       [4, 6]])"
      ]
     },
     "execution_count": 575,
     "metadata": {},
     "output_type": "execute_result"
    }
   ],
   "source": [
    "arr1"
   ]
  },
  {
   "cell_type": "code",
   "execution_count": 576,
   "id": "f7b614ce-296a-4c78-b13b-7daea0599848",
   "metadata": {},
   "outputs": [
    {
     "data": {
      "text/plain": [
       "array([2, 7, 6])"
      ]
     },
     "execution_count": 576,
     "metadata": {},
     "output_type": "execute_result"
    }
   ],
   "source": [
    "arr1.max(axis =1) # max in each row"
   ]
  },
  {
   "cell_type": "code",
   "execution_count": 577,
   "id": "d5599df3-d480-490c-84c8-54bbc22e3093",
   "metadata": {},
   "outputs": [
    {
     "data": {
      "text/plain": [
       "array([1, 6, 4])"
      ]
     },
     "execution_count": 577,
     "metadata": {},
     "output_type": "execute_result"
    }
   ],
   "source": [
    "arr1.min(axis=1) # min in each row"
   ]
  },
  {
   "cell_type": "code",
   "execution_count": 578,
   "id": "49937477-aaff-4f56-bb25-5df42e32d2ac",
   "metadata": {},
   "outputs": [
    {
     "data": {
      "text/plain": [
       "array([[1, 2],\n",
       "       [6, 7],\n",
       "       [4, 6]])"
      ]
     },
     "execution_count": 578,
     "metadata": {},
     "output_type": "execute_result"
    }
   ],
   "source": [
    "arr1"
   ]
  },
  {
   "cell_type": "code",
   "execution_count": 579,
   "id": "2f88c9ef-1f77-4fcc-8efd-a476ee45c02d",
   "metadata": {},
   "outputs": [
    {
     "data": {
      "text/plain": [
       "array([1, 2, 6, 7, 4, 6])"
      ]
     },
     "execution_count": 579,
     "metadata": {},
     "output_type": "execute_result"
    }
   ],
   "source": [
    "arr1.ravel() # brings all multi-dimensional arrays in 1-d format"
   ]
  },
  {
   "cell_type": "code",
   "execution_count": 580,
   "id": "473e9871-0602-41ee-827f-faa91027baae",
   "metadata": {},
   "outputs": [
    {
     "data": {
      "text/plain": [
       "2"
      ]
     },
     "execution_count": 580,
     "metadata": {},
     "output_type": "execute_result"
    }
   ],
   "source": [
    "arr1.ndim"
   ]
  },
  {
   "cell_type": "code",
   "execution_count": 581,
   "id": "a9e5197f-fdbc-4112-b2c7-2120c634c0d5",
   "metadata": {},
   "outputs": [
    {
     "data": {
      "text/plain": [
       "array([[1, 2],\n",
       "       [6, 7],\n",
       "       [4, 6]])"
      ]
     },
     "execution_count": 581,
     "metadata": {},
     "output_type": "execute_result"
    }
   ],
   "source": [
    "arr1"
   ]
  },
  {
   "cell_type": "code",
   "execution_count": 582,
   "id": "5abbc8d8-33f1-4ef5-ac00-a8613d348b2e",
   "metadata": {},
   "outputs": [],
   "source": [
    "arr2 = arr1.ravel()"
   ]
  },
  {
   "cell_type": "code",
   "execution_count": 583,
   "id": "f0f0022f-9754-4f70-a89d-4174108c5cfa",
   "metadata": {},
   "outputs": [
    {
     "data": {
      "text/plain": [
       "1"
      ]
     },
     "execution_count": 583,
     "metadata": {},
     "output_type": "execute_result"
    }
   ],
   "source": [
    "arr2.ndim"
   ]
  },
  {
   "cell_type": "code",
   "execution_count": 584,
   "id": "0ab56c11-a1d7-43b1-8167-12b47e074077",
   "metadata": {},
   "outputs": [
    {
     "data": {
      "text/plain": [
       "array([1, 2, 6, 7, 4, 6])"
      ]
     },
     "execution_count": 584,
     "metadata": {},
     "output_type": "execute_result"
    }
   ],
   "source": [
    "arr2"
   ]
  },
  {
   "cell_type": "code",
   "execution_count": 585,
   "id": "1c1ff542-011d-4357-8562-72d889f46536",
   "metadata": {},
   "outputs": [
    {
     "data": {
      "text/plain": [
       "array([[1, 2],\n",
       "       [6, 7],\n",
       "       [4, 6]])"
      ]
     },
     "execution_count": 585,
     "metadata": {},
     "output_type": "execute_result"
    }
   ],
   "source": [
    "arr1"
   ]
  },
  {
   "cell_type": "code",
   "execution_count": 586,
   "id": "6f642151-d9dc-433f-a543-35323248edcb",
   "metadata": {},
   "outputs": [
    {
     "data": {
      "text/plain": [
       "array([[1, 6, 4],\n",
       "       [2, 7, 6]])"
      ]
     },
     "execution_count": 586,
     "metadata": {},
     "output_type": "execute_result"
    }
   ],
   "source": [
    "arr1.transpose()"
   ]
  },
  {
   "cell_type": "code",
   "execution_count": 587,
   "id": "3407d17c-14fa-4a31-bd60-2d8c88a5e209",
   "metadata": {},
   "outputs": [],
   "source": [
    "# stacking\n",
    "arr3 = np.random.randint(10,50,6).reshape(3,2)\n",
    "arr4 = np.random.randint(23,98,6).reshape(3,2)"
   ]
  },
  {
   "cell_type": "code",
   "execution_count": 588,
   "id": "06ecc0d8-11ce-4bf7-9e7b-7862ed9803a7",
   "metadata": {},
   "outputs": [
    {
     "data": {
      "text/plain": [
       "array([[12, 17],\n",
       "       [34, 29],\n",
       "       [25, 21]])"
      ]
     },
     "execution_count": 588,
     "metadata": {},
     "output_type": "execute_result"
    }
   ],
   "source": [
    "arr3"
   ]
  },
  {
   "cell_type": "code",
   "execution_count": 589,
   "id": "855178dd-5b94-4e47-b92e-4935abd81415",
   "metadata": {},
   "outputs": [
    {
     "data": {
      "text/plain": [
       "array([[70, 71],\n",
       "       [46, 33],\n",
       "       [66, 59]])"
      ]
     },
     "execution_count": 589,
     "metadata": {},
     "output_type": "execute_result"
    }
   ],
   "source": [
    "arr4"
   ]
  },
  {
   "cell_type": "code",
   "execution_count": 590,
   "id": "0871275d-2b67-4103-9531-abdd51e2656f",
   "metadata": {},
   "outputs": [
    {
     "data": {
      "text/plain": [
       "array([[12, 17, 70, 71],\n",
       "       [34, 29, 46, 33],\n",
       "       [25, 21, 66, 59]])"
      ]
     },
     "execution_count": 590,
     "metadata": {},
     "output_type": "execute_result"
    }
   ],
   "source": [
    "np.hstack((arr3,arr4)) # horzontal stcking : next to each other"
   ]
  },
  {
   "cell_type": "code",
   "execution_count": 591,
   "id": "13bfddf9-3323-4bc5-864f-17b2fa0713db",
   "metadata": {},
   "outputs": [
    {
     "data": {
      "text/plain": [
       "array([[12, 17],\n",
       "       [34, 29],\n",
       "       [25, 21],\n",
       "       [70, 71],\n",
       "       [46, 33],\n",
       "       [66, 59]])"
      ]
     },
     "execution_count": 591,
     "metadata": {},
     "output_type": "execute_result"
    }
   ],
   "source": [
    "np.vstack((arr3,arr4)) # vertical stacking: one on top of each other"
   ]
  },
  {
   "cell_type": "code",
   "execution_count": 592,
   "id": "95b4442b-d699-44ea-aadb-f96cb5033c89",
   "metadata": {},
   "outputs": [
    {
     "data": {
      "text/plain": [
       "array([[12, 17],\n",
       "       [34, 29],\n",
       "       [25, 21]])"
      ]
     },
     "execution_count": 592,
     "metadata": {},
     "output_type": "execute_result"
    }
   ],
   "source": [
    "arr3"
   ]
  },
  {
   "cell_type": "code",
   "execution_count": 593,
   "id": "4ac2347d-2226-4734-938b-eae8d3ebad22",
   "metadata": {},
   "outputs": [
    {
     "data": {
      "text/plain": [
       "[array([[12],\n",
       "        [34],\n",
       "        [25]]),\n",
       " array([[17],\n",
       "        [29],\n",
       "        [21]])]"
      ]
     },
     "execution_count": 593,
     "metadata": {},
     "output_type": "execute_result"
    }
   ],
   "source": [
    "np.hsplit(arr3,2) # horizontal split: splitting next to each other types in two equal parts"
   ]
  },
  {
   "cell_type": "code",
   "execution_count": 594,
   "id": "e37edb4a-5aa3-4a4e-bb8d-1699255931de",
   "metadata": {},
   "outputs": [
    {
     "data": {
      "text/plain": [
       "[array([[12, 17]]), array([[34, 29]]), array([[25, 21]])]"
      ]
     },
     "execution_count": 594,
     "metadata": {},
     "output_type": "execute_result"
    }
   ],
   "source": [
    "np.vsplit(arr3,3) # vertical split : splitting layers stacked on one on top of each other types, in 3 equal parts"
   ]
  },
  {
   "cell_type": "code",
   "execution_count": 595,
   "id": "bc055eda-137d-47ef-b34e-6450aa2f2b31",
   "metadata": {},
   "outputs": [
    {
     "data": {
      "text/plain": [
       "array([[ 0,  1,  2,  3],\n",
       "       [ 4,  5,  6,  7],\n",
       "       [ 8,  9, 10, 11],\n",
       "       [12, 13, 14, 15],\n",
       "       [16, 17, 18, 19],\n",
       "       [20, 21, 22, 23]])"
      ]
     },
     "execution_count": 595,
     "metadata": {},
     "output_type": "execute_result"
    }
   ],
   "source": [
    "# fancy Indexing\n",
    "arr12"
   ]
  },
  {
   "cell_type": "code",
   "execution_count": 596,
   "id": "de448201-a3fd-43e6-841d-5444d470b544",
   "metadata": {},
   "outputs": [
    {
     "data": {
      "text/plain": [
       "array([[ 8,  9, 10, 11],\n",
       "       [12, 13, 14, 15],\n",
       "       [20, 21, 22, 23]])"
      ]
     },
     "execution_count": 596,
     "metadata": {},
     "output_type": "execute_result"
    }
   ],
   "source": [
    "# discontinuous data requirement\n",
    "arr12[[2,3,5]]"
   ]
  },
  {
   "cell_type": "code",
   "execution_count": 597,
   "id": "db4d8b07-dc4f-4e21-adc2-f8437fcbdfdc",
   "metadata": {},
   "outputs": [
    {
     "data": {
      "text/plain": [
       "array([[ 0,  1,  2,  3],\n",
       "       [ 8,  9, 10, 11]])"
      ]
     },
     "execution_count": 597,
     "metadata": {},
     "output_type": "execute_result"
    }
   ],
   "source": [
    "arr12[[0,2]]"
   ]
  },
  {
   "cell_type": "code",
   "execution_count": 598,
   "id": "4acddc22-d98e-4ea7-aed7-a8f5f30831b8",
   "metadata": {},
   "outputs": [],
   "source": [
    "# indexing with boolean array (filtering)"
   ]
  },
  {
   "cell_type": "code",
   "execution_count": 599,
   "id": "101a55f2-31d3-43b4-aed4-8bcf521df740",
   "metadata": {},
   "outputs": [
    {
     "data": {
      "text/plain": [
       "array([[ 5, 15, 25, 14, 10],\n",
       "       [ 8, 17, 25,  5, 32],\n",
       "       [31, 20, 15, 17,  6],\n",
       "       [17, 14, 24, 29, 23]])"
      ]
     },
     "execution_count": 599,
     "metadata": {},
     "output_type": "execute_result"
    }
   ],
   "source": [
    "arr1 = np.random.randint(2,35,20).reshape(4,5)\n",
    "arr1"
   ]
  },
  {
   "cell_type": "code",
   "execution_count": 600,
   "id": "3a30db44-67e5-431c-ac2b-3b1164e63728",
   "metadata": {},
   "outputs": [
    {
     "data": {
      "text/plain": [
       "array([[False, False,  True, False, False],\n",
       "       [False, False,  True, False,  True],\n",
       "       [ True, False, False, False, False],\n",
       "       [False, False,  True,  True,  True]])"
      ]
     },
     "execution_count": 600,
     "metadata": {},
     "output_type": "execute_result"
    }
   ],
   "source": [
    "arr1>20"
   ]
  },
  {
   "cell_type": "code",
   "execution_count": 601,
   "id": "0238c8f1-bbbd-497b-876d-b4a5daa45ceb",
   "metadata": {},
   "outputs": [
    {
     "data": {
      "text/plain": [
       "array([25, 25, 32, 31, 24, 29, 23])"
      ]
     },
     "execution_count": 601,
     "metadata": {},
     "output_type": "execute_result"
    }
   ],
   "source": [
    "arr1[arr1>20]"
   ]
  },
  {
   "cell_type": "code",
   "execution_count": 602,
   "id": "c3461e44-ccc6-4eef-9263-3d4cb496ae7f",
   "metadata": {},
   "outputs": [],
   "source": [
    "arr1[(arr1>20) & (arr1%2!=0)]=0"
   ]
  },
  {
   "cell_type": "code",
   "execution_count": 603,
   "id": "1242d8b8-39c9-4dee-a918-56b5fe0c7e3a",
   "metadata": {},
   "outputs": [
    {
     "data": {
      "text/plain": [
       "array([[ 5, 15,  0, 14, 10],\n",
       "       [ 8, 17,  0,  5, 32],\n",
       "       [ 0, 20, 15, 17,  6],\n",
       "       [17, 14, 24,  0,  0]])"
      ]
     },
     "execution_count": 603,
     "metadata": {},
     "output_type": "execute_result"
    }
   ],
   "source": [
    "arr1"
   ]
  },
  {
   "cell_type": "code",
   "execution_count": 604,
   "id": "f8e0f3f5-6f32-4184-86a9-e13215e4fc56",
   "metadata": {},
   "outputs": [],
   "source": [
    "# condition where (arr1>20) & (arr1%2!=0) is true, all values are replaced by 0"
   ]
  },
  {
   "cell_type": "code",
   "execution_count": 605,
   "id": "b1548230-cdc5-4bff-b4c8-8e8900d7f5c6",
   "metadata": {},
   "outputs": [],
   "source": [
    "# plotting of graph"
   ]
  },
  {
   "cell_type": "code",
   "execution_count": 606,
   "id": "3dac2efa-29bc-4548-bbd5-c87d8b291eea",
   "metadata": {},
   "outputs": [],
   "source": [
    "import matplotlib.pyplot as plt\n"
   ]
  },
  {
   "cell_type": "code",
   "execution_count": 607,
   "id": "cb57fd0d-f602-4a3a-83be-371e8d89948e",
   "metadata": {},
   "outputs": [
    {
     "data": {
      "text/plain": [
       "array([-60.        , -58.78787879, -57.57575758, -56.36363636,\n",
       "       -55.15151515, -53.93939394, -52.72727273, -51.51515152,\n",
       "       -50.3030303 , -49.09090909, -47.87878788, -46.66666667,\n",
       "       -45.45454545, -44.24242424, -43.03030303, -41.81818182,\n",
       "       -40.60606061, -39.39393939, -38.18181818, -36.96969697,\n",
       "       -35.75757576, -34.54545455, -33.33333333, -32.12121212,\n",
       "       -30.90909091, -29.6969697 , -28.48484848, -27.27272727,\n",
       "       -26.06060606, -24.84848485, -23.63636364, -22.42424242,\n",
       "       -21.21212121, -20.        , -18.78787879, -17.57575758,\n",
       "       -16.36363636, -15.15151515, -13.93939394, -12.72727273,\n",
       "       -11.51515152, -10.3030303 ,  -9.09090909,  -7.87878788,\n",
       "        -6.66666667,  -5.45454545,  -4.24242424,  -3.03030303,\n",
       "        -1.81818182,  -0.60606061,   0.60606061,   1.81818182,\n",
       "         3.03030303,   4.24242424,   5.45454545,   6.66666667,\n",
       "         7.87878788,   9.09090909,  10.3030303 ,  11.51515152,\n",
       "        12.72727273,  13.93939394,  15.15151515,  16.36363636,\n",
       "        17.57575758,  18.78787879,  20.        ,  21.21212121,\n",
       "        22.42424242,  23.63636364,  24.84848485,  26.06060606,\n",
       "        27.27272727,  28.48484848,  29.6969697 ,  30.90909091,\n",
       "        32.12121212,  33.33333333,  34.54545455,  35.75757576,\n",
       "        36.96969697,  38.18181818,  39.39393939,  40.60606061,\n",
       "        41.81818182,  43.03030303,  44.24242424,  45.45454545,\n",
       "        46.66666667,  47.87878788,  49.09090909,  50.3030303 ,\n",
       "        51.51515152,  52.72727273,  53.93939394,  55.15151515,\n",
       "        56.36363636,  57.57575758,  58.78787879,  60.        ])"
      ]
     },
     "execution_count": 607,
     "metadata": {},
     "output_type": "execute_result"
    }
   ],
   "source": [
    "x = np.linspace(-60,60,100)\n",
    "x"
   ]
  },
  {
   "cell_type": "code",
   "execution_count": 608,
   "id": "54724439-bff7-4e41-9db6-abe04f84a7a7",
   "metadata": {},
   "outputs": [],
   "source": [
    "y = np.sin(x)"
   ]
  },
  {
   "cell_type": "code",
   "execution_count": 609,
   "id": "66c97e7a-5935-43a3-be2c-a39866d575fd",
   "metadata": {},
   "outputs": [
    {
     "data": {
      "text/plain": [
       "array([ 0.30481062, -0.78480513, -0.85579714,  0.1839774 ,  0.98496177,\n",
       "        0.50753268, -0.62863935, -0.94888021, -0.03753902,  0.92252527,\n",
       "        0.68521444, -0.44145818, -0.99514807, -0.25720337,  0.81457383,\n",
       "        0.82908954, -0.23249665, -0.99231798, -0.46417799,  0.6664335 ,\n",
       "        0.93205958, -0.01206435, -0.94052958, -0.64825131,  0.48541312,\n",
       "        0.98904429,  0.20896317, -0.84233795, -0.80034164,  0.28044375,\n",
       "        0.9972322 ,  0.41968101, -0.70258763, -0.91294525,  0.06163804,\n",
       "        0.95621934,  0.6096929 , -0.5281735 , -0.98050658, -0.16020873,\n",
       "        0.86802917,  0.76962418, -0.32770071, -0.99969234, -0.37415123,\n",
       "        0.73701276,  0.89158426, -0.11106004, -0.96955595, -0.56963411,\n",
       "        0.56963411,  0.96955595,  0.11106004, -0.89158426, -0.73701276,\n",
       "        0.37415123,  0.99969234,  0.32770071, -0.76962418, -0.86802917,\n",
       "        0.16020873,  0.98050658,  0.5281735 , -0.6096929 , -0.95621934,\n",
       "       -0.06163804,  0.91294525,  0.70258763, -0.41968101, -0.9972322 ,\n",
       "       -0.28044375,  0.80034164,  0.84233795, -0.20896317, -0.98904429,\n",
       "       -0.48541312,  0.64825131,  0.94052958,  0.01206435, -0.93205958,\n",
       "       -0.6664335 ,  0.46417799,  0.99231798,  0.23249665, -0.82908954,\n",
       "       -0.81457383,  0.25720337,  0.99514807,  0.44145818, -0.68521444,\n",
       "       -0.92252527,  0.03753902,  0.94888021,  0.62863935, -0.50753268,\n",
       "       -0.98496177, -0.1839774 ,  0.85579714,  0.78480513, -0.30481062])"
      ]
     },
     "execution_count": 609,
     "metadata": {},
     "output_type": "execute_result"
    }
   ],
   "source": [
    "y"
   ]
  },
  {
   "cell_type": "code",
   "execution_count": 610,
   "id": "f0187848-1e4f-4073-96de-caaa463f8dbc",
   "metadata": {},
   "outputs": [
    {
     "data": {
      "text/plain": [
       "[<matplotlib.lines.Line2D at 0x7fa54c1cf460>]"
      ]
     },
     "execution_count": 610,
     "metadata": {},
     "output_type": "execute_result"
    },
    {
     "data": {
      "image/png": "[encoded data removed]",
      "text/plain": [
       "<Figure size 640x480 with 1 Axes>"
      ]
     },
     "metadata": {},
     "output_type": "display_data"
    }
   ],
   "source": [
    "plt.plot(x,y)"
   ]
  },
  {
   "cell_type": "code",
   "execution_count": 611,
   "id": "9cc08324-22ba-4ca9-b40c-f6ce33cd30b5",
   "metadata": {},
   "outputs": [
    {
     "data": {
      "text/plain": [
       "array([3486.        , 3344.4389348 , 3205.81634527, 3070.1322314 ,\n",
       "       2937.3865932 , 2807.57943067, 2680.7107438 , 2556.7805326 ,\n",
       "       2435.78879706, 2317.73553719, 2202.62075298, 2090.44444444,\n",
       "       1981.20661157, 1874.90725436, 1771.54637282, 1671.12396694,\n",
       "       1573.64003673, 1479.09458219, 1387.48760331, 1298.81910009,\n",
       "       1213.08907254, 1130.29752066, 1050.44444444,  973.52984389,\n",
       "        899.55371901,  828.51606979,  760.41689624,  695.25619835,\n",
       "        633.03397612,  573.75022957,  517.40495868,  463.99816345,\n",
       "        413.52984389,  366.        ,  321.40863177,  279.75573921,\n",
       "        241.04132231,  205.26538108,  172.42791552,  142.52892562,\n",
       "        115.56841139,   91.54637282,   70.46280992,   52.31772268,\n",
       "         37.11111111,   24.84297521,   15.51331497,    9.12213039,\n",
       "          5.66942149,    5.15518825,    7.57943067,   12.94214876,\n",
       "         21.24334252,   32.48301194,   46.66115702,   63.77777778,\n",
       "         83.8328742 ,  106.82644628,  132.75849403,  161.62901745,\n",
       "        193.43801653,  228.18549128,  265.87144169,  306.49586777,\n",
       "        350.05876951,  396.56014692,  446.        ,  498.37832874,\n",
       "        553.69513315,  611.95041322,  673.14416896,  737.27640037,\n",
       "        804.34710744,  874.35629017,  947.30394858, 1023.19008264,\n",
       "       1102.01469238, 1183.77777778, 1268.47933884, 1356.11937557,\n",
       "       1446.69788797, 1540.21487603, 1636.67033976, 1736.06427916,\n",
       "       1838.39669421, 1943.66758494, 2051.87695133, 2163.02479339,\n",
       "       2277.11111111, 2394.1359045 , 2514.09917355, 2637.00091827,\n",
       "       2762.84113866, 2891.61983471, 3023.33700643, 3157.99265381,\n",
       "       3295.58677686, 3436.11937557, 3579.59044995, 3726.        ])"
      ]
     },
     "execution_count": 611,
     "metadata": {},
     "output_type": "execute_result"
    }
   ],
   "source": [
    "y = x*x + 2*x+6\n",
    "y"
   ]
  },
  {
   "cell_type": "code",
   "execution_count": 612,
   "id": "90649631-2580-4411-8d15-931f85f3ff0f",
   "metadata": {},
   "outputs": [
    {
     "data": {
      "text/plain": [
       "[<matplotlib.lines.Line2D at 0x7fa4ece3afb0>]"
      ]
     },
     "execution_count": 612,
     "metadata": {},
     "output_type": "execute_result"
    },
    {
     "data": {
      "image/png": "[encoded data removed]",
      "text/plain": [
       "<Figure size 640x480 with 1 Axes>"
      ]
     },
     "metadata": {},
     "output_type": "display_data"
    }
   ],
   "source": [
    "plt.plot(x,y)"
   ]
  },
  {
   "cell_type": "code",
   "execution_count": 613,
   "id": "77a301d9-6030-42d3-9b78-40991a40e1d5",
   "metadata": {},
   "outputs": [],
   "source": [
    "# broadcasting :addition of two different size arrays "
   ]
  },
  {
   "cell_type": "code",
   "execution_count": 614,
   "id": "e09583e0-fc24-4022-acf4-4864be9eb21f",
   "metadata": {},
   "outputs": [],
   "source": [
    "a = np.arange(6).reshape(1,6)\n",
    "b = np.arange(12).reshape(2,6)"
   ]
  },
  {
   "cell_type": "code",
   "execution_count": 615,
   "id": "2bad7f40-e052-4d26-b924-93db29740674",
   "metadata": {},
   "outputs": [
    {
     "data": {
      "text/plain": [
       "array([[ 0,  2,  4,  6,  8, 10],\n",
       "       [ 6,  8, 10, 12, 14, 16]])"
      ]
     },
     "execution_count": 615,
     "metadata": {},
     "output_type": "execute_result"
    }
   ],
   "source": [
    "a+b"
   ]
  },
  {
   "cell_type": "code",
   "execution_count": 616,
   "id": "97c69f6d-361b-4f2f-bcc5-8ef2f816db93",
   "metadata": {},
   "outputs": [],
   "source": [
    "b = np.arange(12).reshape(1,12)"
   ]
  },
  {
   "cell_type": "code",
   "execution_count": 617,
   "id": "9a87f13d-791a-4c40-b31c-6c38b4c61558",
   "metadata": {},
   "outputs": [
    {
     "ename": "ValueError",
     "evalue": "operands could not be broadcast together with shapes (1,6) (1,12) ",
     "output_type": "error",
     "traceback": [
      "\u001b[0;31m---------------------------------------------------------------------------\u001b[0m",
      "\u001b[0;31mValueError\u001b[0m                                Traceback (most recent call last)",
      "Cell \u001b[0;32mIn[617], line 1\u001b[0m\n\u001b[0;32m----> 1\u001b[0m \u001b[43ma\u001b[49m\u001b[38;5;241;43m+\u001b[39;49m\u001b[43mb\u001b[49m\n",
      "\u001b[0;31mValueError\u001b[0m: operands could not be broadcast together with shapes (1,6) (1,12) "
     ]
    }
   ],
   "source": [
    "a+b"
   ]
  },
  {
   "cell_type": "code",
   "execution_count": 618,
   "id": "a6b9688b-46f2-4337-b168-f425dd5c1640",
   "metadata": {},
   "outputs": [],
   "source": [
    "b = np.arange(12).reshape(1,12).transpose()"
   ]
  },
  {
   "cell_type": "code",
   "execution_count": 619,
   "id": "db1eae5f-4054-4815-9c59-25c35a331d10",
   "metadata": {},
   "outputs": [
    {
     "data": {
      "text/plain": [
       "array([[ 0,  1,  2,  3,  4,  5],\n",
       "       [ 1,  2,  3,  4,  5,  6],\n",
       "       [ 2,  3,  4,  5,  6,  7],\n",
       "       [ 3,  4,  5,  6,  7,  8],\n",
       "       [ 4,  5,  6,  7,  8,  9],\n",
       "       [ 5,  6,  7,  8,  9, 10],\n",
       "       [ 6,  7,  8,  9, 10, 11],\n",
       "       [ 7,  8,  9, 10, 11, 12],\n",
       "       [ 8,  9, 10, 11, 12, 13],\n",
       "       [ 9, 10, 11, 12, 13, 14],\n",
       "       [10, 11, 12, 13, 14, 15],\n",
       "       [11, 12, 13, 14, 15, 16]])"
      ]
     },
     "execution_count": 619,
     "metadata": {},
     "output_type": "execute_result"
    }
   ],
   "source": [
    "a+b"
   ]
  },
  {
   "cell_type": "code",
   "execution_count": 620,
   "id": "41e95d4d-a704-4532-96cf-c90a77c13da9",
   "metadata": {},
   "outputs": [],
   "source": [
    "x = np.linspace(10,100,50)\n",
    "y = np.sin(x)"
   ]
  },
  {
   "cell_type": "code",
   "execution_count": 621,
   "id": "bd4dabf3-1e61-40c1-a84b-9d4585c5eb0a",
   "metadata": {},
   "outputs": [
    {
     "data": {
      "text/plain": [
       "[<matplotlib.lines.Line2D at 0x7fa4ece93880>]"
      ]
     },
     "execution_count": 621,
     "metadata": {},
     "output_type": "execute_result"
    },
    {
     "data": {
      "image/png": "[encoded data removed]",
      "text/plain": [
       "<Figure size 640x480 with 1 Axes>"
      ]
     },
     "metadata": {},
     "output_type": "display_data"
    }
   ],
   "source": [
    "plt.plot(x,y)"
   ]
  },
  {
   "cell_type": "code",
   "execution_count": 622,
   "id": "7c553449-8b20-4e19-a49a-ace0d5bd170c",
   "metadata": {},
   "outputs": [],
   "source": [
    "import numpy as np"
   ]
  },
  {
   "cell_type": "code",
   "execution_count": 625,
   "id": "62779608-8daf-410d-adcc-ad0f4ad65c1e",
   "metadata": {},
   "outputs": [
    {
     "data": {
      "text/plain": [
       "array([9, 3, 8, 8, 2])"
      ]
     },
     "execution_count": 625,
     "metadata": {},
     "output_type": "execute_result"
    }
   ],
   "source": [
    "np.random.randint(1,10,5)"
   ]
  },
  {
   "cell_type": "code",
   "execution_count": 627,
   "id": "a3da5d96-ac68-400f-bef8-fe83c9bb7c17",
   "metadata": {},
   "outputs": [
    {
     "data": {
      "text/plain": [
       "0.03314181162529828"
      ]
     },
     "execution_count": 627,
     "metadata": {},
     "output_type": "execute_result"
    }
   ],
   "source": [
    "np.random.random()"
   ]
  },
  {
   "cell_type": "code",
   "execution_count": 630,
   "id": "84484be0-3463-435c-a8d7-a69debebc2e9",
   "metadata": {},
   "outputs": [
    {
     "data": {
      "text/plain": [
       "<function RandomState.random>"
      ]
     },
     "execution_count": 630,
     "metadata": {},
     "output_type": "execute_result"
    }
   ],
   "source": [
    "np.random.seed(1)\n",
    "a = np.random.random\n",
    "a"
   ]
  },
  {
   "cell_type": "code",
   "execution_count": 632,
   "id": "36db152a-2b8d-4a5a-a017-55f3742d607d",
   "metadata": {},
   "outputs": [
    {
     "data": {
      "text/plain": [
       "array([[42.50025693, 68.83673054, 21.24077272, 87.9336262 ,  3.71137173],\n",
       "       [67.37628351, 42.31317543, 56.31029302, 14.89830692, 20.61204742]])"
      ]
     },
     "execution_count": 632,
     "metadata": {},
     "output_type": "execute_result"
    }
   ],
   "source": [
    "np.random.uniform(1,100,10).reshape(2,5)"
   ]
  },
  {
   "cell_type": "code",
   "execution_count": null,
   "id": "e54a6ab8-2d85-430f-8d57-8c90053e0c00",
   "metadata": {},
   "outputs": [],
   "source": []
  }
 ],
 "metadata": {
  "kernelspec": {
   "display_name": "Python 3 (ipykernel)",
   "language": "python",
   "name": "python3"
  },
  "language_info": {
   "codemirror_mode": {
    "name": "ipython",
    "version": 3
   },
   "file_extension": ".py",
   "mimetype": "text/x-python",
   "name": "python",
   "nbconvert_exporter": "python",
   "pygments_lexer": "ipython3",
   "version": "3.10.8"
  }
 },
 "nbformat": 4,
 "nbformat_minor": 5
}
