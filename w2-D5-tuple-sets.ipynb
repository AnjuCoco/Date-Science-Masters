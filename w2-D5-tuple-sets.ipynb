{
 "cells": [
  {
   "cell_type": "code",
   "execution_count": 1,
   "id": "d0e2ea10-6fba-4e4d-9f9b-c7223b71f75c",
   "metadata": {},
   "outputs": [],
   "source": [
    "t1 = (1, 2, 3, 8, 10, 23.55, 2+5j, 'PW', 'Masters')"
   ]
  },
  {
   "cell_type": "code",
   "execution_count": 2,
   "id": "675c5e2d-12a7-43b3-8a64-82db56f724d9",
   "metadata": {},
   "outputs": [
    {
     "data": {
      "text/plain": [
       "(1, 2, 3, 8, 10, 23.55, (2+5j), 'PW', 'Masters')"
      ]
     },
     "execution_count": 2,
     "metadata": {},
     "output_type": "execute_result"
    }
   ],
   "source": [
    "t1"
   ]
  },
  {
   "cell_type": "code",
   "execution_count": 3,
   "id": "58fa1019-5a87-4a89-ba52-8d9f2391fdd0",
   "metadata": {},
   "outputs": [
    {
     "data": {
      "text/plain": [
       "('Masters', 'PW', (2+5j), 23.55, 10, 8, 3, 2, 1)"
      ]
     },
     "execution_count": 3,
     "metadata": {},
     "output_type": "execute_result"
    }
   ],
   "source": [
    "t1[::-1]"
   ]
  },
  {
   "cell_type": "code",
   "execution_count": 4,
   "id": "a11c6e56-fc69-4edf-95e2-379aff466de1",
   "metadata": {},
   "outputs": [],
   "source": [
    "t1 = t1[::-1]"
   ]
  },
  {
   "cell_type": "code",
   "execution_count": 5,
   "id": "142201ff-daea-4de4-bec5-2410a1fd70b5",
   "metadata": {},
   "outputs": [
    {
     "data": {
      "text/plain": [
       "('Masters', 'PW', (2+5j), 23.55, 10, 8, 3, 2, 1)"
      ]
     },
     "execution_count": 5,
     "metadata": {},
     "output_type": "execute_result"
    }
   ],
   "source": [
    "t1"
   ]
  },
  {
   "cell_type": "code",
   "execution_count": 6,
   "id": "afdb6c8e-f410-4e64-92da-2133e31c35ad",
   "metadata": {},
   "outputs": [
    {
     "data": {
      "text/plain": [
       "('Masters', 'PW', (2+5j))"
      ]
     },
     "execution_count": 6,
     "metadata": {},
     "output_type": "execute_result"
    }
   ],
   "source": [
    "t1[:3]"
   ]
  },
  {
   "cell_type": "code",
   "execution_count": 7,
   "id": "675f4a57-a184-47bd-8dda-b6855576c9b9",
   "metadata": {},
   "outputs": [
    {
     "data": {
      "text/plain": [
       "(1, 8, (2+5j))"
      ]
     },
     "execution_count": 7,
     "metadata": {},
     "output_type": "execute_result"
    }
   ],
   "source": [
    "# -3 is the step size i.e. - refers to reverse order, so starts with 1\n",
    "# after third step comes 8 and then 2+5j and so on\n",
    "t1[::-3]"
   ]
  },
  {
   "cell_type": "code",
   "execution_count": 8,
   "id": "844e1aa1-2eb1-46e9-8a66-5168901ff928",
   "metadata": {},
   "outputs": [
    {
     "data": {
      "text/plain": [
       "(1, 3, 10, (2+5j), 'Masters')"
      ]
     },
     "execution_count": 8,
     "metadata": {},
     "output_type": "execute_result"
    }
   ],
   "source": [
    "t1[::-2]"
   ]
  },
  {
   "cell_type": "code",
   "execution_count": 13,
   "id": "3fdc8e04-67e4-46c5-a6f2-ba5003157f63",
   "metadata": {},
   "outputs": [
    {
     "data": {
      "text/plain": [
       "((2+5j), 23.55, 10, 8, 3, 2, 1)"
      ]
     },
     "execution_count": 13,
     "metadata": {},
     "output_type": "execute_result"
    }
   ],
   "source": [
    "# this slices first two elements or first and 2nd index elemnets from tuple\n",
    "t1[2::]"
   ]
  },
  {
   "cell_type": "code",
   "execution_count": 14,
   "id": "c5fb7bc9-599b-4d54-9cd1-b16b19bffcc3",
   "metadata": {},
   "outputs": [
    {
     "data": {
      "text/plain": [
       "((2+5j), 23.55, 10, 8, 3)"
      ]
     },
     "execution_count": 14,
     "metadata": {},
     "output_type": "execute_result"
    }
   ],
   "source": [
    "# selection of elements from the mid\n",
    "t1[2:7]"
   ]
  },
  {
   "cell_type": "code",
   "execution_count": 12,
   "id": "2029c381-6881-4aa3-a1c0-ee1d7bea3934",
   "metadata": {},
   "outputs": [
    {
     "data": {
      "text/plain": [
       "('Masters', 'PW', (2+5j), 23.55)"
      ]
     },
     "execution_count": 12,
     "metadata": {},
     "output_type": "execute_result"
    }
   ],
   "source": [
    "t1[:4:]"
   ]
  },
  {
   "cell_type": "code",
   "execution_count": 17,
   "id": "edbc4d67-5674-4231-901e-ae955aad7d0b",
   "metadata": {},
   "outputs": [
    {
     "data": {
      "text/plain": [
       "1"
      ]
     },
     "execution_count": 17,
     "metadata": {},
     "output_type": "execute_result"
    }
   ],
   "source": [
    "t1.count(10)"
   ]
  },
  {
   "cell_type": "code",
   "execution_count": 18,
   "id": "57b01a48-3166-433d-bc4c-cdfe99d8ab04",
   "metadata": {},
   "outputs": [
    {
     "data": {
      "text/plain": [
       "4"
      ]
     },
     "execution_count": 18,
     "metadata": {},
     "output_type": "execute_result"
    }
   ],
   "source": [
    "t1.index(10)"
   ]
  },
  {
   "cell_type": "code",
   "execution_count": 19,
   "id": "9614814a-d00e-4f46-bfdb-8399ac741a3f",
   "metadata": {},
   "outputs": [
    {
     "data": {
      "text/plain": [
       "8"
      ]
     },
     "execution_count": 19,
     "metadata": {},
     "output_type": "execute_result"
    }
   ],
   "source": [
    "t1.index(1)"
   ]
  },
  {
   "cell_type": "code",
   "execution_count": 20,
   "id": "0355f88b-a562-4e30-9664-c04c7fd34552",
   "metadata": {},
   "outputs": [
    {
     "data": {
      "text/plain": [
       "('Masters', 'PW', (2+5j), 23.55, 10, 8, 3, 2, 1)"
      ]
     },
     "execution_count": 20,
     "metadata": {},
     "output_type": "execute_result"
    }
   ],
   "source": [
    "t1"
   ]
  },
  {
   "cell_type": "code",
   "execution_count": 21,
   "id": "ef89e986-b833-489a-b530-2aafdcd6dd04",
   "metadata": {},
   "outputs": [],
   "source": [
    "t2 = (9, 77, 56, 100, 12)"
   ]
  },
  {
   "cell_type": "code",
   "execution_count": 25,
   "id": "852cd58a-03bf-4868-947a-de15e4bfb478",
   "metadata": {},
   "outputs": [
    {
     "data": {
      "text/plain": [
       "100"
      ]
     },
     "execution_count": 25,
     "metadata": {},
     "output_type": "execute_result"
    }
   ],
   "source": [
    "max(t2)"
   ]
  },
  {
   "cell_type": "code",
   "execution_count": 26,
   "id": "ffe380ea-5596-4431-ba5d-4d6ca79284ff",
   "metadata": {},
   "outputs": [],
   "source": [
    "t1 = (23.55, 10, 8, 3, 2, 1)"
   ]
  },
  {
   "cell_type": "code",
   "execution_count": 27,
   "id": "8ddce4a7-723f-4834-8784-bdacdb63629c",
   "metadata": {},
   "outputs": [
    {
     "data": {
      "text/plain": [
       "23.55"
      ]
     },
     "execution_count": 27,
     "metadata": {},
     "output_type": "execute_result"
    }
   ],
   "source": [
    "max(t1)"
   ]
  },
  {
   "cell_type": "code",
   "execution_count": 28,
   "id": "7c04f094-7c02-4adf-b337-273d44fcd18f",
   "metadata": {},
   "outputs": [
    {
     "data": {
      "text/plain": [
       "9"
      ]
     },
     "execution_count": 28,
     "metadata": {},
     "output_type": "execute_result"
    }
   ],
   "source": [
    "min(t2)"
   ]
  },
  {
   "cell_type": "code",
   "execution_count": 29,
   "id": "46da5643-79cf-4ade-99b3-de017c7144d8",
   "metadata": {},
   "outputs": [
    {
     "data": {
      "text/plain": [
       "1"
      ]
     },
     "execution_count": 29,
     "metadata": {},
     "output_type": "execute_result"
    }
   ],
   "source": [
    "min(t1)"
   ]
  },
  {
   "cell_type": "code",
   "execution_count": 30,
   "id": "0570a468-41ad-4e40-b65e-280e8b60032c",
   "metadata": {},
   "outputs": [],
   "source": [
    "t3 = (t1, t2)"
   ]
  },
  {
   "cell_type": "code",
   "execution_count": 31,
   "id": "48827f10-43fc-49e1-836c-0e5dea8ffb22",
   "metadata": {},
   "outputs": [
    {
     "data": {
      "text/plain": [
       "((23.55, 10, 8, 3, 2, 1), (9, 77, 56, 100, 12))"
      ]
     },
     "execution_count": 31,
     "metadata": {},
     "output_type": "execute_result"
    }
   ],
   "source": [
    "t3"
   ]
  },
  {
   "cell_type": "code",
   "execution_count": 35,
   "id": "11f81c0a-c1c6-49b4-baa0-d5866d306368",
   "metadata": {},
   "outputs": [
    {
     "data": {
      "text/plain": [
       "False"
      ]
     },
     "execution_count": 35,
     "metadata": {},
     "output_type": "execute_result"
    }
   ],
   "source": [
    "100 in t3"
   ]
  },
  {
   "cell_type": "code",
   "execution_count": 36,
   "id": "33eae2e1-5676-4476-af1c-2b9073bfd3da",
   "metadata": {},
   "outputs": [
    {
     "data": {
      "text/plain": [
       "True"
      ]
     },
     "execution_count": 36,
     "metadata": {},
     "output_type": "execute_result"
    }
   ],
   "source": [
    "23.55 in t1"
   ]
  },
  {
   "cell_type": "code",
   "execution_count": 37,
   "id": "e3a53103-24e2-4d3a-9c90-abb42834a925",
   "metadata": {},
   "outputs": [
    {
     "data": {
      "text/plain": [
       "False"
      ]
     },
     "execution_count": 37,
     "metadata": {},
     "output_type": "execute_result"
    }
   ],
   "source": [
    "# output is false, why??\n",
    "77 in t3"
   ]
  },
  {
   "cell_type": "code",
   "execution_count": 1,
   "id": "60c5f026-30a1-48eb-8d6a-53afaee5c3fc",
   "metadata": {},
   "outputs": [],
   "source": [
    "s1 = {1,3,5,9,0,5,3,2,2,2,6,100}"
   ]
  },
  {
   "cell_type": "code",
   "execution_count": 4,
   "id": "1e12f06a-33d8-451b-b917-51ff2286da6c",
   "metadata": {},
   "outputs": [
    {
     "data": {
      "text/plain": [
       "{0, 1, 2, 3, 5, 6, 9, 100}"
      ]
     },
     "execution_count": 4,
     "metadata": {},
     "output_type": "execute_result"
    }
   ],
   "source": [
    "# sets for storing the information and collects only unique information from the given values\n",
    "s1"
   ]
  },
  {
   "cell_type": "code",
   "execution_count": 5,
   "id": "f967fbe0-da4b-44d0-93a8-f9ec24b03371",
   "metadata": {},
   "outputs": [
    {
     "ename": "TypeError",
     "evalue": "'set' object is not subscriptable",
     "output_type": "error",
     "traceback": [
      "\u001b[0;31m---------------------------------------------------------------------------\u001b[0m",
      "\u001b[0;31mTypeError\u001b[0m                                 Traceback (most recent call last)",
      "Cell \u001b[0;32mIn[5], line 2\u001b[0m\n\u001b[1;32m      1\u001b[0m \u001b[38;5;66;03m# sets dont have indices and hence any operation with index can't be carried out with sets\u001b[39;00m\n\u001b[0;32m----> 2\u001b[0m \u001b[43ms1\u001b[49m\u001b[43m[\u001b[49m\u001b[38;5;241;43m0\u001b[39;49m\u001b[43m]\u001b[49m\n",
      "\u001b[0;31mTypeError\u001b[0m: 'set' object is not subscriptable"
     ]
    }
   ],
   "source": [
    "# sets dont have indices and hence any operation with index can't be carried out with sets\n",
    "s1[0]"
   ]
  },
  {
   "cell_type": "code",
   "execution_count": 6,
   "id": "c6024c70-e32d-409f-9d64-cc64ebca1e8b",
   "metadata": {},
   "outputs": [
    {
     "ename": "TypeError",
     "evalue": "'set' object is not subscriptable",
     "output_type": "error",
     "traceback": [
      "\u001b[0;31m---------------------------------------------------------------------------\u001b[0m",
      "\u001b[0;31mTypeError\u001b[0m                                 Traceback (most recent call last)",
      "Cell \u001b[0;32mIn[6], line 4\u001b[0m\n\u001b[1;32m      1\u001b[0m \u001b[38;5;66;03m# no slicing\u001b[39;00m\n\u001b[1;32m      2\u001b[0m \u001b[38;5;66;03m# no fetching with index\u001b[39;00m\n\u001b[1;32m      3\u001b[0m \u001b[38;5;66;03m# no reversing\u001b[39;00m\n\u001b[0;32m----> 4\u001b[0m \u001b[43ms1\u001b[49m\u001b[43m[\u001b[49m\u001b[43m:\u001b[49m\u001b[43m:\u001b[49m\u001b[38;5;241;43m-\u001b[39;49m\u001b[38;5;241;43m1\u001b[39;49m\u001b[43m]\u001b[49m\n",
      "\u001b[0;31mTypeError\u001b[0m: 'set' object is not subscriptable"
     ]
    }
   ],
   "source": [
    "# no slicing\n",
    "# no fetching with index\n",
    "# no reversing\n",
    "s1[::-1]"
   ]
  },
  {
   "cell_type": "code",
   "execution_count": 8,
   "id": "c998ce6e-5d66-4954-90fb-ba426621715a",
   "metadata": {},
   "outputs": [
    {
     "name": "stdout",
     "output_type": "stream",
     "text": [
      "0\n",
      "1\n",
      "2\n",
      "3\n",
      "100\n",
      "5\n",
      "6\n",
      "9\n"
     ]
    }
   ],
   "source": [
    "# one can fetch the details using for or while loops\n",
    "for i in s1:\n",
    "    print(i)\n",
    "# observation: there is no logic for the output sequence :("
   ]
  },
  {
   "cell_type": "code",
   "execution_count": 9,
   "id": "9369336b-8550-4805-bc63-03d81bdbc298",
   "metadata": {},
   "outputs": [],
   "source": [
    "s1.add(35)"
   ]
  },
  {
   "cell_type": "code",
   "execution_count": 10,
   "id": "6a188f4a-31f0-4527-9960-2e2d71c1d522",
   "metadata": {},
   "outputs": [
    {
     "data": {
      "text/plain": [
       "{0, 1, 2, 3, 5, 6, 9, 35, 100}"
      ]
     },
     "execution_count": 10,
     "metadata": {},
     "output_type": "execute_result"
    }
   ],
   "source": [
    "s1"
   ]
  },
  {
   "cell_type": "code",
   "execution_count": 14,
   "id": "284117c3-2e66-46d5-b281-fe43e2b670d9",
   "metadata": {},
   "outputs": [],
   "source": [
    "# clear function deletes the entire set\n",
    "s1.clear()"
   ]
  },
  {
   "cell_type": "code",
   "execution_count": 13,
   "id": "ef5c1c46-8bc2-414f-9c02-74a84a84c230",
   "metadata": {},
   "outputs": [
    {
     "data": {
      "text/plain": [
       "set()"
      ]
     },
     "execution_count": 13,
     "metadata": {},
     "output_type": "execute_result"
    }
   ],
   "source": [
    "s1"
   ]
  },
  {
   "cell_type": "code",
   "execution_count": 15,
   "id": "532311f0-a10b-4661-8031-c18470af589b",
   "metadata": {},
   "outputs": [
    {
     "data": {
      "text/plain": [
       "set()"
      ]
     },
     "execution_count": 15,
     "metadata": {},
     "output_type": "execute_result"
    }
   ],
   "source": [
    "s1"
   ]
  },
  {
   "cell_type": "code",
   "execution_count": 16,
   "id": "d22bb887-e71d-4604-8d73-b45f6c999a36",
   "metadata": {},
   "outputs": [],
   "source": [
    "s1 = {1,3,5,9,0,5,3,2,2,2,6,100}"
   ]
  },
  {
   "cell_type": "code",
   "execution_count": 18,
   "id": "15b08b56-ec35-49a4-ab33-c059f3885e2f",
   "metadata": {},
   "outputs": [
    {
     "data": {
      "text/plain": [
       "0"
      ]
     },
     "execution_count": 18,
     "metadata": {},
     "output_type": "execute_result"
    }
   ],
   "source": [
    "s1.pop()"
   ]
  },
  {
   "cell_type": "code",
   "execution_count": 19,
   "id": "eae41ad9-053b-4cd0-97e6-ca8f41c19ffa",
   "metadata": {},
   "outputs": [
    {
     "data": {
      "text/plain": [
       "{1, 2, 3, 5, 6, 9, 100}"
      ]
     },
     "execution_count": 19,
     "metadata": {},
     "output_type": "execute_result"
    }
   ],
   "source": [
    "s1"
   ]
  },
  {
   "cell_type": "code",
   "execution_count": 22,
   "id": "d149c33c-9b62-438c-8a40-14ad3560f7b9",
   "metadata": {},
   "outputs": [
    {
     "data": {
      "text/plain": [
       "2"
      ]
     },
     "execution_count": 22,
     "metadata": {},
     "output_type": "execute_result"
    }
   ],
   "source": [
    "# pop function removes the first lowest element in the set and then it follows the order\n",
    "s1.pop()"
   ]
  },
  {
   "cell_type": "code",
   "execution_count": 21,
   "id": "22cc25e4-b388-48f5-9bd4-4e4df8bcb212",
   "metadata": {},
   "outputs": [
    {
     "data": {
      "text/plain": [
       "{2, 3, 5, 6, 9, 100}"
      ]
     },
     "execution_count": 21,
     "metadata": {},
     "output_type": "execute_result"
    }
   ],
   "source": [
    "s1"
   ]
  },
  {
   "cell_type": "code",
   "execution_count": 23,
   "id": "12d75841-b499-4b58-abe2-fd7148191521",
   "metadata": {},
   "outputs": [],
   "source": [
    "s2 = {2, 3, 5, 6, 9, 101}"
   ]
  },
  {
   "cell_type": "code",
   "execution_count": 24,
   "id": "faf127b3-434c-4c4f-bf9b-34a73851d311",
   "metadata": {},
   "outputs": [
    {
     "data": {
      "text/plain": [
       "{2, 101}"
      ]
     },
     "execution_count": 24,
     "metadata": {},
     "output_type": "execute_result"
    }
   ],
   "source": [
    "s2.difference(s1)"
   ]
  },
  {
   "cell_type": "code",
   "execution_count": 25,
   "id": "7f792ed0-0756-4243-8b23-6e6fc44aa34c",
   "metadata": {},
   "outputs": [
    {
     "data": {
      "text/plain": [
       "{100}"
      ]
     },
     "execution_count": 25,
     "metadata": {},
     "output_type": "execute_result"
    }
   ],
   "source": [
    "s1.difference(s2)"
   ]
  },
  {
   "cell_type": "code",
   "execution_count": 32,
   "id": "a353d1bb-05ca-4755-a2d3-5216a8b8da57",
   "metadata": {},
   "outputs": [],
   "source": [
    "s3 = s1.copy()"
   ]
  },
  {
   "cell_type": "code",
   "execution_count": 33,
   "id": "b449f07f-be0d-4b05-8eb0-584061685eb0",
   "metadata": {},
   "outputs": [
    {
     "data": {
      "text/plain": [
       "{3, 5, 6, 9, 100}"
      ]
     },
     "execution_count": 33,
     "metadata": {},
     "output_type": "execute_result"
    }
   ],
   "source": [
    "s3"
   ]
  },
  {
   "cell_type": "code",
   "execution_count": 35,
   "id": "753bb420-0cc3-4e82-bd0b-3d05f41363d7",
   "metadata": {},
   "outputs": [],
   "source": [
    "s3.discard(100)"
   ]
  },
  {
   "cell_type": "code",
   "execution_count": 36,
   "id": "6acd0c10-48aa-4844-894c-4d0e25902ddb",
   "metadata": {},
   "outputs": [
    {
     "data": {
      "text/plain": [
       "{3, 5, 6, 9}"
      ]
     },
     "execution_count": 36,
     "metadata": {},
     "output_type": "execute_result"
    }
   ],
   "source": [
    "s3"
   ]
  },
  {
   "cell_type": "code",
   "execution_count": 37,
   "id": "d70d46e5-45e7-4189-83df-59b5d428d771",
   "metadata": {},
   "outputs": [
    {
     "data": {
      "text/plain": [
       "{3, 5, 6, 9}"
      ]
     },
     "execution_count": 37,
     "metadata": {},
     "output_type": "execute_result"
    }
   ],
   "source": [
    "s3.intersection(s1)"
   ]
  },
  {
   "cell_type": "code",
   "execution_count": 42,
   "id": "513f49d0-fd9d-417d-bd5a-b3e5894f27a6",
   "metadata": {},
   "outputs": [],
   "source": [
    "# remove function and discard function does the same thing.\n",
    "# remove function gives an error if the element is not present in a set\n"
   ]
  },
  {
   "cell_type": "code",
   "execution_count": 45,
   "id": "dafa6333-90da-41f0-b50e-834ce95933a6",
   "metadata": {},
   "outputs": [],
   "source": [
    "s3.remove(3)"
   ]
  },
  {
   "cell_type": "code",
   "execution_count": 46,
   "id": "dcb91445-5903-45c7-8a07-91f97d57eba6",
   "metadata": {},
   "outputs": [
    {
     "data": {
      "text/plain": [
       "{5, 9}"
      ]
     },
     "execution_count": 46,
     "metadata": {},
     "output_type": "execute_result"
    }
   ],
   "source": [
    "s3"
   ]
  },
  {
   "cell_type": "code",
   "execution_count": null,
   "id": "5f2fc034-3d03-41ce-9d8b-5436bf3bdfc7",
   "metadata": {},
   "outputs": [],
   "source": []
  }
 ],
 "metadata": {
  "kernelspec": {
   "display_name": "Python 3 (ipykernel)",
   "language": "python",
   "name": "python3"
  },
  "language_info": {
   "codemirror_mode": {
    "name": "ipython",
    "version": 3
   },
   "file_extension": ".py",
   "mimetype": "text/x-python",
   "name": "python",
   "nbconvert_exporter": "python",
   "pygments_lexer": "ipython3",
   "version": "3.10.8"
  }
 },
 "nbformat": 4,
 "nbformat_minor": 5
}
