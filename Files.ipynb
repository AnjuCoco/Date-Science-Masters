{
 "cells": [
  {
   "cell_type": "code",
   "execution_count": 3,
   "id": "ef8eb92d-d6b8-4b6d-a969-15368dffa67c",
   "metadata": {},
   "outputs": [],
   "source": [
    "f = open(\"test.txt\", 'w')"
   ]
  },
  {
   "cell_type": "code",
   "execution_count": 2,
   "id": "8cc562f6-14aa-4f60-aa89-c216c6c72029",
   "metadata": {},
   "outputs": [
    {
     "data": {
      "text/plain": [
       "'/home/jovyan/work'"
      ]
     },
     "execution_count": 2,
     "metadata": {},
     "output_type": "execute_result"
    }
   ],
   "source": [
    "pwd"
   ]
  },
  {
   "cell_type": "code",
   "execution_count": 3,
   "id": "1bd5c35d-2fb5-4b9c-8570-3033782bed6c",
   "metadata": {},
   "outputs": [
    {
     "name": "stdout",
     "output_type": "stream",
     "text": [
      " 09May_AssQ.ipynb\n",
      "'15May_AssQA with PW Skill.ipynb'\n",
      "'Ass_functions in Python.ipynb'\n",
      " Ass_functions.ipynb\n",
      " Assignment_Prime.ipynb\n",
      " Ass_Krish_Patterns.ipynb\n",
      " Ass_Python_Functions.ipynb\n",
      " class_static_method.ipynb\n",
      " D2K_Control_Flow.ipynb\n",
      "'D2K_ Python Condition and Loops .ipynb'\n",
      "'D2_Krish_ Python Condition and Loops .ipynb'\n",
      "'D4K_Strings List.ipynb'\n",
      " Day_2_Krish_Control_Flow.ipynb\n",
      " Encapsulation.ipynb\n",
      " Files.ipynb\n",
      " Oops_Python_assignment.ipynb\n",
      " OOPs_Task_assignment.ipynb\n",
      " README.md\n",
      " sample-code.ipynb\n",
      " test.ipynb\n",
      " test.txt\n",
      " w1.ipynb\n",
      "'w1-Python basics.ipynb'\n",
      "'w1-Python basics_practice.ipynb'\n",
      "'w2-D1_Python basics.ipynb'\n",
      " w2-D2.ipynb\n",
      " w2-D3-strings_operators.ipynb\n",
      "'w2-D4-strings list.ipynb'\n",
      " w2-D5-tuple-sets.ipynb\n",
      " w2-D6-dictionary.ipynb\n",
      " w2-warmup.ipynb\n",
      " w3-D1-Fns.ipynb\n",
      " w3-functions.ipynb\n",
      " w4_class_objects.ipynb\n"
     ]
    }
   ],
   "source": [
    "ls"
   ]
  },
  {
   "cell_type": "code",
   "execution_count": 18,
   "id": "f50ac060-c5b9-4478-9ed4-7b3ed93a4ca9",
   "metadata": {},
   "outputs": [
    {
     "ename": "ValueError",
     "evalue": "I/O operation on closed file.",
     "output_type": "error",
     "traceback": [
      "\u001b[0;31m---------------------------------------------------------------------------\u001b[0m",
      "\u001b[0;31mValueError\u001b[0m                                Traceback (most recent call last)",
      "Cell \u001b[0;32mIn[18], line 1\u001b[0m\n\u001b[0;32m----> 1\u001b[0m \u001b[43mf\u001b[49m\u001b[38;5;241;43m.\u001b[39;49m\u001b[43mwrite\u001b[49m\u001b[43m(\u001b[49m\u001b[38;5;124;43m\"\u001b[39;49m\u001b[38;5;124;43mThis is my first write operation in the file\u001b[39;49m\u001b[38;5;124;43m\"\u001b[39;49m\u001b[43m)\u001b[49m\n",
      "\u001b[0;31mValueError\u001b[0m: I/O operation on closed file."
     ]
    }
   ],
   "source": [
    "f.write(\"This is my first write operation in the file\")"
   ]
  },
  {
   "cell_type": "code",
   "execution_count": 5,
   "id": "f8c30da5-5c1f-49c7-8f96-a1616c0ec4fb",
   "metadata": {},
   "outputs": [],
   "source": [
    "f.close()"
   ]
  },
  {
   "cell_type": "code",
   "execution_count": 20,
   "id": "56eeed83-462e-4af5-be87-4a1d52e7b13d",
   "metadata": {},
   "outputs": [],
   "source": [
    "f = open(\"test.txt\", \"r\")"
   ]
  },
  {
   "cell_type": "code",
   "execution_count": 24,
   "id": "62bb4d18-fe32-45ca-82fe-c07ac766ff66",
   "metadata": {},
   "outputs": [
    {
     "data": {
      "text/plain": [
       "''"
      ]
     },
     "execution_count": 24,
     "metadata": {},
     "output_type": "execute_result"
    }
   ],
   "source": [
    "f.read()"
   ]
  },
  {
   "cell_type": "code",
   "execution_count": 25,
   "id": "832863ff-a731-46c3-8ccd-fb4913423edf",
   "metadata": {},
   "outputs": [
    {
     "data": {
      "text/plain": [
       "0"
      ]
     },
     "execution_count": 25,
     "metadata": {},
     "output_type": "execute_result"
    }
   ],
   "source": [
    "f.seek(0)"
   ]
  },
  {
   "cell_type": "code",
   "execution_count": 26,
   "id": "36bed04e-29ad-45b0-ad84-ee6ae172b8ce",
   "metadata": {},
   "outputs": [
    {
     "data": {
      "text/plain": [
       "''"
      ]
     },
     "execution_count": 26,
     "metadata": {},
     "output_type": "execute_result"
    }
   ],
   "source": [
    "f.read()"
   ]
  },
  {
   "cell_type": "code",
   "execution_count": 27,
   "id": "00d6c0e3-8231-407e-9995-3d9f319bbd58",
   "metadata": {},
   "outputs": [],
   "source": [
    "f1 = open(\"test2.txt\", \"w\")"
   ]
  },
  {
   "cell_type": "code",
   "execution_count": 28,
   "id": "f548cdb3-32cd-443d-9937-3b3dc08e570e",
   "metadata": {},
   "outputs": [
    {
     "data": {
      "text/plain": [
       "96"
      ]
     },
     "execution_count": 28,
     "metadata": {},
     "output_type": "execute_result"
    }
   ],
   "source": [
    "f1.write(\"Whether you're new to programming or an experienced developer, it's easy to learn and use Python\")"
   ]
  },
  {
   "cell_type": "code",
   "execution_count": 29,
   "id": "df6abb2b-e377-4966-b5d5-82b6a3ff5f1e",
   "metadata": {},
   "outputs": [],
   "source": [
    "f1.close()"
   ]
  },
  {
   "cell_type": "code",
   "execution_count": 33,
   "id": "72f89218-5127-4fb9-ab0f-07f645a931a0",
   "metadata": {},
   "outputs": [],
   "source": [
    "f1 = open(\"test2.txt\", \"r\")"
   ]
  },
  {
   "cell_type": "code",
   "execution_count": 34,
   "id": "53ee3e70-a894-4688-9f20-d9a28c20b51a",
   "metadata": {},
   "outputs": [
    {
     "data": {
      "text/plain": [
       "\"Whether you're new to programming or an experienced developer, it's easy to learn and use Python\""
      ]
     },
     "execution_count": 34,
     "metadata": {},
     "output_type": "execute_result"
    }
   ],
   "source": [
    "f1.read()"
   ]
  },
  {
   "cell_type": "code",
   "execution_count": 35,
   "id": "084d8ae6-c51d-43c1-8ecc-6bde541e4036",
   "metadata": {},
   "outputs": [
    {
     "data": {
      "text/plain": [
       "''"
      ]
     },
     "execution_count": 35,
     "metadata": {},
     "output_type": "execute_result"
    }
   ],
   "source": [
    "f1.read()"
   ]
  },
  {
   "cell_type": "code",
   "execution_count": 36,
   "id": "0d63b669-c165-4086-8aa1-5f88d1b05d36",
   "metadata": {},
   "outputs": [
    {
     "data": {
      "text/plain": [
       "0"
      ]
     },
     "execution_count": 36,
     "metadata": {},
     "output_type": "execute_result"
    }
   ],
   "source": [
    "f1.seek(0)"
   ]
  },
  {
   "cell_type": "code",
   "execution_count": 37,
   "id": "95645dc2-1bf1-4e70-8b82-10f6395426f9",
   "metadata": {},
   "outputs": [
    {
     "data": {
      "text/plain": [
       "\"Whether you're new to programming or an experienced developer, it's easy to learn and use Python\""
      ]
     },
     "execution_count": 37,
     "metadata": {},
     "output_type": "execute_result"
    }
   ],
   "source": [
    "f1.read()"
   ]
  },
  {
   "cell_type": "code",
   "execution_count": 38,
   "id": "9f8d855b-b903-466c-9840-ad48d7730f1a",
   "metadata": {},
   "outputs": [],
   "source": [
    "f1.close()"
   ]
  },
  {
   "cell_type": "code",
   "execution_count": 39,
   "id": "11f8ba57-3d8d-4542-92a7-45098f376e46",
   "metadata": {},
   "outputs": [],
   "source": [
    "f1 = open(\"test2.txt\", \"a\")"
   ]
  },
  {
   "cell_type": "code",
   "execution_count": 40,
   "id": "054916d0-a714-43f9-b7fe-e7e05c235b8f",
   "metadata": {},
   "outputs": [
    {
     "data": {
      "text/plain": [
       "78"
      ]
     },
     "execution_count": 40,
     "metadata": {},
     "output_type": "execute_result"
    }
   ],
   "source": [
    "f1.write(\"Python source code and installers are available for download for all versions!\")"
   ]
  },
  {
   "cell_type": "code",
   "execution_count": 41,
   "id": "3194a899-2440-4ef3-bbab-b5719d5ef2d1",
   "metadata": {},
   "outputs": [],
   "source": [
    "f1.close()"
   ]
  },
  {
   "cell_type": "code",
   "execution_count": 42,
   "id": "7b561e9e-3090-4199-83fb-544db8258b38",
   "metadata": {},
   "outputs": [],
   "source": [
    "f1 = open(\"test2.txt\", \"r\")"
   ]
  },
  {
   "cell_type": "code",
   "execution_count": 43,
   "id": "3d665729-f65e-48b6-8169-b67aa60ec794",
   "metadata": {},
   "outputs": [
    {
     "data": {
      "text/plain": [
       "\"Whether you're new to programming or an experienced developer, it's easy to learn and use PythonPython source code and installers are available for download for all versions!\""
      ]
     },
     "execution_count": 43,
     "metadata": {},
     "output_type": "execute_result"
    }
   ],
   "source": [
    "f1.read()"
   ]
  },
  {
   "cell_type": "code",
   "execution_count": 44,
   "id": "f57cb63d-ed81-4df2-81d7-75c353a0bd8c",
   "metadata": {},
   "outputs": [
    {
     "data": {
      "text/plain": [
       "''"
      ]
     },
     "execution_count": 44,
     "metadata": {},
     "output_type": "execute_result"
    }
   ],
   "source": [
    "f1. read()"
   ]
  },
  {
   "cell_type": "code",
   "execution_count": 45,
   "id": "b50f5c57-04f4-4dd0-b5a0-5adcaf35cf0b",
   "metadata": {},
   "outputs": [
    {
     "data": {
      "text/plain": [
       "50"
      ]
     },
     "execution_count": 45,
     "metadata": {},
     "output_type": "execute_result"
    }
   ],
   "source": [
    "f1.seek(50)"
   ]
  },
  {
   "cell_type": "code",
   "execution_count": 46,
   "id": "c70a02aa-07a8-4efc-90b3-ac5993884b8c",
   "metadata": {},
   "outputs": [
    {
     "data": {
      "text/plain": [
       "\"d developer, it's easy to learn and use PythonPython source code and installers are available for download for all versions!\""
      ]
     },
     "execution_count": 46,
     "metadata": {},
     "output_type": "execute_result"
    }
   ],
   "source": [
    "f1.read()"
   ]
  },
  {
   "cell_type": "code",
   "execution_count": 47,
   "id": "fc6e40f9-06c7-4a01-bd2f-79625503a7be",
   "metadata": {},
   "outputs": [],
   "source": [
    "import os"
   ]
  },
  {
   "cell_type": "code",
   "execution_count": 48,
   "id": "9915ce11-7fc7-4f00-99bf-ae265394d079",
   "metadata": {},
   "outputs": [
    {
     "data": {
      "text/plain": [
       "174"
      ]
     },
     "execution_count": 48,
     "metadata": {},
     "output_type": "execute_result"
    }
   ],
   "source": [
    "os.path.getsize(\"test2.txt\")"
   ]
  },
  {
   "cell_type": "code",
   "execution_count": 49,
   "id": "5c7992fd-8d70-47c9-b576-d12ff436c08c",
   "metadata": {},
   "outputs": [
    {
     "data": {
      "text/plain": [
       "'test1.txt'"
      ]
     },
     "execution_count": 49,
     "metadata": {},
     "output_type": "execute_result"
    }
   ],
   "source": [
    "# to copy the file\n",
    "import shutil\n",
    "shutil.copy(\"test2.txt\", \"test1.txt\")"
   ]
  },
  {
   "cell_type": "code",
   "execution_count": 50,
   "id": "cf3660a9-2ee8-40eb-b19b-1968af53b775",
   "metadata": {},
   "outputs": [],
   "source": [
    "f2 = open(\"test1.txt\", \"r\")"
   ]
  },
  {
   "cell_type": "code",
   "execution_count": 51,
   "id": "7c71f774-3215-4902-a865-291b85782685",
   "metadata": {},
   "outputs": [
    {
     "data": {
      "text/plain": [
       "\"Whether you're new to programming or an experienced developer, it's easy to learn and use PythonPython source code and installers are available for download for all versions!\""
      ]
     },
     "execution_count": 51,
     "metadata": {},
     "output_type": "execute_result"
    }
   ],
   "source": [
    "f2.read()"
   ]
  },
  {
   "cell_type": "code",
   "execution_count": 52,
   "id": "3d430086-05f7-4409-8bfc-ec7f58008515",
   "metadata": {},
   "outputs": [],
   "source": [
    "os.remove(\"test2.txt\")"
   ]
  },
  {
   "cell_type": "code",
   "execution_count": 53,
   "id": "fead5171-f779-4e41-9c92-d8b2dc07d7c2",
   "metadata": {},
   "outputs": [],
   "source": [
    "os.remove(\"test.txt\")"
   ]
  },
  {
   "cell_type": "code",
   "execution_count": 55,
   "id": "0fe191ed-1ebc-49f8-a215-b0a1bf7a47d1",
   "metadata": {},
   "outputs": [],
   "source": [
    "os.rename(\"test1.txt\", \"new_test1.txt\")"
   ]
  },
  {
   "cell_type": "code",
   "execution_count": 56,
   "id": "2145d993-59dc-4d0b-8368-19bcee521fb6",
   "metadata": {},
   "outputs": [],
   "source": [
    "f3 = open(\"new_test1.txt\", \"r\")"
   ]
  },
  {
   "cell_type": "code",
   "execution_count": 57,
   "id": "ba05bac1-184e-46f1-880b-27f865247c84",
   "metadata": {},
   "outputs": [
    {
     "data": {
      "text/plain": [
       "\"Whether you're new to programming or an experienced developer, it's easy to learn and use PythonPython source code and installers are available for download for all versions!\""
      ]
     },
     "execution_count": 57,
     "metadata": {},
     "output_type": "execute_result"
    }
   ],
   "source": [
    "f3.read()"
   ]
  },
  {
   "cell_type": "markdown",
   "id": "3f65e090-dd15-40ee-a988-1f0430d1121f",
   "metadata": {},
   "source": [
    "## Reading and writing in the files"
   ]
  },
  {
   "cell_type": "code",
   "execution_count": 1,
   "id": "4bfc0a98-55d6-44d1-a659-e309a1b8c391",
   "metadata": {},
   "outputs": [],
   "source": [
    "data = { \"name\" : \"sudh\",\n",
    "        \"email_id\" : \"sudh@gmail.com\",\n",
    "        \"number\" : 98457845,\n",
    "        \"subjects\" : [ \"data science\", \" big data\", \"web dev\"]\n",
    "       }"
   ]
  },
  {
   "cell_type": "code",
   "execution_count": 2,
   "id": "77fa8e3f-1601-44f3-a052-d5aa0fe2a0e3",
   "metadata": {},
   "outputs": [],
   "source": [
    "import json # Java Script Object Notation"
   ]
  },
  {
   "cell_type": "code",
   "execution_count": 3,
   "id": "496e25d9-56dc-485b-b12d-0a491719a067",
   "metadata": {},
   "outputs": [],
   "source": [
    "with open(\"test1.json\", \"w\") as f:\n",
    "    json.dump(data, f)"
   ]
  },
  {
   "cell_type": "code",
   "execution_count": 11,
   "id": "22a2b527-b967-4c1b-aa14-8ec996bb0788",
   "metadata": {},
   "outputs": [],
   "source": [
    "data1 = [[\"name\", \"email_id\", \"number\", \"subjects\"],\n",
    "        [\"sudh\", \"sudh@gmail.com\", 8898457845,  \"data science\"],\n",
    "        [\"Krish\", \"krish@gmail.com\", 9856742311, \"web dev\"]\n",
    "       ] # csv function being operated on data stored in list seperated by commas"
   ]
  },
  {
   "cell_type": "code",
   "execution_count": 20,
   "id": "23f5aad4-5b8f-40fc-afea-75e4370a959f",
   "metadata": {},
   "outputs": [],
   "source": [
    "import csv # comma seperated values/ file \n",
    "with open(\"test2.csv\", \"w\") as f:\n",
    "    w = csv.writer(f)\n",
    "    for i in data1:\n",
    "        w.writerow(i) # reading i and writing it in f"
   ]
  },
  {
   "cell_type": "code",
   "execution_count": 22,
   "id": "dccc96a8-ec4c-4c3b-8b76-efec51cf2a28",
   "metadata": {},
   "outputs": [
    {
     "name": "stdout",
     "output_type": "stream",
     "text": [
      "['name', 'email_id', 'number', 'subjects']\n",
      "['sudh', 'sudh@gmail.com', '8898457845', 'data science']\n",
      "['Krish', 'krish@gmail.com', '9856742311', 'web dev']\n"
     ]
    }
   ],
   "source": [
    "# to read the contents in test2.csv\n",
    "with open(\"test2.csv\", \"r\") as f:\n",
    "    read = csv.reader(f)\n",
    "    for i in read:\n",
    "        print(i)"
   ]
  },
  {
   "cell_type": "markdown",
   "id": "3a738d72-eeb5-4e6f-90b4-1a4fb801fe52",
   "metadata": {},
   "source": [
    "## reading or writing of binary data"
   ]
  },
  {
   "cell_type": "code",
   "execution_count": 23,
   "id": "559f2708-80fb-4e06-9f8d-61337f80d7a6",
   "metadata": {},
   "outputs": [],
   "source": [
    "with open(\"test4.bin\", \"wb\") as f:\n",
    "    f.write(b\"\\x01\\x02\\x03\")"
   ]
  },
  {
   "cell_type": "code",
   "execution_count": 24,
   "id": "0da8c20a-86a5-4037-9e76-0844cdd9c901",
   "metadata": {},
   "outputs": [
    {
     "name": "stdout",
     "output_type": "stream",
     "text": [
      "b'\\x01\\x02\\x03'\n"
     ]
    }
   ],
   "source": [
    "with open(\"test4.bin\", \"rb\") as f:\n",
    "    print(f.read())"
   ]
  },
  {
   "cell_type": "markdown",
   "id": "9a7afc95-0c55-4b1c-8721-0a6f567b78ce",
   "metadata": {},
   "source": [
    "### Reading and writing using buffered command"
   ]
  },
  {
   "cell_type": "code",
   "execution_count": 1,
   "id": "92b8458c-7a32-42d3-8b05-59d6e6bbd070",
   "metadata": {},
   "outputs": [],
   "source": [
    "# used when we have to read huge files"
   ]
  },
  {
   "cell_type": "code",
   "execution_count": 2,
   "id": "45aa9738-ad33-47e3-a2d9-5a4b8ea8e4f3",
   "metadata": {},
   "outputs": [],
   "source": [
    "import io # io module in python"
   ]
  },
  {
   "cell_type": "code",
   "execution_count": 8,
   "id": "fe9f6005-f678-4d71-875d-ca693e0d02c7",
   "metadata": {},
   "outputs": [],
   "source": [
    "# write a binary input\n",
    "with open(\"test.txt\", \"wb\") as f:\n",
    "    file = io.BufferedWriter(f)\n",
    "    file.write(b\"This is my first buffered write\\n\")\n",
    "    file.write(b\"This is my second buffered write\") \n",
    "    file.flush() # for closing the file, same as file.close()"
   ]
  },
  {
   "cell_type": "code",
   "execution_count": 12,
   "id": "671c372b-e9ca-4cc8-b731-9f839abf4db8",
   "metadata": {},
   "outputs": [
    {
     "name": "stdout",
     "output_type": "stream",
     "text": [
      "b'This is my first buffered write\\nThis is my second buffered write'\n"
     ]
    }
   ],
   "source": [
    "# to read binary file\n",
    "with open(\"test.txt\", \"rb\") as f:\n",
    "    file = io.BufferedReader(f)\n",
    "    data = file.read()\n",
    "    print(data)"
   ]
  },
  {
   "cell_type": "code",
   "execution_count": null,
   "id": "a88db836-cfde-4e04-8db7-86fac1455f18",
   "metadata": {},
   "outputs": [],
   "source": []
  }
 ],
 "metadata": {
  "kernelspec": {
   "display_name": "Python 3 (ipykernel)",
   "language": "python",
   "name": "python3"
  },
  "language_info": {
   "codemirror_mode": {
    "name": "ipython",
    "version": 3
   },
   "file_extension": ".py",
   "mimetype": "text/x-python",
   "name": "python",
   "nbconvert_exporter": "python",
   "pygments_lexer": "ipython3",
   "version": "3.10.8"
  }
 },
 "nbformat": 4,
 "nbformat_minor": 5
}
