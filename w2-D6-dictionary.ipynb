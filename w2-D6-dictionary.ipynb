{
 "cells": [
  {
   "cell_type": "code",
   "execution_count": 1,
   "id": "abc57b64-a7a0-4583-b835-7ad8b0ac1d06",
   "metadata": {},
   "outputs": [],
   "source": [
    "d1 = {}"
   ]
  },
  {
   "cell_type": "raw",
   "id": "a8d8ba64-37a8-4107-a983-dad27a70107a",
   "metadata": {},
   "source": [
    "type(d1)"
   ]
  },
  {
   "cell_type": "code",
   "execution_count": 3,
   "id": "2fb2800a-7705-4307-969b-e8060d15890a",
   "metadata": {},
   "outputs": [],
   "source": [
    "d1 = {'name' : ['Krish', 'Sudh', 'Narayan'], 'Course' : {'Coading', 'DS', 'Java'}, 'Universities' :('Mumbai', 'US', 'UK', 'Germany')}"
   ]
  },
  {
   "cell_type": "code",
   "execution_count": 4,
   "id": "8bc2fa29-7805-449b-a372-6692d92c9e91",
   "metadata": {},
   "outputs": [
    {
     "data": {
      "text/plain": [
       "{'name': ['Krish', 'Sudh', 'Narayan'],\n",
       " 'Course': {'Coading', 'DS', 'Java'},\n",
       " 'Universities': ('Mumbai', 'US', 'UK', 'Germany')}"
      ]
     },
     "execution_count": 4,
     "metadata": {},
     "output_type": "execute_result"
    }
   ],
   "source": [
    "d1"
   ]
  },
  {
   "cell_type": "code",
   "execution_count": 6,
   "id": "2457a61b-b7f1-4de2-819c-84cee8cddbe4",
   "metadata": {},
   "outputs": [
    {
     "data": {
      "text/plain": [
       "dict_keys(['name', 'Course', 'Universities'])"
      ]
     },
     "execution_count": 6,
     "metadata": {},
     "output_type": "execute_result"
    }
   ],
   "source": [
    "d1.keys()"
   ]
  },
  {
   "cell_type": "code",
   "execution_count": 7,
   "id": "02c9262f-555b-46d2-8aee-e95a6badb92f",
   "metadata": {},
   "outputs": [
    {
     "data": {
      "text/plain": [
       "dict_values([['Krish', 'Sudh', 'Narayan'], {'DS', 'Coading', 'Java'}, ('Mumbai', 'US', 'UK', 'Germany')])"
      ]
     },
     "execution_count": 7,
     "metadata": {},
     "output_type": "execute_result"
    }
   ],
   "source": [
    "d1.values()"
   ]
  },
  {
   "cell_type": "code",
   "execution_count": 8,
   "id": "d1eff22c-873c-4b28-92ed-15027c5a35c7",
   "metadata": {},
   "outputs": [
    {
     "data": {
      "text/plain": [
       "[['Krish', 'Sudh', 'Narayan'],\n",
       " {'Coading', 'DS', 'Java'},\n",
       " ('Mumbai', 'US', 'UK', 'Germany')]"
      ]
     },
     "execution_count": 8,
     "metadata": {},
     "output_type": "execute_result"
    }
   ],
   "source": [
    "list(d1.values())"
   ]
  },
  {
   "cell_type": "code",
   "execution_count": 9,
   "id": "ab54ea25-dd9b-4740-b212-d46fd9dfe988",
   "metadata": {},
   "outputs": [
    {
     "data": {
      "text/plain": [
       "('Mumbai', 'US', 'UK', 'Germany')"
      ]
     },
     "execution_count": 9,
     "metadata": {},
     "output_type": "execute_result"
    }
   ],
   "source": [
    "d1.get('Universities')"
   ]
  },
  {
   "cell_type": "code",
   "execution_count": 12,
   "id": "f3cc1369-b02e-44a4-b236-0e475d34d7bc",
   "metadata": {},
   "outputs": [
    {
     "data": {
      "text/plain": [
       "('Mumbai', 'US', 'UK', 'Germany')"
      ]
     },
     "execution_count": 12,
     "metadata": {},
     "output_type": "execute_result"
    }
   ],
   "source": [
    "d1.pop('Universities')"
   ]
  },
  {
   "cell_type": "code",
   "execution_count": 13,
   "id": "27fa16c4-2847-49f9-82d9-00ffc249ee2c",
   "metadata": {},
   "outputs": [
    {
     "data": {
      "text/plain": [
       "{'name': ['Krish', 'Sudh', 'Narayan'], 'Course': {'Coading', 'DS', 'Java'}}"
      ]
     },
     "execution_count": 13,
     "metadata": {},
     "output_type": "execute_result"
    }
   ],
   "source": [
    "d1"
   ]
  },
  {
   "cell_type": "code",
   "execution_count": 15,
   "id": "f7626e49-980a-4a13-b74a-e3c6f944884c",
   "metadata": {},
   "outputs": [
    {
     "data": {
      "text/plain": [
       "('Course', {'Coading', 'DS', 'Java'})"
      ]
     },
     "execution_count": 15,
     "metadata": {},
     "output_type": "execute_result"
    }
   ],
   "source": [
    "d1.popitem()"
   ]
  },
  {
   "cell_type": "code",
   "execution_count": 17,
   "id": "7c3f2f20-9845-4163-a97d-64d7224d7b69",
   "metadata": {},
   "outputs": [
    {
     "data": {
      "text/plain": [
       "{'n': ['Krish', 'Sudh', 'Narayan'],\n",
       " 'a': ['Krish', 'Sudh', 'Narayan'],\n",
       " 'm': ['Krish', 'Sudh', 'Narayan'],\n",
       " 'e': ['Krish', 'Sudh', 'Narayan']}"
      ]
     },
     "execution_count": 17,
     "metadata": {},
     "output_type": "execute_result"
    }
   ],
   "source": [
    "d1.fromkeys('name', ['Krish', 'Sudh', 'Narayan'])"
   ]
  },
  {
   "cell_type": "code",
   "execution_count": 18,
   "id": "0f6a1822-c3de-4b9c-9989-57eb1182898e",
   "metadata": {},
   "outputs": [
    {
     "data": {
      "text/plain": [
       "{'name': ['Krish', 'Sudh', 'Narayan']}"
      ]
     },
     "execution_count": 18,
     "metadata": {},
     "output_type": "execute_result"
    }
   ],
   "source": [
    "d1"
   ]
  },
  {
   "cell_type": "code",
   "execution_count": 1,
   "id": "0933d026-572b-46bb-8371-704c58873235",
   "metadata": {},
   "outputs": [],
   "source": [
    "d1 = {'name' : ['Krish', 'Sudh', 'Narayan'], 'Course' : {'Coading', 'DS', 'Java'}, 'Universities' :('Mumbai', 'US', 'UK', 'Germany')}"
   ]
  },
  {
   "cell_type": "code",
   "execution_count": 12,
   "id": "062c602c-824e-4609-a775-df38f5385c9d",
   "metadata": {},
   "outputs": [],
   "source": [
    "d2 = {'City': ['Thane', ' Pune']}"
   ]
  },
  {
   "cell_type": "code",
   "execution_count": 18,
   "id": "225abdb5-9a69-41a0-95ea-1b62d421a1ce",
   "metadata": {},
   "outputs": [],
   "source": [
    "# dict d2 gets updated with the keys and values of d2\n",
    "# d1 remains unchanged\n",
    "d2.update(d1)"
   ]
  },
  {
   "cell_type": "code",
   "execution_count": 14,
   "id": "fa332b0d-09f4-4e89-bdc9-f1276e6e21b8",
   "metadata": {},
   "outputs": [
    {
     "data": {
      "text/plain": [
       "{'name': ['Krish', 'Sudh', 'Narayan'],\n",
       " 'Course': {'Coading', 'DS', 'Java'},\n",
       " 'Universities': ('Mumbai', 'US', 'UK', 'Germany')}"
      ]
     },
     "execution_count": 14,
     "metadata": {},
     "output_type": "execute_result"
    }
   ],
   "source": [
    "d1"
   ]
  },
  {
   "cell_type": "code",
   "execution_count": 15,
   "id": "7b1f2f08-67ad-4e4d-92e8-2eb193c6467f",
   "metadata": {},
   "outputs": [
    {
     "data": {
      "text/plain": [
       "{'City': ['Thane', ' Pune'],\n",
       " 'name': ['Krish', 'Sudh', 'Narayan'],\n",
       " 'Course': {'Coading', 'DS', 'Java'},\n",
       " 'Universities': ('Mumbai', 'US', 'UK', 'Germany')}"
      ]
     },
     "execution_count": 15,
     "metadata": {},
     "output_type": "execute_result"
    }
   ],
   "source": [
    "d2"
   ]
  },
  {
   "cell_type": "code",
   "execution_count": 16,
   "id": "69d6cc53-be5f-49a7-ba0d-91e2a855a7c4",
   "metadata": {},
   "outputs": [],
   "source": [
    "# dict d1 gets updated with the keys and values of d2\n",
    "# d2 remains unchanged\n",
    "d1.update(d2)"
   ]
  },
  {
   "cell_type": "code",
   "execution_count": 17,
   "id": "d5e85a9c-4fd9-451b-aa93-430641c819ca",
   "metadata": {},
   "outputs": [
    {
     "data": {
      "text/plain": [
       "{'name': ['Krish', 'Sudh', 'Narayan'],\n",
       " 'Course': {'Coading', 'DS', 'Java'},\n",
       " 'Universities': ('Mumbai', 'US', 'UK', 'Germany'),\n",
       " 'City': ['Thane', ' Pune']}"
      ]
     },
     "execution_count": 17,
     "metadata": {},
     "output_type": "execute_result"
    }
   ],
   "source": [
    "d1"
   ]
  },
  {
   "cell_type": "code",
   "execution_count": 20,
   "id": "53283d5c-c481-4db1-940e-01da01a9576d",
   "metadata": {},
   "outputs": [],
   "source": [
    "# dict comprehension\n",
    "# finding cube of first 10 nos.\n",
    "d3 = {i : i**3 for i in range(1,11)}"
   ]
  },
  {
   "cell_type": "code",
   "execution_count": 21,
   "id": "bc3fda7b-8d9b-498a-a907-dda84ed8f4bd",
   "metadata": {},
   "outputs": [
    {
     "data": {
      "text/plain": [
       "{1: 1, 2: 8, 3: 27, 4: 64, 5: 125, 6: 216, 7: 343, 8: 512, 9: 729, 10: 1000}"
      ]
     },
     "execution_count": 21,
     "metadata": {},
     "output_type": "execute_result"
    }
   ],
   "source": [
    "d3"
   ]
  },
  {
   "cell_type": "code",
   "execution_count": 22,
   "id": "fa9e4223-a541-4f0b-b378-8156e5419e00",
   "metadata": {},
   "outputs": [
    {
     "data": {
      "text/plain": [
       "dict_keys([1, 2, 3, 4, 5, 6, 7, 8, 9, 10])"
      ]
     },
     "execution_count": 22,
     "metadata": {},
     "output_type": "execute_result"
    }
   ],
   "source": [
    "d3.keys()"
   ]
  },
  {
   "cell_type": "code",
   "execution_count": 23,
   "id": "dc4ee3af-ac83-428b-8182-58b34d32ed86",
   "metadata": {},
   "outputs": [
    {
     "data": {
      "text/plain": [
       "dict_values([1, 8, 27, 64, 125, 216, 343, 512, 729, 1000])"
      ]
     },
     "execution_count": 23,
     "metadata": {},
     "output_type": "execute_result"
    }
   ],
   "source": [
    "d3.values()"
   ]
  },
  {
   "cell_type": "code",
   "execution_count": 24,
   "id": "27269a0d-309f-4dba-8f41-7c1a80547045",
   "metadata": {},
   "outputs": [
    {
     "data": {
      "text/plain": [
       "dict_items([(1, 1), (2, 8), (3, 27), (4, 64), (5, 125), (6, 216), (7, 343), (8, 512), (9, 729), (10, 1000)])"
      ]
     },
     "execution_count": 24,
     "metadata": {},
     "output_type": "execute_result"
    }
   ],
   "source": [
    "d3.items()"
   ]
  },
  {
   "cell_type": "code",
   "execution_count": 32,
   "id": "38887a32-3db7-4ac7-b314-3b5ffef82361",
   "metadata": {},
   "outputs": [
    {
     "data": {
      "text/plain": [
       "{1: 1.0,\n",
       " 2: 1.4142135623730951,\n",
       " 3: 1.7320508075688772,\n",
       " 4: 2.0,\n",
       " 5: 2.23606797749979,\n",
       " 6: 2.449489742783178,\n",
       " 7: 2.6457513110645907,\n",
       " 8: 2.8284271247461903,\n",
       " 9: 3.0,\n",
       " 10: 3.1622776601683795}"
      ]
     },
     "execution_count": 32,
     "metadata": {},
     "output_type": "execute_result"
    }
   ],
   "source": [
    "import math\n",
    "{i : math.sqrt(i) for i in range(1,11)}"
   ]
  },
  {
   "cell_type": "code",
   "execution_count": 30,
   "id": "ffd116d4-bd3d-488c-b4f7-42677232f817",
   "metadata": {},
   "outputs": [
    {
     "data": {
      "text/plain": [
       "{'name': ['Krish', 'Sudh', 'Narayan'],\n",
       " 'Course': {'Coading', 'DS', 'Java'},\n",
       " 'Universities': ('Mumbai', 'US', 'UK', 'Germany'),\n",
       " 'City': ['Thane', ' Pune']}"
      ]
     },
     "execution_count": 30,
     "metadata": {},
     "output_type": "execute_result"
    }
   ],
   "source": [
    "d1"
   ]
  },
  {
   "cell_type": "code",
   "execution_count": 31,
   "id": "55730f09-b047-4a5b-a84c-675836169b1d",
   "metadata": {},
   "outputs": [
    {
     "data": {
      "text/plain": [
       "True"
      ]
     },
     "execution_count": 31,
     "metadata": {},
     "output_type": "execute_result"
    }
   ],
   "source": [
    "'City' in d1"
   ]
  },
  {
   "cell_type": "code",
   "execution_count": 35,
   "id": "daa4ec9f-3932-44ca-aa13-b8b0e9b0a6ca",
   "metadata": {},
   "outputs": [],
   "source": [
    "import math\n",
    "d5 = {i : math.sqrt(i) for i in range(1,11)}"
   ]
  },
  {
   "cell_type": "code",
   "execution_count": 36,
   "id": "7dfecbf7-babe-4832-8840-6e6d6b023e46",
   "metadata": {},
   "outputs": [
    {
     "data": {
      "text/plain": [
       "{1: 1.0,\n",
       " 2: 1.4142135623730951,\n",
       " 3: 1.7320508075688772,\n",
       " 4: 2.0,\n",
       " 5: 2.23606797749979,\n",
       " 6: 2.449489742783178,\n",
       " 7: 2.6457513110645907,\n",
       " 8: 2.8284271247461903,\n",
       " 9: 3.0,\n",
       " 10: 3.1622776601683795}"
      ]
     },
     "execution_count": 36,
     "metadata": {},
     "output_type": "execute_result"
    }
   ],
   "source": [
    "d5"
   ]
  },
  {
   "cell_type": "code",
   "execution_count": 43,
   "id": "00f91193-29aa-4fdc-b727-92189852972d",
   "metadata": {},
   "outputs": [
    {
     "name": "stdout",
     "output_type": "stream",
     "text": [
      "2 : 1.4142135623730951\n",
      "4 : 2.0\n",
      "6 : 2.449489742783178\n",
      "8 : 2.8284271247461903\n",
      "10 : 3.1622776601683795\n"
     ]
    }
   ],
   "source": [
    "# fetching only even values in d5 dict\n",
    "for i in d5.keys():\n",
    "    if i % 2 ==0:\n",
    "        print(f'{i} :', d5[i])"
   ]
  },
  {
   "cell_type": "code",
   "execution_count": 44,
   "id": "804ea2d0-bde5-447b-ad61-261a62cab263",
   "metadata": {},
   "outputs": [
    {
     "name": "stdout",
     "output_type": "stream",
     "text": [
      "1 : 1.0\n",
      "3 : 1.7320508075688772\n",
      "5 : 2.23606797749979\n",
      "7 : 2.6457513110645907\n",
      "9 : 3.0\n"
     ]
    }
   ],
   "source": [
    "# fetching only odd values in d5 dict\n",
    "for i in d5.keys():\n",
    "    if i % 2 !=0:\n",
    "        print(f'{i} :', d5[i])"
   ]
  },
  {
   "cell_type": "code",
   "execution_count": null,
   "id": "9754941d-c3c4-4af8-9e3e-c4285801fbc6",
   "metadata": {},
   "outputs": [],
   "source": []
  }
 ],
 "metadata": {
  "kernelspec": {
   "display_name": "Python 3 (ipykernel)",
   "language": "python",
   "name": "python3"
  },
  "language_info": {
   "codemirror_mode": {
    "name": "ipython",
    "version": 3
   },
   "file_extension": ".py",
   "mimetype": "text/x-python",
   "name": "python",
   "nbconvert_exporter": "python",
   "pygments_lexer": "ipython3",
   "version": "3.10.8"
  }
 },
 "nbformat": 4,
 "nbformat_minor": 5
}
