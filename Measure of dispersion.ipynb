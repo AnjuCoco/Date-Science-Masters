{
 "cells": [
  {
   "cell_type": "code",
   "execution_count": 1,
   "id": "9ad7e734-cb65-4011-b298-19bbb0bc809d",
   "metadata": {},
   "outputs": [],
   "source": [
    "# calculation of variance and standard deviation in python"
   ]
  },
  {
   "cell_type": "code",
   "execution_count": 2,
   "id": "dd2ffef0-c3f7-4776-be01-977941482693",
   "metadata": {},
   "outputs": [],
   "source": [
    "# cov and standard deviation functions are available in numpy so import the same"
   ]
  },
  {
   "cell_type": "code",
   "execution_count": 3,
   "id": "f9d1ec86-854d-4a3a-8594-8a47fa829682",
   "metadata": {},
   "outputs": [],
   "source": [
    "import numpy as np"
   ]
  },
  {
   "cell_type": "code",
   "execution_count": 4,
   "id": "95557588-f866-48d3-9e18-1fc007735aae",
   "metadata": {},
   "outputs": [],
   "source": [
    "ages_list = [12, 67, 5, 34, 88, 23, 96]"
   ]
  },
  {
   "cell_type": "code",
   "execution_count": 5,
   "id": "7a8b40df-3fdd-4fa8-ab05-c9aedbfe82d8",
   "metadata": {},
   "outputs": [],
   "source": [
    "mean = np.mean(ages_list)"
   ]
  },
  {
   "cell_type": "code",
   "execution_count": 6,
   "id": "1ce05ff6-f923-4442-bc0a-0158dccdd0e4",
   "metadata": {},
   "outputs": [
    {
     "data": {
      "text/plain": [
       "46.42857142857143"
      ]
     },
     "execution_count": 6,
     "metadata": {},
     "output_type": "execute_result"
    }
   ],
   "source": [
    "mean"
   ]
  },
  {
   "cell_type": "code",
   "execution_count": 21,
   "id": "9760511b-0a69-4810-ba15-a2a5b7a8fd88",
   "metadata": {},
   "outputs": [
    {
     "data": {
      "text/plain": [
       "1173.387755102041"
      ]
     },
     "execution_count": 21,
     "metadata": {},
     "output_type": "execute_result"
    }
   ],
   "source": [
    "var = np.var(ages_list)\n",
    "var"
   ]
  },
  {
   "cell_type": "code",
   "execution_count": 7,
   "id": "e307c6cf-63d2-480d-9fa7-893d15fd75d8",
   "metadata": {},
   "outputs": [
    {
     "data": {
      "text/plain": [
       "34.25474792057359"
      ]
     },
     "execution_count": 7,
     "metadata": {},
     "output_type": "execute_result"
    }
   ],
   "source": [
    "std_dev = np.std(ages_list)\n",
    "std_dev"
   ]
  },
  {
   "cell_type": "code",
   "execution_count": 19,
   "id": "903b3843-0d1a-4b88-acda-91e7f76bac89",
   "metadata": {},
   "outputs": [],
   "source": [
    "# when you have list of items having rows and columns, use pandas to calculated variance and std"
   ]
  },
  {
   "cell_type": "code",
   "execution_count": 9,
   "id": "4ca3f197-2887-4f9d-94be-f224809e6a4b",
   "metadata": {},
   "outputs": [],
   "source": [
    "# import pandas"
   ]
  },
  {
   "cell_type": "code",
   "execution_count": 10,
   "id": "c3e079df-4f6d-4a0d-b8ae-0a4fa5703886",
   "metadata": {},
   "outputs": [],
   "source": [
    "import pandas as pd"
   ]
  },
  {
   "cell_type": "code",
   "execution_count": 11,
   "id": "8feb70fa-e5ef-47f8-9e6c-f00bb71945d6",
   "metadata": {},
   "outputs": [],
   "source": [
    "data = [[10,34, 55, 89], [22,45,100, 78], [12, 65, 94,89]]"
   ]
  },
  {
   "cell_type": "code",
   "execution_count": 12,
   "id": "027e68f0-82e5-42c0-927a-7d7e93c804c4",
   "metadata": {},
   "outputs": [],
   "source": [
    "# getting a dataframe\n",
    "df = pd.DataFrame(data)"
   ]
  },
  {
   "cell_type": "code",
   "execution_count": 13,
   "id": "1fe90a40-97c2-467f-95c5-3fc32321f4c2",
   "metadata": {},
   "outputs": [
    {
     "data": {
      "text/html": [
       "<div>\n",
       "<style scoped>\n",
       "    .dataframe tbody tr th:only-of-type {\n",
       "        vertical-align: middle;\n",
       "    }\n",
       "\n",
       "    .dataframe tbody tr th {\n",
       "        vertical-align: top;\n",
       "    }\n",
       "\n",
       "    .dataframe thead th {\n",
       "        text-align: right;\n",
       "    }\n",
       "</style>\n",
       "<table border=\"1\" class=\"dataframe\">\n",
       "  <thead>\n",
       "    <tr style=\"text-align: right;\">\n",
       "      <th></th>\n",
       "      <th>0</th>\n",
       "      <th>1</th>\n",
       "      <th>2</th>\n",
       "      <th>3</th>\n",
       "    </tr>\n",
       "  </thead>\n",
       "  <tbody>\n",
       "    <tr>\n",
       "      <th>0</th>\n",
       "      <td>10</td>\n",
       "      <td>34</td>\n",
       "      <td>55</td>\n",
       "      <td>89</td>\n",
       "    </tr>\n",
       "    <tr>\n",
       "      <th>1</th>\n",
       "      <td>22</td>\n",
       "      <td>45</td>\n",
       "      <td>100</td>\n",
       "      <td>78</td>\n",
       "    </tr>\n",
       "    <tr>\n",
       "      <th>2</th>\n",
       "      <td>12</td>\n",
       "      <td>65</td>\n",
       "      <td>94</td>\n",
       "      <td>89</td>\n",
       "    </tr>\n",
       "  </tbody>\n",
       "</table>\n",
       "</div>"
      ],
      "text/plain": [
       "    0   1    2   3\n",
       "0  10  34   55  89\n",
       "1  22  45  100  78\n",
       "2  12  65   94  89"
      ]
     },
     "execution_count": 13,
     "metadata": {},
     "output_type": "execute_result"
    }
   ],
   "source": [
    "df"
   ]
  },
  {
   "cell_type": "code",
   "execution_count": 17,
   "id": "21239207-205a-4d24-a211-3a73aec829c0",
   "metadata": {},
   "outputs": [],
   "source": [
    "# to assign names for columns\n",
    "df = pd.DataFrame(data, columns = [\"A\", \"B\", \"C\", \"D\"]) "
   ]
  },
  {
   "cell_type": "code",
   "execution_count": 18,
   "id": "5d1fde65-8215-4be9-bb8d-b16683ff29b0",
   "metadata": {},
   "outputs": [
    {
     "data": {
      "text/html": [
       "<div>\n",
       "<style scoped>\n",
       "    .dataframe tbody tr th:only-of-type {\n",
       "        vertical-align: middle;\n",
       "    }\n",
       "\n",
       "    .dataframe tbody tr th {\n",
       "        vertical-align: top;\n",
       "    }\n",
       "\n",
       "    .dataframe thead th {\n",
       "        text-align: right;\n",
       "    }\n",
       "</style>\n",
       "<table border=\"1\" class=\"dataframe\">\n",
       "  <thead>\n",
       "    <tr style=\"text-align: right;\">\n",
       "      <th></th>\n",
       "      <th>A</th>\n",
       "      <th>B</th>\n",
       "      <th>C</th>\n",
       "      <th>D</th>\n",
       "    </tr>\n",
       "  </thead>\n",
       "  <tbody>\n",
       "    <tr>\n",
       "      <th>0</th>\n",
       "      <td>10</td>\n",
       "      <td>34</td>\n",
       "      <td>55</td>\n",
       "      <td>89</td>\n",
       "    </tr>\n",
       "    <tr>\n",
       "      <th>1</th>\n",
       "      <td>22</td>\n",
       "      <td>45</td>\n",
       "      <td>100</td>\n",
       "      <td>78</td>\n",
       "    </tr>\n",
       "    <tr>\n",
       "      <th>2</th>\n",
       "      <td>12</td>\n",
       "      <td>65</td>\n",
       "      <td>94</td>\n",
       "      <td>89</td>\n",
       "    </tr>\n",
       "  </tbody>\n",
       "</table>\n",
       "</div>"
      ],
      "text/plain": [
       "    A   B    C   D\n",
       "0  10  34   55  89\n",
       "1  22  45  100  78\n",
       "2  12  65   94  89"
      ]
     },
     "execution_count": 18,
     "metadata": {},
     "output_type": "execute_result"
    }
   ],
   "source": [
    "df"
   ]
  },
  {
   "cell_type": "code",
   "execution_count": 23,
   "id": "998b4a05-04ec-460d-86e8-aa71e271ab6c",
   "metadata": {},
   "outputs": [
    {
     "data": {
      "text/plain": [
       "A     41.333333\n",
       "B    247.000000\n",
       "C    597.000000\n",
       "D     40.333333\n",
       "dtype: float64"
      ]
     },
     "execution_count": 23,
     "metadata": {},
     "output_type": "execute_result"
    }
   ],
   "source": [
    "df.var()\n",
    "# gets answer by default column wise"
   ]
  },
  {
   "cell_type": "code",
   "execution_count": 24,
   "id": "427ba5f9-f258-4194-8f73-6259b26a7e9c",
   "metadata": {},
   "outputs": [
    {
     "data": {
      "text/plain": [
       "0    1122.000000\n",
       "1    1195.583333\n",
       "2    1408.666667\n",
       "dtype: float64"
      ]
     },
     "execution_count": 24,
     "metadata": {},
     "output_type": "execute_result"
    }
   ],
   "source": [
    "# to get variance rowwise\n",
    "df.var(axis = 1)"
   ]
  },
  {
   "cell_type": "code",
   "execution_count": 25,
   "id": "87ded210-b472-43a1-8713-a3c7b487e471",
   "metadata": {},
   "outputs": [],
   "source": [
    "# by default, axis = 0 and hence get answers columnwise"
   ]
  },
  {
   "cell_type": "code",
   "execution_count": null,
   "id": "bf4ddf57-67aa-4bd1-af04-6d78c1184812",
   "metadata": {},
   "outputs": [],
   "source": []
  }
 ],
 "metadata": {
  "kernelspec": {
   "display_name": "Python 3 (ipykernel)",
   "language": "python",
   "name": "python3"
  },
  "language_info": {
   "codemirror_mode": {
    "name": "ipython",
    "version": 3
   },
   "file_extension": ".py",
   "mimetype": "text/x-python",
   "name": "python",
   "nbconvert_exporter": "python",
   "pygments_lexer": "ipython3",
   "version": "3.10.8"
  }
 },
 "nbformat": 4,
 "nbformat_minor": 5
}
