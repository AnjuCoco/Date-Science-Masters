{
 "cells": [
  {
   "cell_type": "code",
   "execution_count": 1,
   "id": "872ac170-073b-4056-9434-81014b7a3350",
   "metadata": {},
   "outputs": [],
   "source": [
    "# Multiprocessing refers to the ability of a system to support more than one processor at the same time. \n",
    "# Applications in a multiprocessing system are broken to smaller routines that run independently. \n",
    "# The operating system allocates these threads to the processors improving performance of the system."
   ]
  },
  {
   "cell_type": "code",
   "execution_count": 2,
   "id": "72b6d9ff-3725-4350-9d47-eb7cbec061be",
   "metadata": {},
   "outputs": [],
   "source": [
    "# Consider a computer system with a single processor. \n",
    "# If it is assigned several processes at the same time, it will have to interrupt each task and \n",
    "# switch briefly to another, to keep all of the processes going."
   ]
  },
  {
   "cell_type": "code",
   "execution_count": 3,
   "id": "f9ecae8a-04ce-4c40-9c9e-04823ae97bab",
   "metadata": {},
   "outputs": [],
   "source": [
    "# This situation is just like a chef working in a kitchen alone. \n",
    "# He has to do several tasks like baking, stirring, kneading dough, etc."
   ]
  },
  {
   "cell_type": "code",
   "execution_count": 4,
   "id": "5669d0da-c7d7-4a40-a4b7-3fc626cf52cc",
   "metadata": {},
   "outputs": [],
   "source": [
    "# Gist: The more tasks you must do at once, the more difficult it gets to keep track of them all, and \n",
    "# keeping the timing right becomes more of a challenge."
   ]
  },
  {
   "cell_type": "code",
   "execution_count": 5,
   "id": "b9d30903-3dbc-41d0-8843-677cb65e2099",
   "metadata": {},
   "outputs": [],
   "source": [
    "# A multiprocessing system can have - multiprocessor or multi-core processors"
   ]
  },
  {
   "cell_type": "code",
   "execution_count": 6,
   "id": "151c35ab-2ea9-4b82-a01a-6eb635ad8505",
   "metadata": {},
   "outputs": [],
   "source": [
    "# Here, the CPU can easily executes several tasks at once, with each task using its own processor.\n",
    "# It is just like the chef in last situation being assisted by his assistants. \n",
    "# Now, they can divide the tasks among themselves and chef doesn’t need to switch between his tasks."
   ]
  },
  {
   "cell_type": "code",
   "execution_count": 8,
   "id": "ec3504c5-0b25-41b7-bb52-c6fe85cffc70",
   "metadata": {},
   "outputs": [],
   "source": [
    "# importing module\n",
    "import multiprocessing\n",
    "\n",
    "# defining function for cube \n",
    "def cube(num):\n",
    "    print(\"cube = {}\".format(num*num*num))\n",
    "\n",
    "# defining function for square\n",
    "def square(num):\n",
    "    print(\"square = {}\".format(num*num))\n",
    "\n"
   ]
  },
  {
   "cell_type": "code",
   "execution_count": 14,
   "id": "066fa401-82ad-492c-8ddd-9078ccdcc042",
   "metadata": {},
   "outputs": [
    {
     "name": "stdout",
     "output_type": "stream",
     "text": [
      "cube = 1000\n",
      "square = 100\n",
      "Well Done!!\n"
     ]
    }
   ],
   "source": [
    "# invoking python main module\n",
    "if __name__ == \"__main__\":\n",
    "    # creating processes\n",
    "    p1 = multiprocessing.Process(target = cube, args = (10,))\n",
    "    p2 = multiprocessing.Process(target = square, args = (10,)) \n",
    "    \n",
    "    # starting process 1\n",
    "    p1.start()\n",
    "    # starting process 2\n",
    "    p2.start()\n",
    "    \n",
    "    # waiting till process 1 gets completed\n",
    "    p1.join()\n",
    "    # waiting till process 2 gets completed\n",
    "    p2.join()\n",
    "\n",
    "# both processes finished\n",
    "print(\"Well Done!!\")"
   ]
  },
  {
   "cell_type": "code",
   "execution_count": 15,
   "id": "1d96c69c-5d1b-41f3-afda-d4149eee375e",
   "metadata": {},
   "outputs": [],
   "source": [
    "# using a pool function"
   ]
  },
  {
   "cell_type": "code",
   "execution_count": 17,
   "id": "64239b80-b125-4f79-aec4-88f323a1337c",
   "metadata": {},
   "outputs": [
    {
     "name": "stdout",
     "output_type": "stream",
     "text": [
      "[144, 9, 7921, 16, 100, 1089]\n"
     ]
    }
   ],
   "source": [
    "# defining square function\n",
    "def square(n):\n",
    "    return n**2\n",
    "# invoking main module\n",
    "if __name__ == \"__main__\":\n",
    "    # invoking pool function \n",
    "    with multiprocessing.Pool(processes=5) as pool:\n",
    "        # creating pool of data\n",
    "        out = pool.map(square, [12, 3, 89, 4, 10, 33])\n",
    "        print(out)"
   ]
  },
  {
   "cell_type": "code",
   "execution_count": 1,
   "id": "d4c5ffb8-5a4b-4e5c-abb2-de5615b3c48f",
   "metadata": {},
   "outputs": [],
   "source": [
    "# A queue is a data structure on which items can be added by a call to put() and \n",
    "# from which items can be retrieved by a call to get(). \n",
    "#The multiprocessing. Queue provides a first-in, first-out FIFO queue."
   ]
  },
  {
   "cell_type": "code",
   "execution_count": 3,
   "id": "98198331-6822-4d32-af1b-c947cf76106d",
   "metadata": {},
   "outputs": [
    {
     "name": "stdout",
     "output_type": "stream",
     "text": [
      "sudh\n",
      "kumar\n",
      "pwskills\n",
      "abcd\n",
      "xyz\n"
     ]
    },
    {
     "name": "stderr",
     "output_type": "stream",
     "text": [
      "Process Process-4:\n",
      "Traceback (most recent call last):\n",
      "  File \"/opt/conda/lib/python3.10/multiprocessing/process.py\", line 314, in _bootstrap\n",
      "    self.run()\n"
     ]
    },
    {
     "ename": "KeyboardInterrupt",
     "evalue": "",
     "output_type": "error",
     "traceback": [
      "\u001b[0;31m---------------------------------------------------------------------------\u001b[0m",
      "\u001b[0;31mKeyboardInterrupt\u001b[0m                         Traceback (most recent call last)",
      "Cell \u001b[0;32mIn[3], line 25\u001b[0m\n\u001b[1;32m     23\u001b[0m queue\u001b[38;5;241m.\u001b[39mput(\u001b[38;5;124m\"\u001b[39m\u001b[38;5;124mxyz\u001b[39m\u001b[38;5;124m\"\u001b[39m)\n\u001b[1;32m     24\u001b[0m m1\u001b[38;5;241m.\u001b[39mjoin()\n\u001b[0;32m---> 25\u001b[0m \u001b[43mm2\u001b[49m\u001b[38;5;241;43m.\u001b[39;49m\u001b[43mjoin\u001b[49m\u001b[43m(\u001b[49m\u001b[43m)\u001b[49m\n",
      "File \u001b[0;32m/opt/conda/lib/python3.10/multiprocessing/process.py:149\u001b[0m, in \u001b[0;36mBaseProcess.join\u001b[0;34m(self, timeout)\u001b[0m\n\u001b[1;32m    147\u001b[0m \u001b[38;5;28;01massert\u001b[39;00m \u001b[38;5;28mself\u001b[39m\u001b[38;5;241m.\u001b[39m_parent_pid \u001b[38;5;241m==\u001b[39m os\u001b[38;5;241m.\u001b[39mgetpid(), \u001b[38;5;124m'\u001b[39m\u001b[38;5;124mcan only join a child process\u001b[39m\u001b[38;5;124m'\u001b[39m\n\u001b[1;32m    148\u001b[0m \u001b[38;5;28;01massert\u001b[39;00m \u001b[38;5;28mself\u001b[39m\u001b[38;5;241m.\u001b[39m_popen \u001b[38;5;129;01mis\u001b[39;00m \u001b[38;5;129;01mnot\u001b[39;00m \u001b[38;5;28;01mNone\u001b[39;00m, \u001b[38;5;124m'\u001b[39m\u001b[38;5;124mcan only join a started process\u001b[39m\u001b[38;5;124m'\u001b[39m\n\u001b[0;32m--> 149\u001b[0m res \u001b[38;5;241m=\u001b[39m \u001b[38;5;28;43mself\u001b[39;49m\u001b[38;5;241;43m.\u001b[39;49m\u001b[43m_popen\u001b[49m\u001b[38;5;241;43m.\u001b[39;49m\u001b[43mwait\u001b[49m\u001b[43m(\u001b[49m\u001b[43mtimeout\u001b[49m\u001b[43m)\u001b[49m\n\u001b[1;32m    150\u001b[0m \u001b[38;5;28;01mif\u001b[39;00m res \u001b[38;5;129;01mis\u001b[39;00m \u001b[38;5;129;01mnot\u001b[39;00m \u001b[38;5;28;01mNone\u001b[39;00m:\n\u001b[1;32m    151\u001b[0m     _children\u001b[38;5;241m.\u001b[39mdiscard(\u001b[38;5;28mself\u001b[39m)\n",
      "File \u001b[0;32m/opt/conda/lib/python3.10/multiprocessing/popen_fork.py:43\u001b[0m, in \u001b[0;36mPopen.wait\u001b[0;34m(self, timeout)\u001b[0m\n\u001b[1;32m     41\u001b[0m             \u001b[38;5;28;01mreturn\u001b[39;00m \u001b[38;5;28;01mNone\u001b[39;00m\n\u001b[1;32m     42\u001b[0m     \u001b[38;5;66;03m# This shouldn't block if wait() returned successfully.\u001b[39;00m\n\u001b[0;32m---> 43\u001b[0m     \u001b[38;5;28;01mreturn\u001b[39;00m \u001b[38;5;28;43mself\u001b[39;49m\u001b[38;5;241;43m.\u001b[39;49m\u001b[43mpoll\u001b[49m\u001b[43m(\u001b[49m\u001b[43mos\u001b[49m\u001b[38;5;241;43m.\u001b[39;49m\u001b[43mWNOHANG\u001b[49m\u001b[43m \u001b[49m\u001b[38;5;28;43;01mif\u001b[39;49;00m\u001b[43m \u001b[49m\u001b[43mtimeout\u001b[49m\u001b[43m \u001b[49m\u001b[38;5;241;43m==\u001b[39;49m\u001b[43m \u001b[49m\u001b[38;5;241;43m0.0\u001b[39;49m\u001b[43m \u001b[49m\u001b[38;5;28;43;01melse\u001b[39;49;00m\u001b[43m \u001b[49m\u001b[38;5;241;43m0\u001b[39;49m\u001b[43m)\u001b[49m\n\u001b[1;32m     44\u001b[0m \u001b[38;5;28;01mreturn\u001b[39;00m \u001b[38;5;28mself\u001b[39m\u001b[38;5;241m.\u001b[39mreturncode\n",
      "File \u001b[0;32m/opt/conda/lib/python3.10/multiprocessing/popen_fork.py:27\u001b[0m, in \u001b[0;36mPopen.poll\u001b[0;34m(self, flag)\u001b[0m\n\u001b[1;32m     25\u001b[0m \u001b[38;5;28;01mif\u001b[39;00m \u001b[38;5;28mself\u001b[39m\u001b[38;5;241m.\u001b[39mreturncode \u001b[38;5;129;01mis\u001b[39;00m \u001b[38;5;28;01mNone\u001b[39;00m:\n\u001b[1;32m     26\u001b[0m     \u001b[38;5;28;01mtry\u001b[39;00m:\n\u001b[0;32m---> 27\u001b[0m         pid, sts \u001b[38;5;241m=\u001b[39m \u001b[43mos\u001b[49m\u001b[38;5;241;43m.\u001b[39;49m\u001b[43mwaitpid\u001b[49m\u001b[43m(\u001b[49m\u001b[38;5;28;43mself\u001b[39;49m\u001b[38;5;241;43m.\u001b[39;49m\u001b[43mpid\u001b[49m\u001b[43m,\u001b[49m\u001b[43m \u001b[49m\u001b[43mflag\u001b[49m\u001b[43m)\u001b[49m\n\u001b[1;32m     28\u001b[0m     \u001b[38;5;28;01mexcept\u001b[39;00m \u001b[38;5;167;01mOSError\u001b[39;00m:\n\u001b[1;32m     29\u001b[0m         \u001b[38;5;66;03m# Child process not yet created. See #1731717\u001b[39;00m\n\u001b[1;32m     30\u001b[0m         \u001b[38;5;66;03m# e.errno == errno.ECHILD == 10\u001b[39;00m\n\u001b[1;32m     31\u001b[0m         \u001b[38;5;28;01mreturn\u001b[39;00m \u001b[38;5;28;01mNone\u001b[39;00m\n",
      "\u001b[0;31mKeyboardInterrupt\u001b[0m: "
     ]
    },
    {
     "name": "stderr",
     "output_type": "stream",
     "text": [
      "  File \"/opt/conda/lib/python3.10/multiprocessing/process.py\", line 108, in run\n",
      "    self._target(*self._args, **self._kwargs)\n",
      "  File \"/tmp/ipykernel_70/1503203557.py\", line 11, in consume\n",
      "    item = q.get()\n",
      "  File \"/opt/conda/lib/python3.10/multiprocessing/queues.py\", line 103, in get\n",
      "    res = self._recv_bytes()\n",
      "  File \"/opt/conda/lib/python3.10/multiprocessing/connection.py\", line 221, in recv_bytes\n",
      "    buf = self._recv_bytes(maxlength)\n",
      "  File \"/opt/conda/lib/python3.10/multiprocessing/connection.py\", line 419, in _recv_bytes\n",
      "    buf = self._recv(4)\n",
      "  File \"/opt/conda/lib/python3.10/multiprocessing/connection.py\", line 384, in _recv\n",
      "    chunk = read(handle, remaining)\n",
      "KeyboardInterrupt\n"
     ]
    }
   ],
   "source": [
    "import multiprocessing\n",
    "\n",
    "# creating a queue\n",
    "def producer(q):\n",
    "    for i in [\"sudh\", \"kumar\", \"pwskills\", \"abcd\"]:\n",
    "        q.put(i)\n",
    "    \n",
    "# getting the items from queue\n",
    "def consume(q):\n",
    "    while True:\n",
    "        item = q.get()\n",
    "        if item is None:\n",
    "            break\n",
    "        print(item)\n",
    "\n",
    "# main program for storing the data in the form of queue and then retrieving it in FIFO form\n",
    "if __name__ == \"__main__\" :\n",
    "    queue = multiprocessing.Queue()\n",
    "    m1 = multiprocessing.Process(target = producer, args = (queue,))\n",
    "    m2 = multiprocessing.Process(target = consume, args = (queue,))\n",
    "    m1.start()\n",
    "    m2.start()\n",
    "    queue.put(\"xyz\")\n",
    "    m1.join()\n",
    "    m2.join()\n",
    "    \n",
    "\n",
    "\n",
    "    "
   ]
  },
  {
   "cell_type": "code",
   "execution_count": 4,
   "id": "7e9cf94b-7056-4208-9cbc-2a5e4b105a7f",
   "metadata": {},
   "outputs": [],
   "source": [
    "# calculating square of items in the list "
   ]
  },
  {
   "cell_type": "code",
   "execution_count": 5,
   "id": "5fa84310-2f5d-4961-9795-477185502a29",
   "metadata": {},
   "outputs": [],
   "source": [
    "import multiprocessing"
   ]
  },
  {
   "cell_type": "code",
   "execution_count": 6,
   "id": "d6039c04-d238-4afc-83f3-f1ff3c44dfd5",
   "metadata": {},
   "outputs": [
    {
     "ename": "NameError",
     "evalue": "name 'i' is not defined",
     "output_type": "error",
     "traceback": [
      "\u001b[0;31m---------------------------------------------------------------------------\u001b[0m",
      "\u001b[0;31mNameError\u001b[0m                                 Traceback (most recent call last)",
      "Cell \u001b[0;32mIn[6], line 6\u001b[0m\n\u001b[1;32m      4\u001b[0m \u001b[38;5;66;03m# invoking the main function of python\u001b[39;00m\n\u001b[1;32m      5\u001b[0m \u001b[38;5;28;01mif\u001b[39;00m \u001b[38;5;18m__name__\u001b[39m \u001b[38;5;241m==\u001b[39m \u001b[38;5;124m\"\u001b[39m\u001b[38;5;124m__main__\u001b[39m\u001b[38;5;124m\"\u001b[39m :\n\u001b[0;32m----> 6\u001b[0m     arr \u001b[38;5;241m=\u001b[39m multiprocessing\u001b[38;5;241m.\u001b[39mArray(\u001b[43mi\u001b[49m, [\u001b[38;5;241m3\u001b[39m,\u001b[38;5;241m6\u001b[39m,\u001b[38;5;241m9\u001b[39m,\u001b[38;5;241m19\u001b[39m,\u001b[38;5;241m22\u001b[39m,\u001b[38;5;241m34\u001b[39m,\u001b[38;5;241m1\u001b[39m])\n\u001b[1;32m      7\u001b[0m     process \u001b[38;5;241m=\u001b[39m []\n\u001b[1;32m      8\u001b[0m     m \u001b[38;5;241m=\u001b[39m multiprocessing\u001b[38;5;241m.\u001b[39mProcess(target \u001b[38;5;241m=\u001b[39m square, args \u001b[38;5;241m=\u001b[39m (i, arr))\n",
      "\u001b[0;31mNameError\u001b[0m: name 'i' is not defined"
     ]
    }
   ],
   "source": [
    "def square(index, value):\n",
    "    value[index] = value[index]**2\n",
    "\n",
    "# invoking the main function of python\n",
    "if __name__ == \"__main__\" :\n",
    "    arr = multiprocessing.Array(i, [3,6,9,19,22,34,1])\n",
    "    process = []\n",
    "    m = multiprocessing.Process(target = square, args = (i, arr))\n",
    "    process.append(m)\n",
    "    m.start()\n",
    "    for m in process:\n",
    "        m.join()\n",
    "    print(list(arr))"
   ]
  },
  {
   "cell_type": "code",
   "execution_count": null,
   "id": "e9a6c079-b6c1-4034-9c6c-958ac7d092b8",
   "metadata": {},
   "outputs": [],
   "source": []
  }
 ],
 "metadata": {
  "kernelspec": {
   "display_name": "Python 3 (ipykernel)",
   "language": "python",
   "name": "python3"
  },
  "language_info": {
   "codemirror_mode": {
    "name": "ipython",
    "version": 3
   },
   "file_extension": ".py",
   "mimetype": "text/x-python",
   "name": "python",
   "nbconvert_exporter": "python",
   "pygments_lexer": "ipython3",
   "version": "3.10.8"
  }
 },
 "nbformat": 4,
 "nbformat_minor": 5
}
