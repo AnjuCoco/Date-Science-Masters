{
 "cells": [
  {
   "cell_type": "code",
   "execution_count": 27,
   "id": "36df75e8-c272-47a9-940c-24588225024c",
   "metadata": {},
   "outputs": [],
   "source": [
    "def cir_area(r):\n",
    "    A = 3.14*r*r\n",
    "    return(A)\n",
    "def rect_area(l,b):\n",
    "    A = l*b\n",
    "    return(A)\n",
    "def cyl_area(r,h):\n",
    "    A = 2*3.14*r*h + 2*3.14*r*r\n",
    "    return(A)\n"
   ]
  },
  {
   "cell_type": "code",
   "execution_count": 23,
   "id": "a87fc7a3-20e3-4190-b6c3-f47172b7919d",
   "metadata": {},
   "outputs": [
    {
     "data": {
      "text/plain": [
       "78.5"
      ]
     },
     "execution_count": 23,
     "metadata": {},
     "output_type": "execute_result"
    }
   ],
   "source": [
    "cir_area(5)"
   ]
  },
  {
   "cell_type": "code",
   "execution_count": 24,
   "id": "3dc19072-3f5f-45f8-bc8a-28f8dca9e611",
   "metadata": {},
   "outputs": [
    {
     "data": {
      "text/plain": [
       "345.4"
      ]
     },
     "execution_count": 24,
     "metadata": {},
     "output_type": "execute_result"
    }
   ],
   "source": [
    "cyl_area(5,6)"
   ]
  },
  {
   "cell_type": "code",
   "execution_count": 28,
   "id": "7d3b22cc-eb0a-4cd6-bcb8-aa50a5358dfe",
   "metadata": {},
   "outputs": [
    {
     "data": {
      "text/plain": [
       "63"
      ]
     },
     "execution_count": 28,
     "metadata": {},
     "output_type": "execute_result"
    }
   ],
   "source": [
    "rect_area(7,9)"
   ]
  },
  {
   "cell_type": "code",
   "execution_count": 12,
   "id": "7639a34f-23d5-4534-a9df-0cb4b70c3639",
   "metadata": {},
   "outputs": [],
   "source": [
    "def test():\n",
    "    return(4, 'PWSkills', 'Masters', 5, 8.99)"
   ]
  },
  {
   "cell_type": "code",
   "execution_count": 13,
   "id": "df267614-0033-4cd5-9cd1-342770e8e7f4",
   "metadata": {},
   "outputs": [
    {
     "data": {
      "text/plain": [
       "(4, 'PWSkills', 'Masters', 5, 8.99)"
      ]
     },
     "execution_count": 13,
     "metadata": {},
     "output_type": "execute_result"
    }
   ],
   "source": [
    "test()"
   ]
  },
  {
   "cell_type": "code",
   "execution_count": 14,
   "id": "19bab4ec-e848-46f6-928a-5b5f745411fd",
   "metadata": {},
   "outputs": [
    {
     "data": {
      "text/plain": [
       "4"
      ]
     },
     "execution_count": 14,
     "metadata": {},
     "output_type": "execute_result"
    }
   ],
   "source": [
    "test()[0]"
   ]
  },
  {
   "cell_type": "code",
   "execution_count": 15,
   "id": "95024009-b536-4b09-a587-4fafe0fe37dc",
   "metadata": {},
   "outputs": [
    {
     "data": {
      "text/plain": [
       "5"
      ]
     },
     "execution_count": 15,
     "metadata": {},
     "output_type": "execute_result"
    }
   ],
   "source": [
    "test()[3]"
   ]
  },
  {
   "cell_type": "code",
   "execution_count": 16,
   "id": "684b9a0a-35e8-4adf-abd5-f683638bb554",
   "metadata": {},
   "outputs": [
    {
     "data": {
      "text/plain": [
       "'Masters'"
      ]
     },
     "execution_count": 16,
     "metadata": {},
     "output_type": "execute_result"
    }
   ],
   "source": [
    "test()[2]"
   ]
  },
  {
   "cell_type": "code",
   "execution_count": 17,
   "id": "b4de070b-5fe6-4ca2-89aa-a326ad0117af",
   "metadata": {},
   "outputs": [
    {
     "data": {
      "text/plain": [
       "(4, 'PWSkills', 'Masters', 5, 8.99)"
      ]
     },
     "execution_count": 17,
     "metadata": {},
     "output_type": "execute_result"
    }
   ],
   "source": [
    "test()"
   ]
  },
  {
   "cell_type": "code",
   "execution_count": 18,
   "id": "4e7214e9-58fa-4156-b3e0-155f08e063fc",
   "metadata": {},
   "outputs": [],
   "source": [
    "# assign \n",
    "a, b, c, d, e = test()"
   ]
  },
  {
   "cell_type": "code",
   "execution_count": 19,
   "id": "26632bf3-e195-4ec9-ae70-3bdf763ab3e8",
   "metadata": {},
   "outputs": [
    {
     "data": {
      "text/plain": [
       "4"
      ]
     },
     "execution_count": 19,
     "metadata": {},
     "output_type": "execute_result"
    }
   ],
   "source": [
    "a"
   ]
  },
  {
   "cell_type": "code",
   "execution_count": 20,
   "id": "52186a3c-a37a-40f8-b388-073cbdc17174",
   "metadata": {},
   "outputs": [
    {
     "data": {
      "text/plain": [
       "'PWSkills'"
      ]
     },
     "execution_count": 20,
     "metadata": {},
     "output_type": "execute_result"
    }
   ],
   "source": [
    "b"
   ]
  },
  {
   "cell_type": "code",
   "execution_count": 16,
   "id": "e75b1778-18c8-45b4-b6ed-e11d8616c545",
   "metadata": {},
   "outputs": [],
   "source": [
    "l = [3, 8,6, 11, 45, 'PWSkills', 'Data', 'Masters', [34,22,78, 100], {22.77, 3+9j, 89.98}]"
   ]
  },
  {
   "cell_type": "code",
   "execution_count": 17,
   "id": "c9541b42-0ae9-4335-88d3-ebd2ce58d1aa",
   "metadata": {},
   "outputs": [
    {
     "data": {
      "text/plain": [
       "[3,\n",
       " 8,\n",
       " 6,\n",
       " 11,\n",
       " 45,\n",
       " 'PWSkills',\n",
       " 'Data',\n",
       " 'Masters',\n",
       " [34, 22, 78, 100],\n",
       " {(3+9j), 22.77, 89.98}]"
      ]
     },
     "execution_count": 17,
     "metadata": {},
     "output_type": "execute_result"
    }
   ],
   "source": [
    "l"
   ]
  },
  {
   "cell_type": "code",
   "execution_count": 13,
   "id": "69dbf00b-35b1-4f79-83a8-9d5ab8e10403",
   "metadata": {},
   "outputs": [],
   "source": [
    "# extract intergers and float entries from the complete list including list and set in the example\n",
    "def test1(a):\n",
    "    n = []\n",
    "    for i in a:\n",
    "        if type(i) == list:\n",
    "            for j in i:\n",
    "                if type(j) == int or type(j) == float:\n",
    "                    n.append(j)\n",
    "        elif type(i) == set:\n",
    "            for j in i:\n",
    "                if type(j) == int or type(j) == float:\n",
    "                    n.append(j)\n",
    "        else :\n",
    "            if type(i) == int or type(i) == float:\n",
    "                    n.append(i)\n",
    "    return(n)"
   ]
  },
  {
   "cell_type": "code",
   "execution_count": 15,
   "id": "9164ac85-b46b-4045-9e2e-683d607f91b8",
   "metadata": {},
   "outputs": [
    {
     "data": {
      "text/plain": [
       "[3, 8, 6, 11, 45, 34, 22, 78, 100, 89.98, 22.77]"
      ]
     },
     "execution_count": 15,
     "metadata": {},
     "output_type": "execute_result"
    }
   ],
   "source": [
    "test1(l)"
   ]
  },
  {
   "cell_type": "code",
   "execution_count": 33,
   "id": "9cd80349-dac1-473a-b76d-ef7fb9406be5",
   "metadata": {},
   "outputs": [],
   "source": [
    "# yeahhhh"
   ]
  },
  {
   "cell_type": "code",
   "execution_count": 34,
   "id": "59f3b271-d69d-46e8-83c7-9e7dcf834994",
   "metadata": {},
   "outputs": [
    {
     "data": {
      "text/plain": [
       "[3,\n",
       " 8,\n",
       " 6,\n",
       " 11,\n",
       " 45,\n",
       " 'PWSkills',\n",
       " 'Data',\n",
       " 'Masters',\n",
       " [34, 22, 78, 100],\n",
       " {(3+9j), 22.77, 89.98}]"
      ]
     },
     "execution_count": 34,
     "metadata": {},
     "output_type": "execute_result"
    }
   ],
   "source": [
    "l"
   ]
  },
  {
   "cell_type": "code",
   "execution_count": 18,
   "id": "bcaa2f24-6d19-42a0-b05b-41445dc2cbbd",
   "metadata": {},
   "outputs": [],
   "source": [
    "# extract complex nos. from the complete list including list and set in the example\n",
    "def test2(a):\n",
    "    n = []\n",
    "    for i in a:\n",
    "        if type(i) == list:\n",
    "            for j in i:\n",
    "                if type(j) == complex:\n",
    "                    n.append(j)\n",
    "        elif type(i) == set:\n",
    "            for j in i:\n",
    "                if type(j) == complex:\n",
    "                    n.append(j)\n",
    "        else :\n",
    "            if type(i) == complex:\n",
    "                    n.append(i)\n",
    "    return(n)"
   ]
  },
  {
   "cell_type": "code",
   "execution_count": 19,
   "id": "064281e1-d413-40c6-9116-99351a11411a",
   "metadata": {},
   "outputs": [
    {
     "data": {
      "text/plain": [
       "[(3+9j)]"
      ]
     },
     "execution_count": 19,
     "metadata": {},
     "output_type": "execute_result"
    }
   ],
   "source": [
    "test2(l)"
   ]
  },
  {
   "cell_type": "code",
   "execution_count": 10,
   "id": "cfb89941-4948-4be0-a0e0-95c8625b3348",
   "metadata": {},
   "outputs": [],
   "source": [
    "# extract strings from the complete list including list and set in the example\n",
    "def test3(a):\n",
    "    n = []\n",
    "    for i in a:\n",
    "        if type(i) == str:\n",
    "            for j in i:\n",
    "                if type(j) == str:\n",
    "                    n.append(j)\n",
    "        elif type(i) == str:\n",
    "            for j in i:\n",
    "                if type(j) == str:\n",
    "                    n.append(j)\n",
    "        else :\n",
    "            if type(i) == str:\n",
    "                    n.append(i)\n",
    "    return(n)"
   ]
  },
  {
   "cell_type": "code",
   "execution_count": 3,
   "id": "e9d6a0cf-d52c-4089-a9e4-df47b2a3c0e8",
   "metadata": {},
   "outputs": [],
   "source": [
    "l = [3,\n",
    " 8,\n",
    " 6,\n",
    " 11,\n",
    " 45,\n",
    " 'PWSkills',\n",
    " 'Data',\n",
    " 'Masters',\n",
    " [34, 22, 78, 100],\n",
    " {(3+9j), 22.77, 89.98}]"
   ]
  },
  {
   "cell_type": "code",
   "execution_count": 11,
   "id": "8ac1698b-24f0-4c25-84dd-e0ab36caf01b",
   "metadata": {},
   "outputs": [
    {
     "data": {
      "text/plain": [
       "['P',\n",
       " 'W',\n",
       " 'S',\n",
       " 'k',\n",
       " 'i',\n",
       " 'l',\n",
       " 'l',\n",
       " 's',\n",
       " 'D',\n",
       " 'a',\n",
       " 't',\n",
       " 'a',\n",
       " 'M',\n",
       " 'a',\n",
       " 's',\n",
       " 't',\n",
       " 'e',\n",
       " 'r',\n",
       " 's']"
      ]
     },
     "execution_count": 11,
     "metadata": {},
     "output_type": "execute_result"
    }
   ],
   "source": [
    "test3(l)"
   ]
  },
  {
   "cell_type": "code",
   "execution_count": 22,
   "id": "e5bf0d48-2ec9-4f81-9c31-e3325908ab99",
   "metadata": {},
   "outputs": [
    {
     "data": {
      "text/plain": [
       "[3, 8, 6, 11, 45, 34, 22, 78, 100, 89.98, 22.77]"
      ]
     },
     "execution_count": 22,
     "metadata": {},
     "output_type": "execute_result"
    }
   ],
   "source": [
    "test1(l)\n"
   ]
  },
  {
   "cell_type": "code",
   "execution_count": 23,
   "id": "16f8c682-86ba-4f6f-ae55-248ca181b787",
   "metadata": {},
   "outputs": [
    {
     "data": {
      "text/plain": [
       "[(3+9j)]"
      ]
     },
     "execution_count": 23,
     "metadata": {},
     "output_type": "execute_result"
    }
   ],
   "source": [
    "test2(l)"
   ]
  },
  {
   "cell_type": "code",
   "execution_count": 24,
   "id": "5e744454-cf25-43d8-9b33-f154bc23e161",
   "metadata": {},
   "outputs": [
    {
     "data": {
      "text/plain": [
       "['P',\n",
       " 'W',\n",
       " 'S',\n",
       " 'k',\n",
       " 'i',\n",
       " 'l',\n",
       " 'l',\n",
       " 's',\n",
       " 'D',\n",
       " 'a',\n",
       " 't',\n",
       " 'a',\n",
       " 'M',\n",
       " 'a',\n",
       " 's',\n",
       " 't',\n",
       " 'e',\n",
       " 'r',\n",
       " 's']"
      ]
     },
     "execution_count": 24,
     "metadata": {},
     "output_type": "execute_result"
    }
   ],
   "source": [
    "test3(l)"
   ]
  },
  {
   "cell_type": "code",
   "execution_count": null,
   "id": "f3ebce06-5b75-4020-8e3a-52a4eacaa500",
   "metadata": {},
   "outputs": [],
   "source": []
  }
 ],
 "metadata": {
  "kernelspec": {
   "display_name": "Python 3 (ipykernel)",
   "language": "python",
   "name": "python3"
  },
  "language_info": {
   "codemirror_mode": {
    "name": "ipython",
    "version": 3
   },
   "file_extension": ".py",
   "mimetype": "text/x-python",
   "name": "python",
   "nbconvert_exporter": "python",
   "pygments_lexer": "ipython3",
   "version": "3.10.8"
  }
 },
 "nbformat": 4,
 "nbformat_minor": 5
}
