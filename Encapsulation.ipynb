{
 "cells": [
  {
   "cell_type": "code",
   "execution_count": 47,
   "id": "ef8eb92d-d6b8-4b6d-a969-15368dffa67c",
   "metadata": {},
   "outputs": [],
   "source": [
    "class bank_account:\n",
    "    def __init__(self, balance):\n",
    "        self.__balance = balance\n",
    "        \n",
    "    def deposit(self, amount):\n",
    "        self.__balance = self.__balance + amount\n",
    "    \n",
    "    def withdraw(self, amount):\n",
    "        if amount < self.__balance:\n",
    "            self.__balance = self.__balance - amount\n",
    "            print(\"Your transaction is successful\")\n",
    "        else:\n",
    "            print(\"Insufficient balance\")\n",
    "    \n",
    "    def get_balance(self):\n",
    "        return self.__balance"
   ]
  },
  {
   "cell_type": "code",
   "execution_count": 24,
   "id": "99f12507-fa65-4aed-85d9-7c0a2d312edc",
   "metadata": {},
   "outputs": [],
   "source": [
    "obj_bank_account = bank_account(10000)"
   ]
  },
  {
   "cell_type": "code",
   "execution_count": 31,
   "id": "f4c1da37-233a-4dbc-996c-27e8182aa8c4",
   "metadata": {},
   "outputs": [],
   "source": [
    "obj_bank_account.deposit(1000)"
   ]
  },
  {
   "cell_type": "code",
   "execution_count": 32,
   "id": "a88f6c99-830e-4958-8f61-8b521a065433",
   "metadata": {},
   "outputs": [
    {
     "data": {
      "text/plain": [
       "11000"
      ]
     },
     "execution_count": 32,
     "metadata": {},
     "output_type": "execute_result"
    }
   ],
   "source": [
    "obj_bank_account.get_balance()"
   ]
  },
  {
   "cell_type": "code",
   "execution_count": 29,
   "id": "a4a02b60-55aa-4551-acb5-693e24ea2073",
   "metadata": {},
   "outputs": [
    {
     "name": "stdout",
     "output_type": "stream",
     "text": [
      "Insufficient balance\n"
     ]
    }
   ],
   "source": [
    "obj_bank_account.withdraw(12000)"
   ]
  },
  {
   "cell_type": "code",
   "execution_count": 42,
   "id": "4c4c84d7-771b-4fa6-87c3-42770856c95a",
   "metadata": {},
   "outputs": [
    {
     "name": "stdout",
     "output_type": "stream",
     "text": [
      "Balance in account is:  11000\n"
     ]
    }
   ],
   "source": [
    "obj_bank_account.withdraw(7999)"
   ]
  },
  {
   "cell_type": "code",
   "execution_count": 34,
   "id": "b6d99155-5477-4e8e-b010-c647313ed075",
   "metadata": {},
   "outputs": [
    {
     "data": {
      "text/plain": [
       "11000"
      ]
     },
     "execution_count": 34,
     "metadata": {},
     "output_type": "execute_result"
    }
   ],
   "source": [
    "obj_bank_account.get_balance()"
   ]
  },
  {
   "cell_type": "code",
   "execution_count": 44,
   "id": "6029d230-de52-4762-a23d-dd600d04d8ad",
   "metadata": {},
   "outputs": [
    {
     "name": "stdout",
     "output_type": "stream",
     "text": [
      "Balance in account is:  11000\n"
     ]
    }
   ],
   "source": [
    "obj_bank_account.withdraw(2000)"
   ]
  },
  {
   "cell_type": "code",
   "execution_count": 48,
   "id": "aa7b639f-09e7-4189-b110-359aeeda83f9",
   "metadata": {},
   "outputs": [
    {
     "name": "stdout",
     "output_type": "stream",
     "text": [
      "Balance in account is:  11000\n"
     ]
    }
   ],
   "source": [
    "obj_bank_account.withdraw(1000)"
   ]
  },
  {
   "cell_type": "markdown",
   "id": "6a06ea41-6868-4618-b256-cbbb14ec76e4",
   "metadata": {},
   "source": [
    "## Inheritance"
   ]
  },
  {
   "cell_type": "code",
   "execution_count": 1,
   "id": "fa7eaed4-4599-49d3-a63b-7665f04c5b99",
   "metadata": {},
   "outputs": [],
   "source": [
    "# Multilevel "
   ]
  },
  {
   "cell_type": "code",
   "execution_count": 5,
   "id": "3f739683-9271-409f-9dbf-796931da9cc7",
   "metadata": {},
   "outputs": [],
   "source": [
    "class test1:\n",
    "    def call_test1(self):\n",
    "        print(\"test1\")\n",
    "\n",
    "class test2(test1):\n",
    "    def call_test2(self):\n",
    "        print(\"test2\")\n",
    "\n",
    "class test3(test2):\n",
    "    def call_test3(self):\n",
    "        print(\"test3\")\n",
    "              "
   ]
  },
  {
   "cell_type": "code",
   "execution_count": 11,
   "id": "bd5df7d1-e432-456f-90c5-67920bf8a007",
   "metadata": {},
   "outputs": [],
   "source": [
    "obj_test3 = test3() # creating object in class test3"
   ]
  },
  {
   "cell_type": "code",
   "execution_count": 12,
   "id": "a275a111-7dd6-4f42-89ae-8276bbe93c24",
   "metadata": {},
   "outputs": [
    {
     "name": "stdout",
     "output_type": "stream",
     "text": [
      "test2\n"
     ]
    }
   ],
   "source": [
    "obj_test3.call_test2() # inheriting char. of test2 class through test3 class"
   ]
  },
  {
   "cell_type": "code",
   "execution_count": 13,
   "id": "60ef811d-0587-4bce-8916-3a9361e7db98",
   "metadata": {},
   "outputs": [
    {
     "name": "stdout",
     "output_type": "stream",
     "text": [
      "test1\n"
     ]
    }
   ],
   "source": [
    "obj_test3.call_test1() # inheriting char. of test1 class through test3 and test2 class"
   ]
  },
  {
   "cell_type": "code",
   "execution_count": 10,
   "id": "d7bc2efd-8d15-4f25-8b19-e1038a4b8e6a",
   "metadata": {},
   "outputs": [
    {
     "name": "stdout",
     "output_type": "stream",
     "text": [
      "test3\n"
     ]
    }
   ],
   "source": [
    "obj_test3.call_test3()"
   ]
  },
  {
   "cell_type": "code",
   "execution_count": 14,
   "id": "437e7d97-cdb0-490f-a095-7cccb7c45916",
   "metadata": {},
   "outputs": [],
   "source": [
    "# Multiple inheritance"
   ]
  },
  {
   "cell_type": "code",
   "execution_count": 20,
   "id": "b768509b-65c3-49fd-97fb-b4bcf85ea22e",
   "metadata": {},
   "outputs": [],
   "source": [
    "class test1:\n",
    "    def call_test1(self):\n",
    "        print(\"1\")\n",
    "class test2:\n",
    "    def call_test2(self):\n",
    "        print(\"2\")\n",
    "class test3(test1, test2):\n",
    "    def call_test3(self):\n",
    "        print(\"3\")"
   ]
  },
  {
   "cell_type": "code",
   "execution_count": 21,
   "id": "fdb15727-992a-4223-b993-a60c2aa28713",
   "metadata": {},
   "outputs": [],
   "source": [
    "obj_test3 = test3() # creating object in class test3"
   ]
  },
  {
   "cell_type": "code",
   "execution_count": 26,
   "id": "19c597c2-e757-4e9c-8a39-d0d2689dc114",
   "metadata": {},
   "outputs": [
    {
     "name": "stdout",
     "output_type": "stream",
     "text": [
      "1\n"
     ]
    }
   ],
   "source": [
    "obj_test3.call_test1() # directly inheriting char. of test1 class through test3"
   ]
  },
  {
   "cell_type": "code",
   "execution_count": 25,
   "id": "262e5b74-59a9-431f-aac7-f4d1e67e3955",
   "metadata": {},
   "outputs": [
    {
     "name": "stdout",
     "output_type": "stream",
     "text": [
      "2\n"
     ]
    }
   ],
   "source": [
    "obj_test3.call_test2() # directly inheriting char. of test1 class through test3"
   ]
  },
  {
   "cell_type": "code",
   "execution_count": 24,
   "id": "96f30d7e-2ec1-42a6-a031-16bfd9849c5d",
   "metadata": {},
   "outputs": [
    {
     "name": "stdout",
     "output_type": "stream",
     "text": [
      "3\n"
     ]
    }
   ],
   "source": [
    "obj_test3.call_test3()"
   ]
  },
  {
   "cell_type": "markdown",
   "id": "b043adfd-4ad9-473f-9f02-7db058982bab",
   "metadata": {},
   "source": [
    "## Abstraction"
   ]
  },
  {
   "cell_type": "code",
   "execution_count": 13,
   "id": "266aac46-4e0f-4a6e-8632-6626617be032",
   "metadata": {},
   "outputs": [],
   "source": [
    "# abstraction is for creating template which would run for programs in the background \n",
    "# and return values when it is called for\n",
    "\n",
    "import abc\n",
    "\n",
    "class pwskills:\n",
    "    @abc.abstractmethod\n",
    "    def student_details(self):\n",
    "        pass\n",
    "    \n",
    "    @abc.abstractmethod\n",
    "    def student_assignments(self):\n",
    "        pass\n",
    "    \n",
    "    @abc.abstractmethod\n",
    "    def student_marks(self):\n",
    "        pass"
   ]
  },
  {
   "cell_type": "code",
   "execution_count": 4,
   "id": "7aeed881-9531-4a3c-a243-b0e8ecaaaae0",
   "metadata": {},
   "outputs": [],
   "source": [
    "class data_science(pwskills):\n",
    "    def student_details(self):\n",
    "        return \"These are students from Data Science batch\"\n",
    "    \n",
    "    def student_marks(self):\n",
    "        return \"These marks are for students from Data Science batch\""
   ]
  },
  {
   "cell_type": "code",
   "execution_count": 5,
   "id": "f2584533-00b8-4734-928c-9dd8e48ba1b9",
   "metadata": {},
   "outputs": [],
   "source": [
    "class web_dev(pwskills):\n",
    "    def student_details(self):\n",
    "        return \"These are students from Web Development batch\"\n",
    "    \n",
    "    def student_marks(self):\n",
    "        return \"These marks are for students from Web Development batch\""
   ]
  },
  {
   "cell_type": "code",
   "execution_count": 6,
   "id": "beca29db-30db-4471-b20e-4fcb3bd73371",
   "metadata": {},
   "outputs": [],
   "source": [
    "ds = data_science()"
   ]
  },
  {
   "cell_type": "code",
   "execution_count": 7,
   "id": "3b265bd0-7608-493c-89fa-5be41ee957ec",
   "metadata": {},
   "outputs": [
    {
     "data": {
      "text/plain": [
       "'These marks are for students from Data Science batch'"
      ]
     },
     "execution_count": 7,
     "metadata": {},
     "output_type": "execute_result"
    }
   ],
   "source": [
    "ds.student_marks()"
   ]
  },
  {
   "cell_type": "code",
   "execution_count": 8,
   "id": "42108e12-7cd9-4804-8e46-e5385d71c3a6",
   "metadata": {},
   "outputs": [
    {
     "data": {
      "text/plain": [
       "'These marks are for students from Data Science batch'"
      ]
     },
     "execution_count": 8,
     "metadata": {},
     "output_type": "execute_result"
    }
   ],
   "source": [
    "ds.student_marks()"
   ]
  },
  {
   "cell_type": "code",
   "execution_count": 9,
   "id": "52ee1f7e-f0b2-43a1-a121-6854097c1491",
   "metadata": {},
   "outputs": [],
   "source": [
    "wd = web_dev()"
   ]
  },
  {
   "cell_type": "code",
   "execution_count": 10,
   "id": "a078c554-64ce-4bdd-8e43-32fe02d0b2f8",
   "metadata": {},
   "outputs": [
    {
     "data": {
      "text/plain": [
       "'These are students from Web Development batch'"
      ]
     },
     "execution_count": 10,
     "metadata": {},
     "output_type": "execute_result"
    }
   ],
   "source": [
    "wd.student_details()"
   ]
  },
  {
   "cell_type": "code",
   "execution_count": 11,
   "id": "9b486e80-ad96-4d59-822d-cef2e671f47b",
   "metadata": {},
   "outputs": [],
   "source": [
    "wd.student_assignments()"
   ]
  },
  {
   "cell_type": "code",
   "execution_count": 12,
   "id": "7b9f93c9-b0ed-4563-904e-b74c05a341bc",
   "metadata": {},
   "outputs": [],
   "source": [
    "ds.student_assignments()"
   ]
  },
  {
   "cell_type": "markdown",
   "id": "01701570-7225-409a-b948-b2e9a29cae90",
   "metadata": {},
   "source": [
    "## Decorators"
   ]
  },
  {
   "cell_type": "code",
   "execution_count": 14,
   "id": "a804f751-dde5-4fcb-8b74-d35422528de7",
   "metadata": {},
   "outputs": [],
   "source": [
    "# used to create a template and remove repeated activities from various functions"
   ]
  },
  {
   "cell_type": "code",
   "execution_count": 15,
   "id": "fa0ea83a-3570-4579-a569-0404e761c2c8",
   "metadata": {},
   "outputs": [],
   "source": [
    "def deco(func):\n",
    "    def inner_deco():\n",
    "        print(\"Start\")\n",
    "        func()\n",
    "        print(\"end\")\n",
    "    return inner_deco"
   ]
  },
  {
   "cell_type": "code",
   "execution_count": 16,
   "id": "9f7338c3-db36-40c6-a933-7e37df10d899",
   "metadata": {},
   "outputs": [],
   "source": [
    "@deco\n",
    "def test2():\n",
    "    print(33+11)"
   ]
  },
  {
   "cell_type": "code",
   "execution_count": 17,
   "id": "23021180-418e-4e10-b2ea-663b1da146e4",
   "metadata": {},
   "outputs": [
    {
     "name": "stdout",
     "output_type": "stream",
     "text": [
      "Start\n",
      "44\n",
      "end\n"
     ]
    }
   ],
   "source": [
    "test2()"
   ]
  },
  {
   "cell_type": "code",
   "execution_count": 18,
   "id": "35819cc8-1a92-47f2-8d91-055d068526fb",
   "metadata": {},
   "outputs": [],
   "source": [
    "@deco\n",
    "def test3():\n",
    "    print(\"Sing a song\")"
   ]
  },
  {
   "cell_type": "code",
   "execution_count": 19,
   "id": "a9f180f9-39b4-4157-b67e-293bb053da81",
   "metadata": {},
   "outputs": [
    {
     "name": "stdout",
     "output_type": "stream",
     "text": [
      "Start\n",
      "Sing a song\n",
      "end\n"
     ]
    }
   ],
   "source": [
    "test3()"
   ]
  },
  {
   "cell_type": "code",
   "execution_count": 30,
   "id": "9d610e40-5f62-49d6-9bce-4a5feae25ea1",
   "metadata": {},
   "outputs": [],
   "source": [
    "# decorator function for calculating the time taken to complete the activites\n",
    "import time\n",
    "def timer_test(func):\n",
    "    def inner_timer_test():\n",
    "        start = time.time()\n",
    "        func()\n",
    "        end = time.time()\n",
    "        print(\"\\ntotal time taken to execute  the activities :\", end-start)\n",
    "    return inner_timer_test"
   ]
  },
  {
   "cell_type": "code",
   "execution_count": 21,
   "id": "b0ae4a17-47d6-48e3-9cf6-0d4f229d3077",
   "metadata": {},
   "outputs": [],
   "source": [
    "@timer_test\n",
    "def test4():\n",
    "    print(1000+789)"
   ]
  },
  {
   "cell_type": "code",
   "execution_count": 22,
   "id": "733380da-cf97-4ebf-86d8-d8c51a61c389",
   "metadata": {},
   "outputs": [
    {
     "name": "stdout",
     "output_type": "stream",
     "text": [
      "1789\n",
      "total time taken to execute  the activities : 4.7206878662109375e-05\n"
     ]
    }
   ],
   "source": [
    "test4()"
   ]
  },
  {
   "cell_type": "code",
   "execution_count": 32,
   "id": "4c8fdd18-2233-4041-8fa7-ee783f860263",
   "metadata": {},
   "outputs": [],
   "source": [
    "@timer_test\n",
    "def test5():\n",
    "    for i in range(30):\n",
    "        if i%2 ==0:\n",
    "            print(i, end = ' ')"
   ]
  },
  {
   "cell_type": "code",
   "execution_count": 31,
   "id": "eaa5fbd1-ba7f-4201-b870-67b8505275b4",
   "metadata": {},
   "outputs": [
    {
     "name": "stdout",
     "output_type": "stream",
     "text": [
      "0 2 4 6 8 10 12 14 16 18 20 22 24 26 28 \n",
      " total time taken to execute  the activities : 0.00010037422180175781\n"
     ]
    }
   ],
   "source": [
    "test5()"
   ]
  },
  {
   "cell_type": "code",
   "execution_count": null,
   "id": "d3366260-6891-4c35-bdf4-225d4e0e0bb4",
   "metadata": {},
   "outputs": [],
   "source": []
  }
 ],
 "metadata": {
  "kernelspec": {
   "display_name": "Python 3 (ipykernel)",
   "language": "python",
   "name": "python3"
  },
  "language_info": {
   "codemirror_mode": {
    "name": "ipython",
    "version": 3
   },
   "file_extension": ".py",
   "mimetype": "text/x-python",
   "name": "python",
   "nbconvert_exporter": "python",
   "pygments_lexer": "ipython3",
   "version": "3.10.8"
  }
 },
 "nbformat": 4,
 "nbformat_minor": 5
}
