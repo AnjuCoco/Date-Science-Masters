{
 "cells": [
  {
   "cell_type": "code",
   "execution_count": 1,
   "id": "d0e2ea10-6fba-4e4d-9f9b-c7223b71f75c",
   "metadata": {},
   "outputs": [],
   "source": [
    "t1 = (1, 2, 3, 8, 10, 23.55, 2+5j, 'PW', 'Masters')"
   ]
  },
  {
   "cell_type": "code",
   "execution_count": 2,
   "id": "675c5e2d-12a7-43b3-8a64-82db56f724d9",
   "metadata": {},
   "outputs": [
    {
     "data": {
      "text/plain": [
       "(1, 2, 3, 8, 10, 23.55, (2+5j), 'PW', 'Masters')"
      ]
     },
     "execution_count": 2,
     "metadata": {},
     "output_type": "execute_result"
    }
   ],
   "source": [
    "t1"
   ]
  },
  {
   "cell_type": "code",
   "execution_count": 3,
   "id": "58fa1019-5a87-4a89-ba52-8d9f2391fdd0",
   "metadata": {},
   "outputs": [
    {
     "data": {
      "text/plain": [
       "('Masters', 'PW', (2+5j), 23.55, 10, 8, 3, 2, 1)"
      ]
     },
     "execution_count": 3,
     "metadata": {},
     "output_type": "execute_result"
    }
   ],
   "source": [
    "t1[::-1]"
   ]
  },
  {
   "cell_type": "code",
   "execution_count": 4,
   "id": "a11c6e56-fc69-4edf-95e2-379aff466de1",
   "metadata": {},
   "outputs": [],
   "source": [
    "t1 = t1[::-1]"
   ]
  },
  {
   "cell_type": "code",
   "execution_count": 5,
   "id": "142201ff-daea-4de4-bec5-2410a1fd70b5",
   "metadata": {},
   "outputs": [
    {
     "data": {
      "text/plain": [
       "('Masters', 'PW', (2+5j), 23.55, 10, 8, 3, 2, 1)"
      ]
     },
     "execution_count": 5,
     "metadata": {},
     "output_type": "execute_result"
    }
   ],
   "source": [
    "t1"
   ]
  },
  {
   "cell_type": "code",
   "execution_count": 6,
   "id": "afdb6c8e-f410-4e64-92da-2133e31c35ad",
   "metadata": {},
   "outputs": [
    {
     "data": {
      "text/plain": [
       "('Masters', 'PW', (2+5j))"
      ]
     },
     "execution_count": 6,
     "metadata": {},
     "output_type": "execute_result"
    }
   ],
   "source": [
    "t1[:3]"
   ]
  },
  {
   "cell_type": "code",
   "execution_count": 7,
   "id": "675f4a57-a184-47bd-8dda-b6855576c9b9",
   "metadata": {},
   "outputs": [
    {
     "data": {
      "text/plain": [
       "(1, 8, (2+5j))"
      ]
     },
     "execution_count": 7,
     "metadata": {},
     "output_type": "execute_result"
    }
   ],
   "source": [
    "# -3 is the step size i.e. - refers to reverse order, so starts with 1\n",
    "# after third step comes 8 and then 2+5j and so on\n",
    "t1[::-3]"
   ]
  },
  {
   "cell_type": "code",
   "execution_count": 8,
   "id": "844e1aa1-2eb1-46e9-8a66-5168901ff928",
   "metadata": {},
   "outputs": [
    {
     "data": {
      "text/plain": [
       "(1, 3, 10, (2+5j), 'Masters')"
      ]
     },
     "execution_count": 8,
     "metadata": {},
     "output_type": "execute_result"
    }
   ],
   "source": [
    "t1[::-2]"
   ]
  },
  {
   "cell_type": "code",
   "execution_count": 13,
   "id": "3fdc8e04-67e4-46c5-a6f2-ba5003157f63",
   "metadata": {},
   "outputs": [
    {
     "data": {
      "text/plain": [
       "((2+5j), 23.55, 10, 8, 3, 2, 1)"
      ]
     },
     "execution_count": 13,
     "metadata": {},
     "output_type": "execute_result"
    }
   ],
   "source": [
    "# this slices first two elements or first and 2nd index elemnets from tuple\n",
    "t1[2::]"
   ]
  },
  {
   "cell_type": "code",
   "execution_count": 14,
   "id": "c5fb7bc9-599b-4d54-9cd1-b16b19bffcc3",
   "metadata": {},
   "outputs": [
    {
     "data": {
      "text/plain": [
       "((2+5j), 23.55, 10, 8, 3)"
      ]
     },
     "execution_count": 14,
     "metadata": {},
     "output_type": "execute_result"
    }
   ],
   "source": [
    "# selection of elements from the mid\n",
    "t1[2:7]"
   ]
  },
  {
   "cell_type": "code",
   "execution_count": 12,
   "id": "2029c381-6881-4aa3-a1c0-ee1d7bea3934",
   "metadata": {},
   "outputs": [
    {
     "data": {
      "text/plain": [
       "('Masters', 'PW', (2+5j), 23.55)"
      ]
     },
     "execution_count": 12,
     "metadata": {},
     "output_type": "execute_result"
    }
   ],
   "source": [
    "t1[:4:]"
   ]
  },
  {
   "cell_type": "code",
   "execution_count": 17,
   "id": "edbc4d67-5674-4231-901e-ae955aad7d0b",
   "metadata": {},
   "outputs": [
    {
     "data": {
      "text/plain": [
       "1"
      ]
     },
     "execution_count": 17,
     "metadata": {},
     "output_type": "execute_result"
    }
   ],
   "source": [
    "t1.count(10)"
   ]
  },
  {
   "cell_type": "code",
   "execution_count": 18,
   "id": "57b01a48-3166-433d-bc4c-cdfe99d8ab04",
   "metadata": {},
   "outputs": [
    {
     "data": {
      "text/plain": [
       "4"
      ]
     },
     "execution_count": 18,
     "metadata": {},
     "output_type": "execute_result"
    }
   ],
   "source": [
    "t1.index(10)"
   ]
  },
  {
   "cell_type": "code",
   "execution_count": 19,
   "id": "9614814a-d00e-4f46-bfdb-8399ac741a3f",
   "metadata": {},
   "outputs": [
    {
     "data": {
      "text/plain": [
       "8"
      ]
     },
     "execution_count": 19,
     "metadata": {},
     "output_type": "execute_result"
    }
   ],
   "source": [
    "t1.index(1)"
   ]
  },
  {
   "cell_type": "code",
   "execution_count": 20,
   "id": "0355f88b-a562-4e30-9664-c04c7fd34552",
   "metadata": {},
   "outputs": [
    {
     "data": {
      "text/plain": [
       "('Masters', 'PW', (2+5j), 23.55, 10, 8, 3, 2, 1)"
      ]
     },
     "execution_count": 20,
     "metadata": {},
     "output_type": "execute_result"
    }
   ],
   "source": [
    "t1"
   ]
  },
  {
   "cell_type": "code",
   "execution_count": 21,
   "id": "ef89e986-b833-489a-b530-2aafdcd6dd04",
   "metadata": {},
   "outputs": [],
   "source": [
    "t2 = (9, 77, 56, 100, 12)"
   ]
  },
  {
   "cell_type": "code",
   "execution_count": 25,
   "id": "852cd58a-03bf-4868-947a-de15e4bfb478",
   "metadata": {},
   "outputs": [
    {
     "data": {
      "text/plain": [
       "100"
      ]
     },
     "execution_count": 25,
     "metadata": {},
     "output_type": "execute_result"
    }
   ],
   "source": [
    "max(t2)"
   ]
  },
  {
   "cell_type": "code",
   "execution_count": 26,
   "id": "ffe380ea-5596-4431-ba5d-4d6ca79284ff",
   "metadata": {},
   "outputs": [],
   "source": [
    "t1 = (23.55, 10, 8, 3, 2, 1)"
   ]
  },
  {
   "cell_type": "code",
   "execution_count": 27,
   "id": "8ddce4a7-723f-4834-8784-bdacdb63629c",
   "metadata": {},
   "outputs": [
    {
     "data": {
      "text/plain": [
       "23.55"
      ]
     },
     "execution_count": 27,
     "metadata": {},
     "output_type": "execute_result"
    }
   ],
   "source": [
    "max(t1)"
   ]
  },
  {
   "cell_type": "code",
   "execution_count": 28,
   "id": "7c04f094-7c02-4adf-b337-273d44fcd18f",
   "metadata": {},
   "outputs": [
    {
     "data": {
      "text/plain": [
       "9"
      ]
     },
     "execution_count": 28,
     "metadata": {},
     "output_type": "execute_result"
    }
   ],
   "source": [
    "min(t2)"
   ]
  },
  {
   "cell_type": "code",
   "execution_count": 29,
   "id": "46da5643-79cf-4ade-99b3-de017c7144d8",
   "metadata": {},
   "outputs": [
    {
     "data": {
      "text/plain": [
       "1"
      ]
     },
     "execution_count": 29,
     "metadata": {},
     "output_type": "execute_result"
    }
   ],
   "source": [
    "min(t1)"
   ]
  },
  {
   "cell_type": "code",
   "execution_count": 30,
   "id": "0570a468-41ad-4e40-b65e-280e8b60032c",
   "metadata": {},
   "outputs": [],
   "source": [
    "t3 = (t1, t2)"
   ]
  },
  {
   "cell_type": "code",
   "execution_count": 31,
   "id": "48827f10-43fc-49e1-836c-0e5dea8ffb22",
   "metadata": {},
   "outputs": [
    {
     "data": {
      "text/plain": [
       "((23.55, 10, 8, 3, 2, 1), (9, 77, 56, 100, 12))"
      ]
     },
     "execution_count": 31,
     "metadata": {},
     "output_type": "execute_result"
    }
   ],
   "source": [
    "t3"
   ]
  },
  {
   "cell_type": "code",
   "execution_count": 35,
   "id": "11f81c0a-c1c6-49b4-baa0-d5866d306368",
   "metadata": {},
   "outputs": [
    {
     "data": {
      "text/plain": [
       "False"
      ]
     },
     "execution_count": 35,
     "metadata": {},
     "output_type": "execute_result"
    }
   ],
   "source": [
    "100 in t3"
   ]
  },
  {
   "cell_type": "code",
   "execution_count": 36,
   "id": "33eae2e1-5676-4476-af1c-2b9073bfd3da",
   "metadata": {},
   "outputs": [
    {
     "data": {
      "text/plain": [
       "True"
      ]
     },
     "execution_count": 36,
     "metadata": {},
     "output_type": "execute_result"
    }
   ],
   "source": [
    "23.55 in t1"
   ]
  },
  {
   "cell_type": "code",
   "execution_count": 37,
   "id": "e3a53103-24e2-4d3a-9c90-abb42834a925",
   "metadata": {},
   "outputs": [
    {
     "data": {
      "text/plain": [
       "False"
      ]
     },
     "execution_count": 37,
     "metadata": {},
     "output_type": "execute_result"
    }
   ],
   "source": [
    "# output is false, why??\n",
    "77 in t3"
   ]
  },
  {
   "cell_type": "code",
   "execution_count": null,
   "id": "60c5f026-30a1-48eb-8d6a-53afaee5c3fc",
   "metadata": {},
   "outputs": [],
   "source": []
  }
 ],
 "metadata": {
  "kernelspec": {
   "display_name": "Python 3 (ipykernel)",
   "language": "python",
   "name": "python3"
  },
  "language_info": {
   "codemirror_mode": {
    "name": "ipython",
    "version": 3
   },
   "file_extension": ".py",
   "mimetype": "text/x-python",
   "name": "python",
   "nbconvert_exporter": "python",
   "pygments_lexer": "ipython3",
   "version": "3.10.8"
  }
 },
 "nbformat": 4,
 "nbformat_minor": 5
}
