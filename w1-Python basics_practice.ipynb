{
 "cells": [
  {
   "cell_type": "code",
   "execution_count": 2,
   "id": "8e05c772-7e1d-4d3e-8f7d-0bf676b2b462",
   "metadata": {},
   "outputs": [
    {
     "name": "stdout",
     "output_type": "stream",
     "text": [
      "hello to the programming world\n"
     ]
    }
   ],
   "source": [
    "print(\"hello to the programming world\")"
   ]
  },
  {
   "cell_type": "code",
   "execution_count": 2,
   "id": "50f20c6e-cb25-42e8-8490-60dcf3fed845",
   "metadata": {},
   "outputs": [
    {
     "name": "stdout",
     "output_type": "stream",
     "text": [
      "Good Morning!! We meet again\n"
     ]
    }
   ],
   "source": [
    "print(\"Good Morning!! We meet again\")"
   ]
  },
  {
   "cell_type": "code",
   "execution_count": 3,
   "id": "67d0eaac-a36b-4ac4-81e4-06d5ae47e5c8",
   "metadata": {},
   "outputs": [],
   "source": [
    "b = 20.4"
   ]
  },
  {
   "cell_type": "code",
   "execution_count": 4,
   "id": "1b65cb6f-ef75-4dd8-b45b-de39cf969099",
   "metadata": {},
   "outputs": [
    {
     "data": {
      "text/plain": [
       "20.4"
      ]
     },
     "execution_count": 4,
     "metadata": {},
     "output_type": "execute_result"
    }
   ],
   "source": [
    "b"
   ]
  },
  {
   "cell_type": "code",
   "execution_count": 12,
   "id": "d5d09452-01ab-4be2-b39f-757a3480d5b8",
   "metadata": {},
   "outputs": [],
   "source": [
    "d = 'Prisha'"
   ]
  },
  {
   "cell_type": "code",
   "execution_count": 6,
   "id": "cc736be2-9e12-42a0-840e-554b87b127bc",
   "metadata": {},
   "outputs": [
    {
     "data": {
      "text/plain": [
       "float"
      ]
     },
     "execution_count": 6,
     "metadata": {},
     "output_type": "execute_result"
    }
   ],
   "source": [
    "type(b)"
   ]
  },
  {
   "cell_type": "code",
   "execution_count": 9,
   "id": "5f0f3538-e98b-405e-bf92-2372e90b0d19",
   "metadata": {},
   "outputs": [
    {
     "data": {
      "text/plain": [
       "float"
      ]
     },
     "execution_count": 9,
     "metadata": {},
     "output_type": "execute_result"
    }
   ],
   "source": [
    "type(b)"
   ]
  },
  {
   "cell_type": "code",
   "execution_count": 11,
   "id": "36e2de4b-4c97-4f0c-a9e5-5c3bfeb9ef2d",
   "metadata": {},
   "outputs": [
    {
     "data": {
      "text/plain": [
       "str"
      ]
     },
     "execution_count": 11,
     "metadata": {},
     "output_type": "execute_result"
    }
   ],
   "source": [
    "type(d)"
   ]
  },
  {
   "cell_type": "code",
   "execution_count": 13,
   "id": "d5b2909e-c498-4bfd-a9b9-ae11afa38a8b",
   "metadata": {},
   "outputs": [
    {
     "data": {
      "text/plain": [
       "str"
      ]
     },
     "execution_count": 13,
     "metadata": {},
     "output_type": "execute_result"
    }
   ],
   "source": [
    "type(d)"
   ]
  },
  {
   "cell_type": "code",
   "execution_count": 14,
   "id": "01ddf5ec-ae24-42b3-9be7-2b83db51c072",
   "metadata": {},
   "outputs": [],
   "source": [
    "q = True"
   ]
  },
  {
   "cell_type": "code",
   "execution_count": 15,
   "id": "0d8c7e0c-8e9f-4e11-9443-48516c390b65",
   "metadata": {},
   "outputs": [
    {
     "data": {
      "text/plain": [
       "True"
      ]
     },
     "execution_count": 15,
     "metadata": {},
     "output_type": "execute_result"
    }
   ],
   "source": [
    "q"
   ]
  },
  {
   "cell_type": "code",
   "execution_count": null,
   "id": "54ba29ee-d746-42c1-b501-4c0f50101fa4",
   "metadata": {},
   "outputs": [],
   "source": []
  },
  {
   "cell_type": "code",
   "execution_count": 16,
   "id": "e04bc4a9-55d2-4c84-ba92-ae21a432984b",
   "metadata": {},
   "outputs": [
    {
     "data": {
      "text/plain": [
       "-1"
      ]
     },
     "execution_count": 16,
     "metadata": {},
     "output_type": "execute_result"
    }
   ],
   "source": [
    "False - True"
   ]
  },
  {
   "cell_type": "code",
   "execution_count": 18,
   "id": "cf0f390f-e67c-4624-852b-f4af4208382f",
   "metadata": {},
   "outputs": [],
   "source": [
    "w = 2+4j"
   ]
  },
  {
   "cell_type": "code",
   "execution_count": null,
   "id": "985da067-50ef-4dd7-b2c6-b718c6e9f6b4",
   "metadata": {},
   "outputs": [],
   "source": []
  },
  {
   "cell_type": "code",
   "execution_count": 19,
   "id": "4b58c0b2-7df7-411e-a5da-e0da144dc53d",
   "metadata": {},
   "outputs": [
    {
     "data": {
      "text/plain": [
       "complex"
      ]
     },
     "execution_count": 19,
     "metadata": {},
     "output_type": "execute_result"
    }
   ],
   "source": [
    "type(w)"
   ]
  },
  {
   "cell_type": "code",
   "execution_count": 20,
   "id": "c7959d05-5ecb-4438-bc17-cb5ce10bda4c",
   "metadata": {},
   "outputs": [
    {
     "data": {
      "text/plain": [
       "2.0"
      ]
     },
     "execution_count": 20,
     "metadata": {},
     "output_type": "execute_result"
    }
   ],
   "source": [
    "w.real"
   ]
  },
  {
   "cell_type": "code",
   "execution_count": 21,
   "id": "d0a1787b-b365-44b9-9dc0-6e3d3ddbe2c5",
   "metadata": {},
   "outputs": [
    {
     "data": {
      "text/plain": [
       "4.0"
      ]
     },
     "execution_count": 21,
     "metadata": {},
     "output_type": "execute_result"
    }
   ],
   "source": [
    "w.imag"
   ]
  },
  {
   "cell_type": "code",
   "execution_count": 22,
   "id": "373679e5-708c-4a68-ba4c-b8ece55e7fa4",
   "metadata": {},
   "outputs": [],
   "source": [
    "a1 = 5"
   ]
  },
  {
   "cell_type": "code",
   "execution_count": 23,
   "id": "7f29166e-8f38-4175-af46-2a565f39c7f9",
   "metadata": {},
   "outputs": [
    {
     "data": {
      "text/plain": [
       "5"
      ]
     },
     "execution_count": 23,
     "metadata": {},
     "output_type": "execute_result"
    }
   ],
   "source": [
    "a1"
   ]
  },
  {
   "cell_type": "code",
   "execution_count": 1,
   "id": "d86b305b-cf35-43e3-9ed0-888e0c2b5bd6",
   "metadata": {},
   "outputs": [],
   "source": [
    "l = [3, 5, 8, 200, 1000, \"anjali\", False, 5+10j]"
   ]
  },
  {
   "cell_type": "code",
   "execution_count": 2,
   "id": "de749e63-46be-46a4-a26d-ca7abc93e554",
   "metadata": {},
   "outputs": [
    {
     "data": {
      "text/plain": [
       "[3, 5, 8, 200, 1000, 'anjali', False, (5+10j)]"
      ]
     },
     "execution_count": 2,
     "metadata": {},
     "output_type": "execute_result"
    }
   ],
   "source": [
    "l"
   ]
  },
  {
   "cell_type": "code",
   "execution_count": 3,
   "id": "96ed911f-a39a-4860-97ca-95854067d063",
   "metadata": {},
   "outputs": [],
   "source": [
    "l[6] = \"viddyesh\""
   ]
  },
  {
   "cell_type": "code",
   "execution_count": 4,
   "id": "25400e0e-7526-4938-a93e-8c35e2d6fc67",
   "metadata": {},
   "outputs": [
    {
     "data": {
      "text/plain": [
       "[3, 5, 8, 200, 1000, 'anjali', 'viddyesh', (5+10j)]"
      ]
     },
     "execution_count": 4,
     "metadata": {},
     "output_type": "execute_result"
    }
   ],
   "source": [
    "l"
   ]
  },
  {
   "cell_type": "code",
   "execution_count": 5,
   "id": "95e9e40d-1d3d-4ee4-b499-9eb76cb90d5b",
   "metadata": {},
   "outputs": [],
   "source": [
    "l[5] = True"
   ]
  },
  {
   "cell_type": "code",
   "execution_count": 6,
   "id": "3c45fe3e-5e07-4685-af21-06eea18a50c4",
   "metadata": {},
   "outputs": [
    {
     "data": {
      "text/plain": [
       "[3, 5, 8, 200, 1000, True, 'viddyesh', (5+10j)]"
      ]
     },
     "execution_count": 6,
     "metadata": {},
     "output_type": "execute_result"
    }
   ],
   "source": [
    "l"
   ]
  },
  {
   "cell_type": "code",
   "execution_count": 8,
   "id": "3be7f17e-04ac-40dd-bb4b-a6d96e46f318",
   "metadata": {},
   "outputs": [],
   "source": [
    "l[7] = 0"
   ]
  },
  {
   "cell_type": "code",
   "execution_count": 9,
   "id": "08868048-ee87-40f1-973a-c0e4eff311b6",
   "metadata": {},
   "outputs": [
    {
     "data": {
      "text/plain": [
       "[3, 5, 8, 200, 1000, True, 'viddyesh', 0]"
      ]
     },
     "execution_count": 9,
     "metadata": {},
     "output_type": "execute_result"
    }
   ],
   "source": [
    "l"
   ]
  },
  {
   "cell_type": "code",
   "execution_count": 10,
   "id": "5b12ee95-db60-40af-b9a4-41e6b119434e",
   "metadata": {},
   "outputs": [],
   "source": [
    "a = 100"
   ]
  },
  {
   "cell_type": "code",
   "execution_count": 11,
   "id": "0d3567d8-173f-43aa-b6f9-1f61358d8e65",
   "metadata": {},
   "outputs": [
    {
     "name": "stdout",
     "output_type": "stream",
     "text": [
      "100\n"
     ]
    }
   ],
   "source": [
    "print(a)"
   ]
  },
  {
   "cell_type": "code",
   "execution_count": 12,
   "id": "5f163a9d-cfc1-4d8f-94e2-7744bdfb493f",
   "metadata": {},
   "outputs": [
    {
     "data": {
      "text/plain": [
       "100"
      ]
     },
     "execution_count": 12,
     "metadata": {},
     "output_type": "execute_result"
    }
   ],
   "source": [
    "a"
   ]
  },
  {
   "cell_type": "code",
   "execution_count": 13,
   "id": "fdbe11da-168e-4a77-8d96-556b9282d98d",
   "metadata": {},
   "outputs": [
    {
     "ename": "TypeError",
     "evalue": "'int' object does not support item assignment",
     "output_type": "error",
     "traceback": [
      "\u001b[0;31m---------------------------------------------------------------------------\u001b[0m",
      "\u001b[0;31mTypeError\u001b[0m                                 Traceback (most recent call last)",
      "Cell \u001b[0;32mIn[13], line 1\u001b[0m\n\u001b[0;32m----> 1\u001b[0m \u001b[43ma\u001b[49m\u001b[43m[\u001b[49m\u001b[38;5;241;43m1\u001b[39;49m\u001b[43m]\u001b[49m \u001b[38;5;241m=\u001b[39m \u001b[38;5;241m1\u001b[39m\n",
      "\u001b[0;31mTypeError\u001b[0m: 'int' object does not support item assignment"
     ]
    }
   ],
   "source": [
    "a[1] = 1"
   ]
  },
  {
   "cell_type": "code",
   "execution_count": 1,
   "id": "18fab096-81f8-43bf-a9f5-1a8d2a15d371",
   "metadata": {},
   "outputs": [
    {
     "data": {
      "text/plain": [
       "7"
      ]
     },
     "execution_count": 1,
     "metadata": {},
     "output_type": "execute_result"
    }
   ],
   "source": [
    "31 >> 2"
   ]
  },
  {
   "cell_type": "code",
   "execution_count": 2,
   "id": "956b3473-25fc-426a-bd6a-5b0605108cf2",
   "metadata": {},
   "outputs": [
    {
     "data": {
      "text/plain": [
       "'0b11111'"
      ]
     },
     "execution_count": 2,
     "metadata": {},
     "output_type": "execute_result"
    }
   ],
   "source": [
    "bin(31)"
   ]
  },
  {
   "cell_type": "code",
   "execution_count": 3,
   "id": "f0e3c4b6-f5b1-429e-8a62-1a9c47ac3a6b",
   "metadata": {},
   "outputs": [
    {
     "data": {
      "text/plain": [
       "'0b111'"
      ]
     },
     "execution_count": 3,
     "metadata": {},
     "output_type": "execute_result"
    }
   ],
   "source": [
    "bin(7)"
   ]
  },
  {
   "cell_type": "code",
   "execution_count": 4,
   "id": "208c6889-9c76-44ae-8dd6-6ad343e736d9",
   "metadata": {},
   "outputs": [
    {
     "data": {
      "text/plain": [
       "4294967296"
      ]
     },
     "execution_count": 4,
     "metadata": {},
     "output_type": "execute_result"
    }
   ],
   "source": [
    "2 << 31"
   ]
  },
  {
   "cell_type": "code",
   "execution_count": 5,
   "id": "de0538ee-1f51-4a01-acd9-c53a88ca3e0c",
   "metadata": {},
   "outputs": [
    {
     "data": {
      "text/plain": [
       "124"
      ]
     },
     "execution_count": 5,
     "metadata": {},
     "output_type": "execute_result"
    }
   ],
   "source": [
    "31<<2"
   ]
  },
  {
   "cell_type": "code",
   "execution_count": 10,
   "id": "938d59e1-c4e4-409d-8423-9261307be060",
   "metadata": {},
   "outputs": [
    {
     "data": {
      "text/plain": [
       "'0b11111'"
      ]
     },
     "execution_count": 10,
     "metadata": {},
     "output_type": "execute_result"
    }
   ],
   "source": [
    "bin(31)"
   ]
  },
  {
   "cell_type": "code",
   "execution_count": 11,
   "id": "dd34cfb3-36ec-4a75-af9c-56a7204e42b8",
   "metadata": {},
   "outputs": [
    {
     "data": {
      "text/plain": [
       "'0b1111100'"
      ]
     },
     "execution_count": 11,
     "metadata": {},
     "output_type": "execute_result"
    }
   ],
   "source": [
    "bin(124)"
   ]
  },
  {
   "cell_type": "code",
   "execution_count": 6,
   "id": "9dc4d364-0fd2-4556-afbb-c6f1cbe77c36",
   "metadata": {},
   "outputs": [
    {
     "data": {
      "text/plain": [
       "4294967296"
      ]
     },
     "execution_count": 6,
     "metadata": {},
     "output_type": "execute_result"
    }
   ],
   "source": [
    "2<<31"
   ]
  },
  {
   "cell_type": "code",
   "execution_count": 7,
   "id": "7c2dd097-db1c-4eb0-ad36-6cf12cba5c57",
   "metadata": {},
   "outputs": [
    {
     "data": {
      "text/plain": [
       "2"
      ]
     },
     "execution_count": 7,
     "metadata": {},
     "output_type": "execute_result"
    }
   ],
   "source": [
    "45>>4"
   ]
  },
  {
   "cell_type": "code",
   "execution_count": 8,
   "id": "a2b5ca20-9f31-47f8-9297-7d25193d0ee0",
   "metadata": {},
   "outputs": [
    {
     "data": {
      "text/plain": [
       "'0b101101'"
      ]
     },
     "execution_count": 8,
     "metadata": {},
     "output_type": "execute_result"
    }
   ],
   "source": [
    "bin(45)"
   ]
  },
  {
   "cell_type": "code",
   "execution_count": 9,
   "id": "0fc240af-a2ad-4ba7-a0c5-b2b0adde1d90",
   "metadata": {},
   "outputs": [
    {
     "data": {
      "text/plain": [
       "'0b10'"
      ]
     },
     "execution_count": 9,
     "metadata": {},
     "output_type": "execute_result"
    }
   ],
   "source": [
    "bin(2)"
   ]
  },
  {
   "cell_type": "code",
   "execution_count": 20,
   "id": "c81bad38-8d06-4b55-909b-c37515939df9",
   "metadata": {},
   "outputs": [
    {
     "name": "stdin",
     "output_type": "stream",
     "text": [
      "Enter your first no.: =  10\n"
     ]
    }
   ],
   "source": [
    "a = int(input(\"Enter your first no.: = \"))"
   ]
  },
  {
   "cell_type": "code",
   "execution_count": 21,
   "id": "17e82b78-d54f-40d6-931a-d0f14715b663",
   "metadata": {},
   "outputs": [
    {
     "name": "stdin",
     "output_type": "stream",
     "text": [
      "Enter your second no.: =  99\n"
     ]
    }
   ],
   "source": [
    "b = int(input(\"Enter your second no.: = \"))"
   ]
  },
  {
   "cell_type": "code",
   "execution_count": 22,
   "id": "14df5017-2f73-4b8e-9bcf-8c61d97351f1",
   "metadata": {},
   "outputs": [
    {
     "name": "stdin",
     "output_type": "stream",
     "text": [
      "Enter your third no.:=  200\n"
     ]
    }
   ],
   "source": [
    "c = int(input(\"Enter your third no.:= \"))"
   ]
  },
  {
   "cell_type": "code",
   "execution_count": 23,
   "id": "ddbd827b-7674-48bc-9353-f9cca8c04304",
   "metadata": {},
   "outputs": [
    {
     "name": "stdout",
     "output_type": "stream",
     "text": [
      "biggest no. is: 200\n"
     ]
    }
   ],
   "source": [
    "if a > b & a > c :\n",
    "    print(\"biggest no. is:\", a)\n",
    "elif b > c :\n",
    "    print(\"biggest no. is:\", b)\n",
    "else :\n",
    "    print(\"biggest no. is:\", c)\n",
    "    "
   ]
  },
  {
   "cell_type": "code",
   "execution_count": 27,
   "id": "3da245ef-673f-4269-b4b0-c9a596e589ee",
   "metadata": {},
   "outputs": [
    {
     "ename": "SyntaxError",
     "evalue": "invalid syntax (1815667867.py, line 2)",
     "output_type": "error",
     "traceback": [
      "\u001b[0;36m  Cell \u001b[0;32mIn[27], line 2\u001b[0;36m\u001b[0m\n\u001b[0;31m    for (i<25)\u001b[0m\n\u001b[0m               ^\u001b[0m\n\u001b[0;31mSyntaxError\u001b[0m\u001b[0;31m:\u001b[0m invalid syntax\n"
     ]
    }
   ],
   "source": [
    "i = 2\n",
    "for (i<25) \n",
    "    print(i)\n",
    "    i += 2"
   ]
  },
  {
   "cell_type": "code",
   "execution_count": null,
   "id": "08c5bb18-1e5c-4e73-a684-ad6bef37e931",
   "metadata": {},
   "outputs": [],
   "source": []
  },
  {
   "cell_type": "code",
   "execution_count": null,
   "id": "06e97502-dbe8-4c00-8022-64f743bb939b",
   "metadata": {},
   "outputs": [],
   "source": []
  },
  {
   "cell_type": "code",
   "execution_count": null,
   "id": "02d6ffc5-6ad4-476b-9f79-17e6dada5bd3",
   "metadata": {},
   "outputs": [],
   "source": []
  },
  {
   "cell_type": "code",
   "execution_count": null,
   "id": "d5cc2573-8b21-4d84-987a-cf5115eec3ed",
   "metadata": {},
   "outputs": [],
   "source": []
  },
  {
   "cell_type": "code",
   "execution_count": null,
   "id": "b788739a-4c76-4b78-b103-6ff809484f19",
   "metadata": {},
   "outputs": [],
   "source": []
  },
  {
   "cell_type": "code",
   "execution_count": null,
   "id": "0d3582ff-6427-4dc6-bd82-3db27b6f4443",
   "metadata": {},
   "outputs": [],
   "source": []
  },
  {
   "cell_type": "code",
   "execution_count": null,
   "id": "df1606f8-0919-4d96-be6a-c60f7fc1bbd3",
   "metadata": {},
   "outputs": [],
   "source": []
  },
  {
   "cell_type": "code",
   "execution_count": null,
   "id": "daab7265-6d0b-4449-91cd-037bbc7b577a",
   "metadata": {},
   "outputs": [],
   "source": []
  },
  {
   "cell_type": "code",
   "execution_count": null,
   "id": "9287de32-1c93-4d01-a7ed-9ca7f6cac120",
   "metadata": {},
   "outputs": [],
   "source": []
  },
  {
   "cell_type": "code",
   "execution_count": null,
   "id": "78b34959-5163-44e8-b356-de13e3707833",
   "metadata": {},
   "outputs": [],
   "source": []
  },
  {
   "cell_type": "code",
   "execution_count": null,
   "id": "bdc5b53e-68f4-43bf-9c43-a0565eb519b8",
   "metadata": {},
   "outputs": [],
   "source": []
  }
 ],
 "metadata": {
  "kernelspec": {
   "display_name": "Python 3 (ipykernel)",
   "language": "python",
   "name": "python3"
  },
  "language_info": {
   "codemirror_mode": {
    "name": "ipython",
    "version": 3
   },
   "file_extension": ".py",
   "mimetype": "text/x-python",
   "name": "python",
   "nbconvert_exporter": "python",
   "pygments_lexer": "ipython3",
   "version": "3.10.8"
  }
 },
 "nbformat": 4,
 "nbformat_minor": 5
}
